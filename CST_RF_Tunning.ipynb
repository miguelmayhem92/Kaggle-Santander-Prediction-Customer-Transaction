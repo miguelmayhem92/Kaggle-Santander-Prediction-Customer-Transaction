{
 "cells": [
  {
   "cell_type": "markdown",
   "metadata": {},
   "source": [
    "## Santander Customer Transactions predictions"
   ]
  },
  {
   "cell_type": "markdown",
   "metadata": {},
   "source": [
    "#BigDataSets#HighDimensionality#DataBalancing"
   ]
  },
  {
   "cell_type": "code",
   "execution_count": 1,
   "metadata": {},
   "outputs": [],
   "source": [
    "import pandas as pd\n",
    "import numpy as np\n",
    "from datetime import datetime\n",
    "from datetime import timedelta  \n",
    "import os\n",
    "import random\n",
    "import scipy as sp\n",
    "\n",
    "import matplotlib.pyplot as plt\n",
    "from mpl_toolkits.mplot3d import Axes3D\n",
    "import matplotlib.gridspec as gridspec\n",
    "\n",
    "import seaborn as sns; sns.set()"
   ]
  },
  {
   "cell_type": "code",
   "execution_count": 2,
   "metadata": {},
   "outputs": [],
   "source": [
    "from sklearn.preprocessing import StandardScaler"
   ]
  },
  {
   "cell_type": "code",
   "execution_count": 3,
   "metadata": {},
   "outputs": [],
   "source": [
    "import warnings\n",
    "warnings.filterwarnings('ignore')"
   ]
  },
  {
   "cell_type": "code",
   "execution_count": 4,
   "metadata": {},
   "outputs": [],
   "source": [
    "from functions import scaler, threeD_plot, mahalanobis, mahalanobis_vector_plot, compute_mahalanobis_parts , normal_augmentation, concentrated_augmentation\n",
    "from functions import augmentation_strategy, augmentation_selection_rates, metrics_train_validation, balance_validation, partitions\n",
    "from functions import unscaler, k_folds_indexs, model_fitting_kfold, weighting_models, jsontotable, plot_results, reconstructing_data"
   ]
  },
  {
   "cell_type": "code",
   "execution_count": 5,
   "metadata": {},
   "outputs": [],
   "source": [
    "from sklearn import svm\n",
    "from sklearn.neighbors import KNeighborsClassifier\n",
    "from sklearn.linear_model import LogisticRegression\n",
    "from sklearn.ensemble import RandomForestClassifier\n",
    "\n",
    "from sklearn.metrics import precision_score,accuracy_score,roc_auc_score, roc_curve, auc"
   ]
  },
  {
   "cell_type": "markdown",
   "metadata": {},
   "source": [
    "### Loading Data"
   ]
  },
  {
   "cell_type": "code",
   "execution_count": 6,
   "metadata": {},
   "outputs": [],
   "source": [
    "train = pd.read_csv('train.csv')\n",
    "ss = pd.read_csv('sample_submission.csv')\n",
    "test = pd.read_csv('test.csv')"
   ]
  },
  {
   "cell_type": "code",
   "execution_count": 7,
   "metadata": {},
   "outputs": [],
   "source": [
    "['var_4', 'var_12', 'var_46', 'var_78', 'var_81', 'var_110', 'var_152', 'var_175', 'var_183', 'var_199']\n",
    "numerical_features = ['var_4', 'var_12', 'var_46', 'var_78', 'var_81']"
   ]
  },
  {
   "cell_type": "markdown",
   "metadata": {},
   "source": [
    "<b> random split"
   ]
  },
  {
   "cell_type": "code",
   "execution_count": 8,
   "metadata": {},
   "outputs": [],
   "source": [
    "seed = 158\n",
    "validation_dataset = train.sample(frac = 0.25, replace = False, random_state = seed).reset_index(drop = True)\n",
    "validation_dataset = validation_dataset.copy()[['target'] + numerical_features]\n",
    "train_dataset = train[~train.index.isin(validation_dataset.index)].reset_index(drop = True)[['target'] + numerical_features]"
   ]
  },
  {
   "cell_type": "code",
   "execution_count": 9,
   "metadata": {},
   "outputs": [],
   "source": [
    "train_dataset = train_dataset[ ['target'] + numerical_features]\n",
    "\n",
    "means_train = np.mean(train_dataset[numerical_features])  ### Save this , over not scalled\n",
    "cov_train = np.cov(train_dataset[numerical_features].T) ### Save thisnot, over not scalled"
   ]
  },
  {
   "cell_type": "code",
   "execution_count": 10,
   "metadata": {},
   "outputs": [],
   "source": [
    "train_dataset_distance = compute_mahalanobis_parts(train_dataset, numerical_features, 20000,[True,True], means_train, cov_train )\n",
    "train_dataset_scaled, scalerx = scaler(train_dataset_distance)"
   ]
  },
  {
   "cell_type": "markdown",
   "metadata": {},
   "source": [
    "<b> validation_dataset is ussed as the test set"
   ]
  },
  {
   "cell_type": "markdown",
   "metadata": {},
   "source": [
    "<b> sectioning:"
   ]
  },
  {
   "cell_type": "code",
   "execution_count": 11,
   "metadata": {},
   "outputs": [],
   "source": [
    "train_section_1, train_section_2, train_section_3 = partitions(train_dataset_scaled)"
   ]
  },
  {
   "cell_type": "markdown",
   "metadata": {},
   "source": [
    "### Cross validation using K-fold and parameter tunning"
   ]
  },
  {
   "cell_type": "markdown",
   "metadata": {},
   "source": [
    "### Section 1"
   ]
  },
  {
   "cell_type": "code",
   "execution_count": 12,
   "metadata": {},
   "outputs": [
    {
     "data": {
      "text/plain": [
       "target\n",
       "0    14376\n",
       "1     2634\n",
       "Name: mahalanobis, dtype: int64"
      ]
     },
     "execution_count": 12,
     "metadata": {},
     "output_type": "execute_result"
    }
   ],
   "source": [
    "train_section_1.pivot_table(index = 'target', aggfunc = 'count')['mahalanobis']"
   ]
  },
  {
   "cell_type": "code",
   "execution_count": 13,
   "metadata": {},
   "outputs": [],
   "source": [
    "dict_1 = {'n':3600, 'range': [15,40], 'label': 2, 'rate': 0.65}  #random augmentation\n",
    "dict_2 = {'n':2000, 'label': 1} # augmetation on existing ones\n",
    "dict_3 = {'n':4000, 'range': [15,40], 'label': 4, 'category': 2} # augmetation on the previous ones\n",
    "\n",
    "unscld_train_section_1 =unscaler(train_section_1, scalerx)\n",
    "train_section_1_aug = augmentation_strategy(data = unscld_train_section_1, dict_1 = dict_1,dict_2 = dict_2, dict_3 = dict_3,\n",
    "                      gen_mean = means_train, gen_cov = cov_train, columns_features = numerical_features ).reset_index(drop = True)\n",
    "del unscld_train_section_1\n",
    "train_section_1_aug =  scaler(train_section_1_aug,scalerx)"
   ]
  },
  {
   "cell_type": "code",
   "execution_count": 14,
   "metadata": {},
   "outputs": [
    {
     "data": {
      "text/plain": [
       "target\n",
       "0    14376\n",
       "1     2634\n",
       "2     3600\n",
       "3     2000\n",
       "4     4000\n",
       "Name: mahalanobis, dtype: int64"
      ]
     },
     "execution_count": 14,
     "metadata": {},
     "output_type": "execute_result"
    }
   ],
   "source": [
    "train_section_1_aug.pivot_table(index = 'target', aggfunc = 'count')['mahalanobis']"
   ]
  },
  {
   "cell_type": "code",
   "execution_count": 15,
   "metadata": {},
   "outputs": [
    {
     "data": {
      "text/plain": [
       "count    26610.000000\n",
       "mean         3.544669\n",
       "std          2.845342\n",
       "min          1.269392\n",
       "25%          1.612181\n",
       "50%          2.166799\n",
       "75%          4.507775\n",
       "max         12.396547\n",
       "Name: mahalanobis, dtype: float64"
      ]
     },
     "execution_count": 15,
     "metadata": {},
     "output_type": "execute_result"
    }
   ],
   "source": [
    "train_section_1_aug['mahalanobis'].describe()"
   ]
  },
  {
   "cell_type": "markdown",
   "metadata": {},
   "source": [
    "<b> Data splitting strategy"
   ]
  },
  {
   "cell_type": "code",
   "execution_count": 16,
   "metadata": {},
   "outputs": [],
   "source": [
    "kfolds_touse = k_folds_indexs(train_section_1_aug, folds = 5, balanced = True, validation_additional_false = 1000, validation_reduce_false = 6000)"
   ]
  },
  {
   "cell_type": "code",
   "execution_count": 17,
   "metadata": {},
   "outputs": [
    {
     "data": {
      "text/plain": [
       "target\n",
       "0    6851\n",
       "1    2109\n",
       "2    3600\n",
       "3    2000\n",
       "4    4000\n",
       "Name: mahalanobis, dtype: int64"
      ]
     },
     "execution_count": 17,
     "metadata": {},
     "output_type": "execute_result"
    }
   ],
   "source": [
    "train_section_1_aug[train_section_1_aug.index.isin(kfolds_touse['fold 3']['train index'])].pivot_table(index = 'target', aggfunc = 'count')['mahalanobis']"
   ]
  },
  {
   "cell_type": "code",
   "execution_count": 18,
   "metadata": {},
   "outputs": [
    {
     "data": {
      "text/plain": [
       "18560"
      ]
     },
     "execution_count": 18,
     "metadata": {},
     "output_type": "execute_result"
    }
   ],
   "source": [
    "len(train_section_1_aug[train_section_1_aug.index.isin(kfolds_touse['fold 3']['train index'])])"
   ]
  },
  {
   "cell_type": "markdown",
   "metadata": {},
   "source": [
    "<b> tunning strategy"
   ]
  },
  {
   "cell_type": "code",
   "execution_count": 19,
   "metadata": {},
   "outputs": [],
   "source": [
    "features_to_use = numerical_features + ['mahalanobis']"
   ]
  },
  {
   "cell_type": "markdown",
   "metadata": {},
   "source": [
    "#### Section 1: Random Forest"
   ]
  },
  {
   "cell_type": "markdown",
   "metadata": {},
   "source": [
    "First Try: broad search "
   ]
  },
  {
   "cell_type": "code",
   "execution_count": null,
   "metadata": {},
   "outputs": [],
   "source": [
    "my_rf_models = list()\n",
    "number_of_machines = 20\n",
    "machines_labels = [f'machine-{x}' for x in range(1,number_of_machines +1) ]\n",
    "\n",
    "parameters = { 'Machine':machines_labels,\n",
    "    'n_estimators' : [100, 500, 250, 1500, 750, 450,150, 250, 350, 450, 850, 950, 440, 550, 660, 370, 900, 330, 440, 510],\n",
    "    'max_depth' : [15, 20, 35, 20, 10, 45, 25,35, 75, 65, 18, 29, 35, 45, 25, 55, 60, 65, 15, 65],        \n",
    "    'min_samples_split' : [10, 20, 30, 15, 25, 35, 60, 15, 20, 36, 50, 60, 24, 35, 15, 12, 24, 22, 44, 18], \n",
    "    'min_samples_leaf': [4, 6, 10, 2, 20, 35, 12, 30, 18, 10, 14, 8, 10, 22, 17, 32, 8, 15, 26, 35],\n",
    " 'rate_aug': [0.5, 0.25, 1.0, 0.0, 0.65, 0.48, 0.9, 0.6, 0.2, 0.1, 0.8, 0.6, 0.4, 0.55, 0.10, 0.3, 0.5, 0.44, 0.3, 0.2],\n",
    " 'sample_aug': [0.9, 0.9, 0.9, 0.9, 0.9, 0.9, 0.9, 0.9, 0.9, 0.9, 0.9, 0.9, 0.9, 0.9, 0.9, 0.9, 0.9, 0.9, 0.9, 0.9] }\n",
    "\n",
    "for i in range(number_of_machines):\n",
    "    n_estimators_param = parameters['n_estimators'][i]\n",
    "    max_depth_param = parameters['max_depth'][i]\n",
    "    min_samples_split_param = parameters['min_samples_split'][i]\n",
    "    min_samples_leaf_param = parameters['min_samples_leaf'][i]\n",
    "    \n",
    "    my_rf = RandomForestClassifier(n_estimators = n_estimators_param , max_depth = max_depth_param, \n",
    "                                   min_samples_split = min_samples_split_param, min_samples_leaf = min_samples_leaf_param)\n",
    "    my_rf_models.append(my_rf)\n",
    "\n",
    "parameters_df = pd.DataFrame(parameters)  "
   ]
  },
  {
   "cell_type": "code",
   "execution_count": null,
   "metadata": {},
   "outputs": [],
   "source": [
    "result_tunning = model_fitting_kfold(models = my_rf_models , indexes_kfolds = kfolds_touse, features = features_to_use, train_data = train_section_1_aug,\n",
    "                           rate_aug = parameters['rate_aug'], sample_aug = parameters['sample_aug'])"
   ]
  },
  {
   "cell_type": "code",
   "execution_count": 33,
   "metadata": {},
   "outputs": [],
   "source": [
    "toplot_result = jsontotable(result_tunning[0], typex = 'Validation')"
   ]
  },
  {
   "cell_type": "code",
   "execution_count": 34,
   "metadata": {},
   "outputs": [
    {
     "data": {
      "image/png": "[encoded data removed]",
      "text/plain": [
       "<Figure size 1080x720 with 2 Axes>"
      ]
     },
     "metadata": {},
     "output_type": "display_data"
    }
   ],
   "source": [
    "plot_results(toplot_result)"
   ]
  },
  {
   "cell_type": "code",
   "execution_count": 35,
   "metadata": {},
   "outputs": [
    {
     "data": {
      "text/html": [
       "<div>\n",
       "<style scoped>\n",
       "    .dataframe tbody tr th:only-of-type {\n",
       "        vertical-align: middle;\n",
       "    }\n",
       "\n",
       "    .dataframe tbody tr th {\n",
       "        vertical-align: top;\n",
       "    }\n",
       "\n",
       "    .dataframe thead th {\n",
       "        text-align: right;\n",
       "    }\n",
       "</style>\n",
       "<table border=\"1\" class=\"dataframe\">\n",
       "  <thead>\n",
       "    <tr style=\"text-align: right;\">\n",
       "      <th></th>\n",
       "      <th>Machine</th>\n",
       "      <th>n_estimators</th>\n",
       "      <th>max_depth</th>\n",
       "      <th>min_samples_split</th>\n",
       "      <th>min_samples_leaf</th>\n",
       "      <th>rate_aug</th>\n",
       "      <th>sample_aug</th>\n",
       "    </tr>\n",
       "  </thead>\n",
       "  <tbody>\n",
       "    <tr>\n",
       "      <th>2</th>\n",
       "      <td>machine-3</td>\n",
       "      <td>250</td>\n",
       "      <td>35</td>\n",
       "      <td>30</td>\n",
       "      <td>10</td>\n",
       "      <td>1.0</td>\n",
       "      <td>0.9</td>\n",
       "    </tr>\n",
       "  </tbody>\n",
       "</table>\n",
       "</div>"
      ],
      "text/plain": [
       "     Machine  n_estimators  max_depth  min_samples_split  min_samples_leaf  \\\n",
       "2  machine-3           250         35                 30                10   \n",
       "\n",
       "   rate_aug  sample_aug  \n",
       "2       1.0         0.9  "
      ]
     },
     "execution_count": 35,
     "metadata": {},
     "output_type": "execute_result"
    }
   ],
   "source": [
    "parameters_df[parameters_df.Machine == 'machine-3']"
   ]
  },
  {
   "cell_type": "markdown",
   "metadata": {},
   "source": [
    "second try: reduced scope"
   ]
  },
  {
   "cell_type": "code",
   "execution_count": 42,
   "metadata": {},
   "outputs": [],
   "source": [
    "my_rf_models = list()\n",
    "number_of_machines = 5\n",
    "machines_labels = [f'machine-{x}' for x in range(1,number_of_machines +1) ]\n",
    "\n",
    "parameters = { 'Machine':machines_labels,\n",
    "    'n_estimators' : [ 250, 300, 230, 280, 200],\n",
    "    'max_depth' : [ 35, 30, 28, 25, 30],        \n",
    "    'min_samples_split' : [ 30, 28, 34, 40, 25], \n",
    "    'min_samples_leaf': [ 10, 12, 8, 18, 5 ],\n",
    " 'rate_aug': [ 1.0, 0.9, 1.0, 1.0, 1.0 ],\n",
    " 'sample_aug': [ 0.9, 0.9, 0.9, 0.9, 0.9] }\n",
    "\n",
    "for i in range(number_of_machines):\n",
    "    n_estimators_param = parameters['n_estimators'][i]\n",
    "    max_depth_param = parameters['max_depth'][i]\n",
    "    min_samples_split_param = parameters['min_samples_split'][i]\n",
    "    min_samples_leaf_param = parameters['min_samples_leaf'][i]\n",
    "    \n",
    "    my_rf = RandomForestClassifier(n_estimators = n_estimators_param , max_depth = max_depth_param, \n",
    "                                   min_samples_split = min_samples_split_param, min_samples_leaf = min_samples_leaf_param)\n",
    "    my_rf_models.append(my_rf)\n",
    "\n",
    "parameters_df = pd.DataFrame(parameters)"
   ]
  },
  {
   "cell_type": "code",
   "execution_count": 45,
   "metadata": {},
   "outputs": [
    {
     "name": "stdout",
     "output_type": "stream",
     "text": [
      "done machine 1\n",
      "done machine 2\n",
      "done machine 3\n",
      "done machine 4\n",
      "done machine 5\n"
     ]
    }
   ],
   "source": [
    "result_tunning = model_fitting_kfold(models = my_rf_models , indexes_kfolds = kfolds_touse, features = features_to_use, train_data = train_section_1_aug,\n",
    "                           rate_aug = parameters['rate_aug'], sample_aug = parameters['sample_aug'])"
   ]
  },
  {
   "cell_type": "code",
   "execution_count": 46,
   "metadata": {},
   "outputs": [],
   "source": [
    "toplot_result = jsontotable(result_tunning[0], typex = 'Validation')"
   ]
  },
  {
   "cell_type": "code",
   "execution_count": 47,
   "metadata": {},
   "outputs": [
    {
     "data": {
      "image/png": "[encoded data removed]",
      "text/plain": [
       "<Figure size 1080x720 with 2 Axes>"
      ]
     },
     "metadata": {},
     "output_type": "display_data"
    }
   ],
   "source": [
    "plot_results(toplot_result)"
   ]
  },
  {
   "cell_type": "code",
   "execution_count": 49,
   "metadata": {},
   "outputs": [
    {
     "data": {
      "text/html": [
       "<div>\n",
       "<style scoped>\n",
       "    .dataframe tbody tr th:only-of-type {\n",
       "        vertical-align: middle;\n",
       "    }\n",
       "\n",
       "    .dataframe tbody tr th {\n",
       "        vertical-align: top;\n",
       "    }\n",
       "\n",
       "    .dataframe thead th {\n",
       "        text-align: right;\n",
       "    }\n",
       "</style>\n",
       "<table border=\"1\" class=\"dataframe\">\n",
       "  <thead>\n",
       "    <tr style=\"text-align: right;\">\n",
       "      <th></th>\n",
       "      <th>Machine</th>\n",
       "      <th>n_estimators</th>\n",
       "      <th>max_depth</th>\n",
       "      <th>min_samples_split</th>\n",
       "      <th>min_samples_leaf</th>\n",
       "      <th>rate_aug</th>\n",
       "      <th>sample_aug</th>\n",
       "    </tr>\n",
       "  </thead>\n",
       "  <tbody>\n",
       "    <tr>\n",
       "      <th>4</th>\n",
       "      <td>machine-5</td>\n",
       "      <td>200</td>\n",
       "      <td>30</td>\n",
       "      <td>25</td>\n",
       "      <td>5</td>\n",
       "      <td>1.0</td>\n",
       "      <td>0.9</td>\n",
       "    </tr>\n",
       "  </tbody>\n",
       "</table>\n",
       "</div>"
      ],
      "text/plain": [
       "     Machine  n_estimators  max_depth  min_samples_split  min_samples_leaf  \\\n",
       "4  machine-5           200         30                 25                 5   \n",
       "\n",
       "   rate_aug  sample_aug  \n",
       "4       1.0         0.9  "
      ]
     },
     "execution_count": 49,
     "metadata": {},
     "output_type": "execute_result"
    }
   ],
   "source": [
    "parameters_df[parameters_df.Machine == 'machine-5']"
   ]
  },
  {
   "cell_type": "code",
   "execution_count": 51,
   "metadata": {},
   "outputs": [],
   "source": [
    "my_rf_models = list()\n",
    "number_of_machines = 6\n",
    "machines_labels = [f'machine-{x}' for x in range(1,number_of_machines +1) ]\n",
    "\n",
    "parameters = { 'Machine':machines_labels,\n",
    "    'n_estimators' : [ 200, 210, 190, 180, 205, 195],\n",
    "    'max_depth' : [30, 27, 32, 25, 35, 35],        \n",
    "    'min_samples_split' : [ 25, 24, 21, 29, 35, 20], \n",
    "    'min_samples_leaf': [5, 4, 1, 10, 7, 4],\n",
    " 'rate_aug': [ 1.0 ,1.0, 1.0,1.0, 1.0, 1.0],\n",
    " 'sample_aug': [ 0.9, 0.9, 0.9, 0.9, 0.9, 0.9,] }\n",
    "\n",
    "for i in range(number_of_machines):\n",
    "    n_estimators_param = parameters['n_estimators'][i]\n",
    "    max_depth_param = parameters['max_depth'][i]\n",
    "    min_samples_split_param = parameters['min_samples_split'][i]\n",
    "    min_samples_leaf_param = parameters['min_samples_leaf'][i]\n",
    "    \n",
    "    my_rf = RandomForestClassifier(n_estimators = n_estimators_param , max_depth = max_depth_param, \n",
    "                                   min_samples_split = min_samples_split_param, min_samples_leaf = min_samples_leaf_param)\n",
    "    my_rf_models.append(my_rf)\n",
    "\n",
    "parameters_df = pd.DataFrame(parameters)"
   ]
  },
  {
   "cell_type": "code",
   "execution_count": 52,
   "metadata": {},
   "outputs": [
    {
     "name": "stdout",
     "output_type": "stream",
     "text": [
      "done machine 1\n",
      "done machine 2\n",
      "done machine 3\n",
      "done machine 4\n",
      "done machine 5\n",
      "done machine 6\n"
     ]
    }
   ],
   "source": [
    "result_tunning = model_fitting_kfold(models = my_rf_models , indexes_kfolds = kfolds_touse, features = features_to_use, train_data = train_section_1_aug,\n",
    "                           rate_aug = parameters['rate_aug'], sample_aug = parameters['sample_aug'])"
   ]
  },
  {
   "cell_type": "code",
   "execution_count": 54,
   "metadata": {},
   "outputs": [],
   "source": [
    "toplot_result = jsontotable(result_tunning[0], typex = 'Validation')"
   ]
  },
  {
   "cell_type": "code",
   "execution_count": 55,
   "metadata": {},
   "outputs": [
    {
     "data": {
      "image/png": "[encoded data removed]",
      "text/plain": [
       "<Figure size 1080x720 with 2 Axes>"
      ]
     },
     "metadata": {},
     "output_type": "display_data"
    }
   ],
   "source": [
    "plot_results(toplot_result)"
   ]
  },
  {
   "cell_type": "code",
   "execution_count": 56,
   "metadata": {},
   "outputs": [
    {
     "data": {
      "text/html": [
       "<div>\n",
       "<style scoped>\n",
       "    .dataframe tbody tr th:only-of-type {\n",
       "        vertical-align: middle;\n",
       "    }\n",
       "\n",
       "    .dataframe tbody tr th {\n",
       "        vertical-align: top;\n",
       "    }\n",
       "\n",
       "    .dataframe thead th {\n",
       "        text-align: right;\n",
       "    }\n",
       "</style>\n",
       "<table border=\"1\" class=\"dataframe\">\n",
       "  <thead>\n",
       "    <tr style=\"text-align: right;\">\n",
       "      <th></th>\n",
       "      <th>Machine</th>\n",
       "      <th>n_estimators</th>\n",
       "      <th>max_depth</th>\n",
       "      <th>min_samples_split</th>\n",
       "      <th>min_samples_leaf</th>\n",
       "      <th>rate_aug</th>\n",
       "      <th>sample_aug</th>\n",
       "    </tr>\n",
       "  </thead>\n",
       "  <tbody>\n",
       "    <tr>\n",
       "      <th>2</th>\n",
       "      <td>machine-3</td>\n",
       "      <td>190</td>\n",
       "      <td>32</td>\n",
       "      <td>21</td>\n",
       "      <td>1</td>\n",
       "      <td>1.0</td>\n",
       "      <td>0.9</td>\n",
       "    </tr>\n",
       "  </tbody>\n",
       "</table>\n",
       "</div>"
      ],
      "text/plain": [
       "     Machine  n_estimators  max_depth  min_samples_split  min_samples_leaf  \\\n",
       "2  machine-3           190         32                 21                 1   \n",
       "\n",
       "   rate_aug  sample_aug  \n",
       "2       1.0         0.9  "
      ]
     },
     "execution_count": 56,
     "metadata": {},
     "output_type": "execute_result"
    }
   ],
   "source": [
    "parameters_df[parameters_df.Machine == 'machine-3']"
   ]
  },
  {
   "cell_type": "markdown",
   "metadata": {},
   "source": [
    "<b >Final Tunning"
   ]
  },
  {
   "cell_type": "code",
   "execution_count": 20,
   "metadata": {},
   "outputs": [],
   "source": [
    "my_rf_models = list()\n",
    "number_of_machines = 6\n",
    "machines_labels = [f'machine-{x}' for x in range(1,number_of_machines +1) ]\n",
    "\n",
    "parameters = { 'Machine':machines_labels,\n",
    "    'n_estimators' : [ 190, 185, 195, 170, 190, 180],\n",
    "    'max_depth' : [ 32, 35, 30, 28, 30, 28],        \n",
    "    'min_samples_split' : [  21, 18, 20, 15, 25, 20], \n",
    "    'min_samples_leaf': [ 1, 4, 2, 4, 1, 1],\n",
    " 'rate_aug': [ 1.0 ,1.0, 1.0,1.0, 1.0, 1.0],\n",
    " 'sample_aug': [ 0.9, 0.9, 0.9, 0.9, 0.9, 0.9,] }\n",
    "\n",
    "for i in range(number_of_machines):\n",
    "    n_estimators_param = parameters['n_estimators'][i]\n",
    "    max_depth_param = parameters['max_depth'][i]\n",
    "    min_samples_split_param = parameters['min_samples_split'][i]\n",
    "    min_samples_leaf_param = parameters['min_samples_leaf'][i]\n",
    "    \n",
    "    my_rf = RandomForestClassifier(n_estimators = n_estimators_param , max_depth = max_depth_param, \n",
    "                                   min_samples_split = min_samples_split_param, min_samples_leaf = min_samples_leaf_param)\n",
    "    my_rf_models.append(my_rf)\n",
    "\n",
    "parameters_df = pd.DataFrame(parameters)"
   ]
  },
  {
   "cell_type": "code",
   "execution_count": 21,
   "metadata": {},
   "outputs": [
    {
     "name": "stdout",
     "output_type": "stream",
     "text": [
      "done machine 1\n",
      "done machine 2\n",
      "done machine 3\n",
      "done machine 4\n",
      "done machine 5\n",
      "done machine 6\n"
     ]
    }
   ],
   "source": [
    "result_tunning, modelsTrained_section_1 = model_fitting_kfold(models = my_rf_models , indexes_kfolds = kfolds_touse, features = features_to_use, train_data = train_section_1_aug,\n",
    "                           rate_aug = parameters['rate_aug'], sample_aug = parameters['sample_aug'], save_model = True, save_nro_machine = 1)"
   ]
  },
  {
   "cell_type": "code",
   "execution_count": 22,
   "metadata": {},
   "outputs": [],
   "source": [
    "toplot_result = jsontotable(result_tunning, typex = 'Validation')"
   ]
  },
  {
   "cell_type": "code",
   "execution_count": 23,
   "metadata": {},
   "outputs": [
    {
     "data": {
      "image/png": "[encoded data removed]",
      "text/plain": [
       "<Figure size 1080x720 with 2 Axes>"
      ]
     },
     "metadata": {},
     "output_type": "display_data"
    }
   ],
   "source": [
    "plot_results(toplot_result)"
   ]
  },
  {
   "cell_type": "code",
   "execution_count": 24,
   "metadata": {},
   "outputs": [
    {
     "data": {
      "text/html": [
       "<div>\n",
       "<style scoped>\n",
       "    .dataframe tbody tr th:only-of-type {\n",
       "        vertical-align: middle;\n",
       "    }\n",
       "\n",
       "    .dataframe tbody tr th {\n",
       "        vertical-align: top;\n",
       "    }\n",
       "\n",
       "    .dataframe thead th {\n",
       "        text-align: right;\n",
       "    }\n",
       "</style>\n",
       "<table border=\"1\" class=\"dataframe\">\n",
       "  <thead>\n",
       "    <tr style=\"text-align: right;\">\n",
       "      <th></th>\n",
       "      <th>Machine</th>\n",
       "      <th>n_estimators</th>\n",
       "      <th>max_depth</th>\n",
       "      <th>min_samples_split</th>\n",
       "      <th>min_samples_leaf</th>\n",
       "      <th>rate_aug</th>\n",
       "      <th>sample_aug</th>\n",
       "    </tr>\n",
       "  </thead>\n",
       "  <tbody>\n",
       "    <tr>\n",
       "      <th>0</th>\n",
       "      <td>machine-1</td>\n",
       "      <td>190</td>\n",
       "      <td>32</td>\n",
       "      <td>21</td>\n",
       "      <td>1</td>\n",
       "      <td>1.0</td>\n",
       "      <td>0.9</td>\n",
       "    </tr>\n",
       "  </tbody>\n",
       "</table>\n",
       "</div>"
      ],
      "text/plain": [
       "     Machine  n_estimators  max_depth  min_samples_split  min_samples_leaf  \\\n",
       "0  machine-1           190         32                 21                 1   \n",
       "\n",
       "   rate_aug  sample_aug  \n",
       "0       1.0         0.9  "
      ]
     },
     "execution_count": 24,
     "metadata": {},
     "output_type": "execute_result"
    }
   ],
   "source": [
    "parameters_df[parameters_df.Machine == 'machine-1']"
   ]
  },
  {
   "cell_type": "code",
   "execution_count": 25,
   "metadata": {},
   "outputs": [],
   "source": [
    "weight_data = train_section_1_aug[train_section_1_aug.target.isin([0,1])]"
   ]
  },
  {
   "cell_type": "code",
   "execution_count": 26,
   "metadata": {},
   "outputs": [],
   "source": [
    "weighted_section_1_model = weighting_models(models = modelsTrained_section_1 , features = features_to_use, data = weight_data)\n",
    "result = weighting_models(models = modelsTrained_section_1 , features = features_to_use, data = weight_data, trained_model = weighted_section_1_model)"
   ]
  },
  {
   "cell_type": "code",
   "execution_count": 27,
   "metadata": {},
   "outputs": [
    {
     "data": {
      "text/plain": [
       "0.8867964260859975"
      ]
     },
     "execution_count": 27,
     "metadata": {},
     "output_type": "execute_result"
    }
   ],
   "source": [
    "roc_auc_score(weight_data.target.values,result)"
   ]
  },
  {
   "cell_type": "markdown",
   "metadata": {},
   "source": [
    "### Section 2"
   ]
  },
  {
   "cell_type": "code",
   "execution_count": 28,
   "metadata": {},
   "outputs": [
    {
     "data": {
      "text/plain": [
       "target\n",
       "0    56283\n",
       "1     6773\n",
       "Name: mahalanobis, dtype: int64"
      ]
     },
     "execution_count": 28,
     "metadata": {},
     "output_type": "execute_result"
    }
   ],
   "source": [
    "train_section_2.pivot_table(index = 'target', aggfunc = 'count')['mahalanobis']"
   ]
  },
  {
   "cell_type": "code",
   "execution_count": 29,
   "metadata": {},
   "outputs": [],
   "source": [
    "dict_1 = {'n':7600, 'range': [9,15], 'label': 2, 'rate': 0.65}  #random augmentation\n",
    "dict_2 = {'n':6000, 'label': 1} # augmetation on existing ones\n",
    "dict_3 = {'n':6500, 'range': [9,15], 'label': 4, 'category': 2} # augmetation on the previous ones\n",
    "\n",
    "unscld_train_section_2 =unscaler(train_section_2, scalerx)\n",
    "train_section_2_aug = augmentation_strategy(data = unscld_train_section_2, dict_1 = dict_1,dict_2 = dict_2, dict_3 = dict_3,\n",
    "                      gen_mean = means_train, gen_cov = cov_train, columns_features = numerical_features ).reset_index(drop = True)\n",
    "del unscld_train_section_2\n",
    "train_section_2_aug =  scaler(train_section_2_aug,scalerx)"
   ]
  },
  {
   "cell_type": "code",
   "execution_count": 30,
   "metadata": {},
   "outputs": [
    {
     "data": {
      "text/plain": [
       "target\n",
       "0    56283\n",
       "1     6773\n",
       "2     7600\n",
       "3     6000\n",
       "4     6500\n",
       "Name: mahalanobis, dtype: int64"
      ]
     },
     "execution_count": 30,
     "metadata": {},
     "output_type": "execute_result"
    }
   ],
   "source": [
    "train_section_2_aug.pivot_table(index = 'target', aggfunc = 'count')['mahalanobis']"
   ]
  },
  {
   "cell_type": "code",
   "execution_count": 31,
   "metadata": {},
   "outputs": [
    {
     "data": {
      "text/plain": [
       "count    83156.000000\n",
       "mean         0.733764\n",
       "std          0.901687\n",
       "min         -0.253833\n",
       "25%          0.077222\n",
       "50%          0.476140\n",
       "75%          1.020151\n",
       "max          3.543129\n",
       "Name: mahalanobis, dtype: float64"
      ]
     },
     "execution_count": 31,
     "metadata": {},
     "output_type": "execute_result"
    }
   ],
   "source": [
    "train_section_2_aug['mahalanobis'].describe()"
   ]
  },
  {
   "cell_type": "markdown",
   "metadata": {},
   "source": [
    "<b> Data splitting strategy"
   ]
  },
  {
   "cell_type": "code",
   "execution_count": 32,
   "metadata": {},
   "outputs": [],
   "source": [
    "kfolds_touse = k_folds_indexs(train_section_2_aug, folds = 5, balanced = True, validation_additional_false = 1000, validation_reduce_false = 25000)"
   ]
  },
  {
   "cell_type": "code",
   "execution_count": 33,
   "metadata": {},
   "outputs": [
    {
     "data": {
      "text/plain": [
       "target\n",
       "0    28941\n",
       "1     5431\n",
       "2     7600\n",
       "3     6000\n",
       "4     6500\n",
       "Name: mahalanobis, dtype: int64"
      ]
     },
     "execution_count": 33,
     "metadata": {},
     "output_type": "execute_result"
    }
   ],
   "source": [
    "train_section_2_aug[train_section_2_aug.index.isin(kfolds_touse['fold 3']['train index'])].pivot_table(index = 'target', aggfunc = 'count')['mahalanobis']"
   ]
  },
  {
   "cell_type": "code",
   "execution_count": 34,
   "metadata": {},
   "outputs": [
    {
     "data": {
      "text/plain": [
       "54472"
      ]
     },
     "execution_count": 34,
     "metadata": {},
     "output_type": "execute_result"
    }
   ],
   "source": [
    "len(train_section_2_aug[train_section_2_aug.index.isin(kfolds_touse['fold 3']['train index'])])"
   ]
  },
  {
   "cell_type": "markdown",
   "metadata": {},
   "source": [
    "<b> tunning strategy"
   ]
  },
  {
   "cell_type": "code",
   "execution_count": 35,
   "metadata": {},
   "outputs": [],
   "source": [
    "features_to_use = numerical_features + ['mahalanobis']"
   ]
  },
  {
   "cell_type": "markdown",
   "metadata": {},
   "source": [
    "#### Section 2: Random Forest"
   ]
  },
  {
   "cell_type": "markdown",
   "metadata": {},
   "source": [
    "First Try: broad search "
   ]
  },
  {
   "cell_type": "code",
   "execution_count": 30,
   "metadata": {},
   "outputs": [],
   "source": [
    "my_rf_models = list()\n",
    "number_of_machines = 20\n",
    "machines_labels = [f'machine-{x}' for x in range(1,number_of_machines +1) ]\n",
    "\n",
    "parameters = { 'Machine':machines_labels,\n",
    "    'n_estimators' : [100, 500, 250, 1500, 750, 450,150, 250, 350, 450, 850, 950, 440, 550, 660, 370, 900, 330, 440, 510],\n",
    "    'max_depth' : [15, 20, 35, 20, 10, 45, 25,35, 75, 65, 18, 29, 35, 45, 25, 55, 60, 65, 15, 65],        \n",
    "    'min_samples_split' : [10, 20, 30, 15, 25, 35, 60, 15, 20, 36, 50, 60, 24, 35, 15, 12, 24, 22, 44, 18], \n",
    "    'min_samples_leaf': [4, 6, 10, 2, 20, 35, 12, 30, 18, 10, 14, 8, 10, 22, 17, 32, 8, 15, 26, 35],\n",
    " 'rate_aug': [0.5, 0.25, 1.0, 0.0, 0.65, 0.48, 0.9, 0.6, 0.2, 0.1, 0.8, 0.6, 0.4, 0.55, 0.10, 0.3, 0.5, 0.44, 0.3, 0.2],\n",
    " 'sample_aug': [0.7, 0.7, 0.7, 0.7, 0.7, 0.7, 0.7, 0.7, 0.7, 0.7, 0.7, 0.7, 0.7, 0.7, 0.7, 0.7, 0.7, 0.7, 0.7, 0.7] }\n",
    "\n",
    "for i in range(number_of_machines):\n",
    "    n_estimators_param = parameters['n_estimators'][i]\n",
    "    max_depth_param = parameters['max_depth'][i]\n",
    "    min_samples_split_param = parameters['min_samples_split'][i]\n",
    "    min_samples_leaf_param = parameters['min_samples_leaf'][i]\n",
    "    \n",
    "    my_rf = RandomForestClassifier(n_estimators = n_estimators_param , max_depth = max_depth_param, \n",
    "                                   min_samples_split = min_samples_split_param, min_samples_leaf = min_samples_leaf_param)\n",
    "    my_rf_models.append(my_rf)\n",
    "\n",
    "parameters_df = pd.DataFrame(parameters)  "
   ]
  },
  {
   "cell_type": "code",
   "execution_count": 31,
   "metadata": {},
   "outputs": [
    {
     "name": "stdout",
     "output_type": "stream",
     "text": [
      "done machine 1\n",
      "done machine 2\n",
      "done machine 3\n",
      "done machine 4\n",
      "done machine 5\n",
      "done machine 6\n",
      "done machine 7\n",
      "done machine 8\n",
      "done machine 9\n",
      "done machine 10\n",
      "done machine 11\n",
      "done machine 12\n",
      "done machine 13\n",
      "done machine 14\n",
      "done machine 15\n",
      "done machine 16\n",
      "done machine 17\n",
      "done machine 18\n",
      "done machine 19\n",
      "done machine 20\n"
     ]
    }
   ],
   "source": [
    "result_tunning = model_fitting_kfold(models = my_rf_models , indexes_kfolds = kfolds_touse, features = features_to_use, train_data = train_section_2_aug,\n",
    "                           rate_aug = parameters['rate_aug'], sample_aug = parameters['sample_aug'])"
   ]
  },
  {
   "cell_type": "code",
   "execution_count": 32,
   "metadata": {},
   "outputs": [],
   "source": [
    "toplot_result = jsontotable(result_tunning[0], typex = 'Validation')"
   ]
  },
  {
   "cell_type": "code",
   "execution_count": 33,
   "metadata": {},
   "outputs": [
    {
     "data": {
      "image/png": "[encoded data removed]",
      "text/plain": [
       "<Figure size 1080x720 with 2 Axes>"
      ]
     },
     "metadata": {},
     "output_type": "display_data"
    }
   ],
   "source": [
    "plot_results(toplot_result)"
   ]
  },
  {
   "cell_type": "code",
   "execution_count": 34,
   "metadata": {},
   "outputs": [
    {
     "data": {
      "text/html": [
       "<div>\n",
       "<style scoped>\n",
       "    .dataframe tbody tr th:only-of-type {\n",
       "        vertical-align: middle;\n",
       "    }\n",
       "\n",
       "    .dataframe tbody tr th {\n",
       "        vertical-align: top;\n",
       "    }\n",
       "\n",
       "    .dataframe thead th {\n",
       "        text-align: right;\n",
       "    }\n",
       "</style>\n",
       "<table border=\"1\" class=\"dataframe\">\n",
       "  <thead>\n",
       "    <tr style=\"text-align: right;\">\n",
       "      <th></th>\n",
       "      <th>Machine</th>\n",
       "      <th>n_estimators</th>\n",
       "      <th>max_depth</th>\n",
       "      <th>min_samples_split</th>\n",
       "      <th>min_samples_leaf</th>\n",
       "      <th>rate_aug</th>\n",
       "      <th>sample_aug</th>\n",
       "    </tr>\n",
       "  </thead>\n",
       "  <tbody>\n",
       "    <tr>\n",
       "      <th>2</th>\n",
       "      <td>machine-3</td>\n",
       "      <td>250</td>\n",
       "      <td>35</td>\n",
       "      <td>30</td>\n",
       "      <td>10</td>\n",
       "      <td>1.0</td>\n",
       "      <td>0.7</td>\n",
       "    </tr>\n",
       "  </tbody>\n",
       "</table>\n",
       "</div>"
      ],
      "text/plain": [
       "     Machine  n_estimators  max_depth  min_samples_split  min_samples_leaf  \\\n",
       "2  machine-3           250         35                 30                10   \n",
       "\n",
       "   rate_aug  sample_aug  \n",
       "2       1.0         0.7  "
      ]
     },
     "execution_count": 34,
     "metadata": {},
     "output_type": "execute_result"
    }
   ],
   "source": [
    "parameters_df[parameters_df.Machine == 'machine-3']"
   ]
  },
  {
   "cell_type": "markdown",
   "metadata": {},
   "source": [
    "going further"
   ]
  },
  {
   "cell_type": "code",
   "execution_count": 35,
   "metadata": {},
   "outputs": [],
   "source": [
    "my_rf_models = list()\n",
    "number_of_machines = 9\n",
    "machines_labels = [f'machine-{x}' for x in range(1,number_of_machines +1) ]\n",
    "\n",
    "parameters = { 'Machine':machines_labels,\n",
    "    'n_estimators' : [ 250, 220, 270, 240, 260, 250, 235, 255, 260],\n",
    "    'max_depth' : [ 35, 30, 30, 40, 44, 35, 35, 32, 30],        \n",
    "    'min_samples_split' : [ 30, 25, 35, 30, 30, 25, 34, 31, 28 ], \n",
    "    'min_samples_leaf': [ 10, 8, 5, 13, 15, 14, 9, 5, 9 ],\n",
    " 'rate_aug': [ 1.0, 1.0, 1.0, 1.0, 1.0, 1.0, 1.0, 1.0, 1.0 ],\n",
    " 'sample_aug': [ 0.7, 0.7, 0.7, 0.7, 0.7, 0.7, 0.7, 0.7, 0.7] }\n",
    "\n",
    "for i in range(number_of_machines):\n",
    "    n_estimators_param = parameters['n_estimators'][i]\n",
    "    max_depth_param = parameters['max_depth'][i]\n",
    "    min_samples_split_param = parameters['min_samples_split'][i]\n",
    "    min_samples_leaf_param = parameters['min_samples_leaf'][i]\n",
    "    \n",
    "    my_rf = RandomForestClassifier(n_estimators = n_estimators_param , max_depth = max_depth_param, \n",
    "                                   min_samples_split = min_samples_split_param, min_samples_leaf = min_samples_leaf_param)\n",
    "    my_rf_models.append(my_rf)\n",
    "\n",
    "parameters_df = pd.DataFrame(parameters)  "
   ]
  },
  {
   "cell_type": "code",
   "execution_count": 36,
   "metadata": {},
   "outputs": [
    {
     "name": "stdout",
     "output_type": "stream",
     "text": [
      "done machine 1\n",
      "done machine 2\n",
      "done machine 3\n",
      "done machine 4\n",
      "done machine 5\n",
      "done machine 6\n",
      "done machine 7\n",
      "done machine 8\n",
      "done machine 9\n"
     ]
    }
   ],
   "source": [
    "result_tunning = model_fitting_kfold(models = my_rf_models , indexes_kfolds = kfolds_touse, features = features_to_use, train_data = train_section_2_aug,\n",
    "                           rate_aug = parameters['rate_aug'], sample_aug = parameters['sample_aug'])"
   ]
  },
  {
   "cell_type": "code",
   "execution_count": 37,
   "metadata": {},
   "outputs": [],
   "source": [
    "toplot_result = jsontotable(result_tunning[0], typex = 'Validation')"
   ]
  },
  {
   "cell_type": "code",
   "execution_count": 38,
   "metadata": {},
   "outputs": [
    {
     "data": {
      "image/png": "[encoded data removed]",
      "text/plain": [
       "<Figure size 1080x720 with 2 Axes>"
      ]
     },
     "metadata": {},
     "output_type": "display_data"
    }
   ],
   "source": [
    "plot_results(toplot_result)"
   ]
  },
  {
   "cell_type": "code",
   "execution_count": 39,
   "metadata": {},
   "outputs": [
    {
     "data": {
      "text/html": [
       "<div>\n",
       "<style scoped>\n",
       "    .dataframe tbody tr th:only-of-type {\n",
       "        vertical-align: middle;\n",
       "    }\n",
       "\n",
       "    .dataframe tbody tr th {\n",
       "        vertical-align: top;\n",
       "    }\n",
       "\n",
       "    .dataframe thead th {\n",
       "        text-align: right;\n",
       "    }\n",
       "</style>\n",
       "<table border=\"1\" class=\"dataframe\">\n",
       "  <thead>\n",
       "    <tr style=\"text-align: right;\">\n",
       "      <th></th>\n",
       "      <th>Machine</th>\n",
       "      <th>n_estimators</th>\n",
       "      <th>max_depth</th>\n",
       "      <th>min_samples_split</th>\n",
       "      <th>min_samples_leaf</th>\n",
       "      <th>rate_aug</th>\n",
       "      <th>sample_aug</th>\n",
       "    </tr>\n",
       "  </thead>\n",
       "  <tbody>\n",
       "    <tr>\n",
       "      <th>1</th>\n",
       "      <td>machine-2</td>\n",
       "      <td>220</td>\n",
       "      <td>30</td>\n",
       "      <td>25</td>\n",
       "      <td>8</td>\n",
       "      <td>1.0</td>\n",
       "      <td>0.7</td>\n",
       "    </tr>\n",
       "  </tbody>\n",
       "</table>\n",
       "</div>"
      ],
      "text/plain": [
       "     Machine  n_estimators  max_depth  min_samples_split  min_samples_leaf  \\\n",
       "1  machine-2           220         30                 25                 8   \n",
       "\n",
       "   rate_aug  sample_aug  \n",
       "1       1.0         0.7  "
      ]
     },
     "execution_count": 39,
     "metadata": {},
     "output_type": "execute_result"
    }
   ],
   "source": [
    "parameters_df[parameters_df.Machine == 'machine-2']"
   ]
  },
  {
   "cell_type": "markdown",
   "metadata": {},
   "source": [
    "<b> Final Try"
   ]
  },
  {
   "cell_type": "code",
   "execution_count": 36,
   "metadata": {},
   "outputs": [],
   "source": [
    "my_rf_models = list()\n",
    "number_of_machines = 6\n",
    "machines_labels = [f'machine-{x}' for x in range(1,number_of_machines +1) ]\n",
    "\n",
    "parameters = { 'Machine':machines_labels,\n",
    "    'n_estimators' : [ 220, 200, 220, 210, 230, 230],\n",
    "    'max_depth' : [  30, 30, 27, 34, 34, 25],        \n",
    "    'min_samples_split' : [ 25, 30, 26, 20, 24, 22], \n",
    "    'min_samples_leaf': [  8, 5, 3, 8, 12, 14],\n",
    " 'rate_aug': [  1.0, 1.0, 1.0, 1.0, 1.0, 1.0 ],\n",
    " 'sample_aug': [  0.7,0.7,0.7, 0.7,0.7,0.7] }\n",
    "\n",
    "for i in range(number_of_machines):\n",
    "    n_estimators_param = parameters['n_estimators'][i]\n",
    "    max_depth_param = parameters['max_depth'][i]\n",
    "    min_samples_split_param = parameters['min_samples_split'][i]\n",
    "    min_samples_leaf_param = parameters['min_samples_leaf'][i]\n",
    "    \n",
    "    my_rf = RandomForestClassifier(n_estimators = n_estimators_param , max_depth = max_depth_param, \n",
    "                                   min_samples_split = min_samples_split_param, min_samples_leaf = min_samples_leaf_param)\n",
    "    my_rf_models.append(my_rf)\n",
    "\n",
    "parameters_df = pd.DataFrame(parameters)  "
   ]
  },
  {
   "cell_type": "code",
   "execution_count": 37,
   "metadata": {},
   "outputs": [
    {
     "name": "stdout",
     "output_type": "stream",
     "text": [
      "done machine 1\n",
      "done machine 2\n",
      "done machine 3\n",
      "done machine 4\n",
      "done machine 5\n",
      "done machine 6\n"
     ]
    }
   ],
   "source": [
    "result_tunning, modelsTrained_section_2 = model_fitting_kfold(models = my_rf_models , indexes_kfolds = kfolds_touse, features = features_to_use, train_data = train_section_2_aug,\n",
    "                           rate_aug = parameters['rate_aug'], sample_aug = parameters['sample_aug'], save_model = True, save_nro_machine = 3)"
   ]
  },
  {
   "cell_type": "code",
   "execution_count": 38,
   "metadata": {},
   "outputs": [],
   "source": [
    "toplot_result = jsontotable(result_tunning, typex = 'Validation')"
   ]
  },
  {
   "cell_type": "code",
   "execution_count": 39,
   "metadata": {},
   "outputs": [
    {
     "data": {
      "image/png": "[encoded data removed]",
      "text/plain": [
       "<Figure size 1080x720 with 2 Axes>"
      ]
     },
     "metadata": {},
     "output_type": "display_data"
    }
   ],
   "source": [
    "plot_results(toplot_result)"
   ]
  },
  {
   "cell_type": "code",
   "execution_count": 40,
   "metadata": {},
   "outputs": [
    {
     "data": {
      "text/html": [
       "<div>\n",
       "<style scoped>\n",
       "    .dataframe tbody tr th:only-of-type {\n",
       "        vertical-align: middle;\n",
       "    }\n",
       "\n",
       "    .dataframe tbody tr th {\n",
       "        vertical-align: top;\n",
       "    }\n",
       "\n",
       "    .dataframe thead th {\n",
       "        text-align: right;\n",
       "    }\n",
       "</style>\n",
       "<table border=\"1\" class=\"dataframe\">\n",
       "  <thead>\n",
       "    <tr style=\"text-align: right;\">\n",
       "      <th></th>\n",
       "      <th>Machine</th>\n",
       "      <th>n_estimators</th>\n",
       "      <th>max_depth</th>\n",
       "      <th>min_samples_split</th>\n",
       "      <th>min_samples_leaf</th>\n",
       "      <th>rate_aug</th>\n",
       "      <th>sample_aug</th>\n",
       "    </tr>\n",
       "  </thead>\n",
       "  <tbody>\n",
       "    <tr>\n",
       "      <th>2</th>\n",
       "      <td>machine-3</td>\n",
       "      <td>220</td>\n",
       "      <td>27</td>\n",
       "      <td>26</td>\n",
       "      <td>3</td>\n",
       "      <td>1.0</td>\n",
       "      <td>0.7</td>\n",
       "    </tr>\n",
       "  </tbody>\n",
       "</table>\n",
       "</div>"
      ],
      "text/plain": [
       "     Machine  n_estimators  max_depth  min_samples_split  min_samples_leaf  \\\n",
       "2  machine-3           220         27                 26                 3   \n",
       "\n",
       "   rate_aug  sample_aug  \n",
       "2       1.0         0.7  "
      ]
     },
     "execution_count": 40,
     "metadata": {},
     "output_type": "execute_result"
    }
   ],
   "source": [
    "parameters_df[parameters_df.Machine == 'machine-3']"
   ]
  },
  {
   "cell_type": "code",
   "execution_count": 41,
   "metadata": {},
   "outputs": [],
   "source": [
    "weight_data = train_section_2_aug[train_section_2_aug.target.isin([0,1])]"
   ]
  },
  {
   "cell_type": "code",
   "execution_count": 42,
   "metadata": {},
   "outputs": [],
   "source": [
    "weighted_section_2_model = weighting_models(models = modelsTrained_section_2 , features = features_to_use, data = weight_data)\n",
    "result = weighting_models(models = modelsTrained_section_2 , features = features_to_use, data = weight_data, trained_model = weighted_section_2_model)"
   ]
  },
  {
   "cell_type": "code",
   "execution_count": 43,
   "metadata": {},
   "outputs": [
    {
     "data": {
      "text/plain": [
       "0.8537904454650317"
      ]
     },
     "execution_count": 43,
     "metadata": {},
     "output_type": "execute_result"
    }
   ],
   "source": [
    "roc_auc_score(weight_data.target.values,result)"
   ]
  },
  {
   "cell_type": "markdown",
   "metadata": {},
   "source": [
    "### Section 3"
   ]
  },
  {
   "cell_type": "code",
   "execution_count": 44,
   "metadata": {},
   "outputs": [
    {
     "data": {
      "text/plain": [
       "target\n",
       "0    64201\n",
       "1     5733\n",
       "Name: mahalanobis, dtype: int64"
      ]
     },
     "execution_count": 44,
     "metadata": {},
     "output_type": "execute_result"
    }
   ],
   "source": [
    "train_section_3.pivot_table(index = 'target', aggfunc = 'count')['mahalanobis']"
   ]
  },
  {
   "cell_type": "code",
   "execution_count": 45,
   "metadata": {},
   "outputs": [],
   "source": [
    "dict_1 = {'n':7600, 'range': [-50,9], 'label': 2, 'rate': 0.65}  #random augmentation\n",
    "dict_2 = {'n':5000, 'label': 1} # augmetation on existing ones\n",
    "dict_3 = {'n':8000, 'range': [-50,9], 'label': 4, 'category': 2} # augmetation on the previous ones\n",
    "\n",
    "unscld_train_section_3 =unscaler(train_section_3, scalerx)\n",
    "train_section_3_aug = augmentation_strategy(data = unscld_train_section_3, dict_1 = dict_1,dict_2 = dict_2, dict_3 = dict_3,\n",
    "                      gen_mean = means_train, gen_cov = cov_train, columns_features = numerical_features ).reset_index(drop = True)\n",
    "del unscld_train_section_3\n",
    "train_section_3_aug =  scaler(train_section_3_aug,scalerx)"
   ]
  },
  {
   "cell_type": "code",
   "execution_count": 46,
   "metadata": {},
   "outputs": [
    {
     "data": {
      "text/plain": [
       "target\n",
       "0    64201\n",
       "1     5733\n",
       "2     7600\n",
       "3     5000\n",
       "4     8000\n",
       "Name: mahalanobis, dtype: int64"
      ]
     },
     "execution_count": 46,
     "metadata": {},
     "output_type": "execute_result"
    }
   ],
   "source": [
    "train_section_3_aug.pivot_table(index = 'target', aggfunc = 'count')['mahalanobis']"
   ]
  },
  {
   "cell_type": "code",
   "execution_count": 47,
   "metadata": {},
   "outputs": [
    {
     "data": {
      "text/plain": [
       "count    90534.000000\n",
       "mean        -0.684716\n",
       "std          0.544812\n",
       "min         -1.757342\n",
       "25%         -1.049585\n",
       "50%         -0.726653\n",
       "75%         -0.434635\n",
       "max          1.416823\n",
       "Name: mahalanobis, dtype: float64"
      ]
     },
     "execution_count": 47,
     "metadata": {},
     "output_type": "execute_result"
    }
   ],
   "source": [
    "train_section_3_aug['mahalanobis'].describe()"
   ]
  },
  {
   "cell_type": "markdown",
   "metadata": {},
   "source": [
    "<b> Data splitting strategy"
   ]
  },
  {
   "cell_type": "code",
   "execution_count": 48,
   "metadata": {},
   "outputs": [],
   "source": [
    "kfolds_touse = k_folds_indexs(train_section_3_aug, folds = 5, balanced = True, validation_additional_false = 4000, validation_reduce_false = 45000)"
   ]
  },
  {
   "cell_type": "code",
   "execution_count": 49,
   "metadata": {},
   "outputs": [
    {
     "data": {
      "text/plain": [
       "target\n",
       "0    14033\n",
       "1     4565\n",
       "2     7600\n",
       "3     5000\n",
       "4     8000\n",
       "Name: mahalanobis, dtype: int64"
      ]
     },
     "execution_count": 49,
     "metadata": {},
     "output_type": "execute_result"
    }
   ],
   "source": [
    "train_section_3_aug[train_section_3_aug.index.isin(kfolds_touse['fold 3']['train index'])].pivot_table(index = 'target', aggfunc = 'count')['mahalanobis']"
   ]
  },
  {
   "cell_type": "code",
   "execution_count": 50,
   "metadata": {},
   "outputs": [
    {
     "data": {
      "text/plain": [
       "39198"
      ]
     },
     "execution_count": 50,
     "metadata": {},
     "output_type": "execute_result"
    }
   ],
   "source": [
    "len(train_section_3_aug[train_section_3_aug.index.isin(kfolds_touse['fold 3']['train index'])])"
   ]
  },
  {
   "cell_type": "markdown",
   "metadata": {},
   "source": [
    "<b> tunning strategy"
   ]
  },
  {
   "cell_type": "code",
   "execution_count": 51,
   "metadata": {},
   "outputs": [],
   "source": [
    "features_to_use = numerical_features + ['mahalanobis']"
   ]
  },
  {
   "cell_type": "markdown",
   "metadata": {},
   "source": [
    "#### Section 3: Random Forest"
   ]
  },
  {
   "cell_type": "markdown",
   "metadata": {},
   "source": [
    "First Try: broad search "
   ]
  },
  {
   "cell_type": "code",
   "execution_count": 61,
   "metadata": {},
   "outputs": [],
   "source": [
    "my_rf_models = list()\n",
    "number_of_machines = 20\n",
    "machines_labels = [f'machine-{x}' for x in range(1,number_of_machines +1) ]\n",
    "\n",
    "parameters = { 'Machine':machines_labels,\n",
    "    'n_estimators' : [100, 500, 250, 1500, 750, 450,150, 250, 350, 450, 850, 950, 440, 550, 660, 370, 900, 330, 440, 510],\n",
    "    'max_depth' : [15, 20, 35, 20, 10, 45, 25,35, 75, 65, 18, 29, 35, 45, 25, 55, 60, 65, 15, 65],        \n",
    "    'min_samples_split' : [10, 20, 30, 15, 25, 35, 60, 15, 20, 36, 50, 60, 24, 35, 15, 12, 24, 22, 44, 18], \n",
    "    'min_samples_leaf': [4, 6, 10, 2, 20, 35, 12, 30, 18, 10, 14, 8, 10, 22, 17, 32, 8, 15, 26, 35],\n",
    " 'rate_aug': [0.5, 0.25, 1.0, 0.0, 0.65, 0.48, 0.9, 0.6, 0.2, 0.1, 0.8, 0.6, 0.4, 0.55, 0.10, 0.3, 0.5, 0.44, 0.3, 0.2],\n",
    " 'sample_aug': [0.7, 0.7, 0.7, 0.7, 0.7, 0.7, 0.7, 0.7, 0.7, 0.7, 0.7, 0.7, 0.7, 0.7, 0.7, 0.7, 0.7, 0.7, 0.7, 0.7] }\n",
    "\n",
    "for i in range(number_of_machines):\n",
    "    n_estimators_param = parameters['n_estimators'][i]\n",
    "    max_depth_param = parameters['max_depth'][i]\n",
    "    min_samples_split_param = parameters['min_samples_split'][i]\n",
    "    min_samples_leaf_param = parameters['min_samples_leaf'][i]\n",
    "    \n",
    "    my_rf = RandomForestClassifier(n_estimators = n_estimators_param , max_depth = max_depth_param, \n",
    "                                   min_samples_split = min_samples_split_param, min_samples_leaf = min_samples_leaf_param)\n",
    "    my_rf_models.append(my_rf)\n",
    "\n",
    "parameters_df = pd.DataFrame(parameters)  "
   ]
  },
  {
   "cell_type": "code",
   "execution_count": 63,
   "metadata": {},
   "outputs": [
    {
     "name": "stdout",
     "output_type": "stream",
     "text": [
      "done machine 1\n",
      "done machine 2\n",
      "done machine 3\n",
      "done machine 4\n",
      "done machine 5\n",
      "done machine 6\n",
      "done machine 7\n",
      "done machine 8\n",
      "done machine 9\n",
      "done machine 10\n",
      "done machine 11\n",
      "done machine 12\n",
      "done machine 13\n",
      "done machine 14\n",
      "done machine 15\n",
      "done machine 16\n",
      "done machine 17\n",
      "done machine 18\n",
      "done machine 19\n",
      "done machine 20\n"
     ]
    }
   ],
   "source": [
    "result_tunning = model_fitting_kfold(models = my_rf_models , indexes_kfolds = kfolds_touse, features = features_to_use, train_data = train_section_3_aug,\n",
    "                           rate_aug = parameters['rate_aug'], sample_aug = parameters['sample_aug'])"
   ]
  },
  {
   "cell_type": "code",
   "execution_count": 64,
   "metadata": {},
   "outputs": [],
   "source": [
    "toplot_result = jsontotable(result_tunning[0], typex = 'Validation')"
   ]
  },
  {
   "cell_type": "code",
   "execution_count": 65,
   "metadata": {},
   "outputs": [
    {
     "data": {
      "image/png": "[encoded data removed]",
      "text/plain": [
       "<Figure size 1080x720 with 2 Axes>"
      ]
     },
     "metadata": {},
     "output_type": "display_data"
    }
   ],
   "source": [
    "plot_results(toplot_result)"
   ]
  },
  {
   "cell_type": "code",
   "execution_count": 73,
   "metadata": {},
   "outputs": [
    {
     "data": {
      "text/html": [
       "<div>\n",
       "<style scoped>\n",
       "    .dataframe tbody tr th:only-of-type {\n",
       "        vertical-align: middle;\n",
       "    }\n",
       "\n",
       "    .dataframe tbody tr th {\n",
       "        vertical-align: top;\n",
       "    }\n",
       "\n",
       "    .dataframe thead th {\n",
       "        text-align: right;\n",
       "    }\n",
       "</style>\n",
       "<table border=\"1\" class=\"dataframe\">\n",
       "  <thead>\n",
       "    <tr style=\"text-align: right;\">\n",
       "      <th></th>\n",
       "      <th>Machine</th>\n",
       "      <th>n_estimators</th>\n",
       "      <th>max_depth</th>\n",
       "      <th>min_samples_split</th>\n",
       "      <th>min_samples_leaf</th>\n",
       "      <th>rate_aug</th>\n",
       "      <th>sample_aug</th>\n",
       "    </tr>\n",
       "  </thead>\n",
       "  <tbody>\n",
       "    <tr>\n",
       "      <th>2</th>\n",
       "      <td>machine-3</td>\n",
       "      <td>270</td>\n",
       "      <td>30</td>\n",
       "      <td>35</td>\n",
       "      <td>5</td>\n",
       "      <td>1.0</td>\n",
       "      <td>0.7</td>\n",
       "    </tr>\n",
       "  </tbody>\n",
       "</table>\n",
       "</div>"
      ],
      "text/plain": [
       "     Machine  n_estimators  max_depth  min_samples_split  min_samples_leaf  \\\n",
       "2  machine-3           270         30                 35                 5   \n",
       "\n",
       "   rate_aug  sample_aug  \n",
       "2       1.0         0.7  "
      ]
     },
     "execution_count": 73,
     "metadata": {},
     "output_type": "execute_result"
    }
   ],
   "source": [
    "parameters_df[parameters_df.Machine == 'machine-3']"
   ]
  },
  {
   "cell_type": "markdown",
   "metadata": {},
   "source": [
    "going further"
   ]
  },
  {
   "cell_type": "code",
   "execution_count": 67,
   "metadata": {},
   "outputs": [],
   "source": [
    "my_rf_models = list()\n",
    "number_of_machines = 9\n",
    "machines_labels = [f'machine-{x}' for x in range(1,number_of_machines +1) ]\n",
    "\n",
    "parameters = { 'Machine':machines_labels,\n",
    "    'n_estimators' : [ 250, 220, 270, 240, 260, 250, 235, 255, 260],\n",
    "    'max_depth' : [ 35, 30, 30, 40, 44, 35, 35, 32, 30],        \n",
    "    'min_samples_split' : [ 30, 25, 35, 30, 30, 25, 34, 31, 28 ], \n",
    "    'min_samples_leaf': [ 10, 8, 5, 13, 15, 14, 9, 5, 9 ],\n",
    " 'rate_aug': [ 1.0, 1.0, 1.0, 1.0, 1.0, 1.0, 1.0, 1.0, 1.0 ],\n",
    " 'sample_aug': [ 0.7, 0.7, 0.7, 0.7, 0.7, 0.7, 0.7, 0.7, 0.7] }\n",
    "\n",
    "for i in range(number_of_machines):\n",
    "    n_estimators_param = parameters['n_estimators'][i]\n",
    "    max_depth_param = parameters['max_depth'][i]\n",
    "    min_samples_split_param = parameters['min_samples_split'][i]\n",
    "    min_samples_leaf_param = parameters['min_samples_leaf'][i]\n",
    "    \n",
    "    my_rf = RandomForestClassifier(n_estimators = n_estimators_param , max_depth = max_depth_param, \n",
    "                                   min_samples_split = min_samples_split_param, min_samples_leaf = min_samples_leaf_param)\n",
    "    my_rf_models.append(my_rf)\n",
    "\n",
    "parameters_df = pd.DataFrame(parameters)  "
   ]
  },
  {
   "cell_type": "code",
   "execution_count": 68,
   "metadata": {},
   "outputs": [
    {
     "name": "stdout",
     "output_type": "stream",
     "text": [
      "done machine 1\n",
      "done machine 2\n",
      "done machine 3\n",
      "done machine 4\n",
      "done machine 5\n",
      "done machine 6\n",
      "done machine 7\n",
      "done machine 8\n",
      "done machine 9\n"
     ]
    }
   ],
   "source": [
    "result_tunning = model_fitting_kfold(models = my_rf_models , indexes_kfolds = kfolds_touse, features = features_to_use, train_data = train_section_3_aug,\n",
    "                           rate_aug = parameters['rate_aug'], sample_aug = parameters['sample_aug'])"
   ]
  },
  {
   "cell_type": "code",
   "execution_count": 69,
   "metadata": {},
   "outputs": [],
   "source": [
    "toplot_result = jsontotable(result_tunning[0], typex = 'Validation')"
   ]
  },
  {
   "cell_type": "code",
   "execution_count": 70,
   "metadata": {},
   "outputs": [
    {
     "data": {
      "image/png": "[encoded data removed]",
      "text/plain": [
       "<Figure size 1080x720 with 2 Axes>"
      ]
     },
     "metadata": {},
     "output_type": "display_data"
    }
   ],
   "source": [
    "plot_results(toplot_result)"
   ]
  },
  {
   "cell_type": "code",
   "execution_count": 74,
   "metadata": {},
   "outputs": [
    {
     "data": {
      "text/html": [
       "<div>\n",
       "<style scoped>\n",
       "    .dataframe tbody tr th:only-of-type {\n",
       "        vertical-align: middle;\n",
       "    }\n",
       "\n",
       "    .dataframe tbody tr th {\n",
       "        vertical-align: top;\n",
       "    }\n",
       "\n",
       "    .dataframe thead th {\n",
       "        text-align: right;\n",
       "    }\n",
       "</style>\n",
       "<table border=\"1\" class=\"dataframe\">\n",
       "  <thead>\n",
       "    <tr style=\"text-align: right;\">\n",
       "      <th></th>\n",
       "      <th>Machine</th>\n",
       "      <th>n_estimators</th>\n",
       "      <th>max_depth</th>\n",
       "      <th>min_samples_split</th>\n",
       "      <th>min_samples_leaf</th>\n",
       "      <th>rate_aug</th>\n",
       "      <th>sample_aug</th>\n",
       "    </tr>\n",
       "  </thead>\n",
       "  <tbody>\n",
       "    <tr>\n",
       "      <th>7</th>\n",
       "      <td>machine-8</td>\n",
       "      <td>255</td>\n",
       "      <td>32</td>\n",
       "      <td>31</td>\n",
       "      <td>5</td>\n",
       "      <td>1.0</td>\n",
       "      <td>0.7</td>\n",
       "    </tr>\n",
       "  </tbody>\n",
       "</table>\n",
       "</div>"
      ],
      "text/plain": [
       "     Machine  n_estimators  max_depth  min_samples_split  min_samples_leaf  \\\n",
       "7  machine-8           255         32                 31                 5   \n",
       "\n",
       "   rate_aug  sample_aug  \n",
       "7       1.0         0.7  "
      ]
     },
     "execution_count": 74,
     "metadata": {},
     "output_type": "execute_result"
    }
   ],
   "source": [
    "parameters_df[parameters_df.Machine == 'machine-8']"
   ]
  },
  {
   "cell_type": "markdown",
   "metadata": {},
   "source": [
    "<b> Final Try"
   ]
  },
  {
   "cell_type": "code",
   "execution_count": 52,
   "metadata": {},
   "outputs": [],
   "source": [
    "my_rf_models = list()\n",
    "number_of_machines = 6\n",
    "machines_labels = [f'machine-{x}' for x in range(1,number_of_machines +1) ]\n",
    "\n",
    "parameters = { 'Machine':machines_labels,\n",
    "    'n_estimators' : [ 255, 245, 250, 265, 260, 245],\n",
    "    'max_depth' : [ 32, 35, 28, 30, 35, 31],        \n",
    "    'min_samples_split' : [ 31, 26, 37, 37, 29, 33], \n",
    "    'min_samples_leaf': [ 5, 1, 1, 5, 5, 9],\n",
    " 'rate_aug': [ 1.0, 1.0, 1.0, 1.0, 1.0, 1.0],\n",
    " 'sample_aug': [  0.7, 0.7, 0.7, 0.7, 0.7, 0.7] }\n",
    "\n",
    "for i in range(number_of_machines):\n",
    "    n_estimators_param = parameters['n_estimators'][i]\n",
    "    max_depth_param = parameters['max_depth'][i]\n",
    "    min_samples_split_param = parameters['min_samples_split'][i]\n",
    "    min_samples_leaf_param = parameters['min_samples_leaf'][i]\n",
    "    \n",
    "    my_rf = RandomForestClassifier(n_estimators = n_estimators_param , max_depth = max_depth_param, \n",
    "                                   min_samples_split = min_samples_split_param, min_samples_leaf = min_samples_leaf_param)\n",
    "    my_rf_models.append(my_rf)\n",
    "\n",
    "parameters_df = pd.DataFrame(parameters)  "
   ]
  },
  {
   "cell_type": "code",
   "execution_count": 53,
   "metadata": {},
   "outputs": [
    {
     "name": "stdout",
     "output_type": "stream",
     "text": [
      "done machine 1\n",
      "done machine 2\n",
      "done machine 3\n",
      "done machine 4\n",
      "done machine 5\n",
      "done machine 6\n"
     ]
    }
   ],
   "source": [
    "result_tunning,  modelsTrained_section_3 = model_fitting_kfold(models = my_rf_models , indexes_kfolds = kfolds_touse, features = features_to_use, train_data = train_section_3_aug,\n",
    "                           rate_aug = parameters['rate_aug'], sample_aug = parameters['sample_aug'], save_model = True, save_nro_machine = 2)"
   ]
  },
  {
   "cell_type": "code",
   "execution_count": 54,
   "metadata": {},
   "outputs": [],
   "source": [
    "toplot_result = jsontotable(result_tunning, typex = 'Validation')"
   ]
  },
  {
   "cell_type": "code",
   "execution_count": 55,
   "metadata": {},
   "outputs": [
    {
     "data": {
      "image/png": "[encoded data removed]",
      "text/plain": [
       "<Figure size 1080x720 with 2 Axes>"
      ]
     },
     "metadata": {},
     "output_type": "display_data"
    }
   ],
   "source": [
    "plot_results(toplot_result)"
   ]
  },
  {
   "cell_type": "code",
   "execution_count": 56,
   "metadata": {},
   "outputs": [
    {
     "data": {
      "text/html": [
       "<div>\n",
       "<style scoped>\n",
       "    .dataframe tbody tr th:only-of-type {\n",
       "        vertical-align: middle;\n",
       "    }\n",
       "\n",
       "    .dataframe tbody tr th {\n",
       "        vertical-align: top;\n",
       "    }\n",
       "\n",
       "    .dataframe thead th {\n",
       "        text-align: right;\n",
       "    }\n",
       "</style>\n",
       "<table border=\"1\" class=\"dataframe\">\n",
       "  <thead>\n",
       "    <tr style=\"text-align: right;\">\n",
       "      <th></th>\n",
       "      <th>Machine</th>\n",
       "      <th>n_estimators</th>\n",
       "      <th>max_depth</th>\n",
       "      <th>min_samples_split</th>\n",
       "      <th>min_samples_leaf</th>\n",
       "      <th>rate_aug</th>\n",
       "      <th>sample_aug</th>\n",
       "    </tr>\n",
       "  </thead>\n",
       "  <tbody>\n",
       "    <tr>\n",
       "      <th>1</th>\n",
       "      <td>machine-2</td>\n",
       "      <td>245</td>\n",
       "      <td>35</td>\n",
       "      <td>26</td>\n",
       "      <td>1</td>\n",
       "      <td>1.0</td>\n",
       "      <td>0.7</td>\n",
       "    </tr>\n",
       "  </tbody>\n",
       "</table>\n",
       "</div>"
      ],
      "text/plain": [
       "     Machine  n_estimators  max_depth  min_samples_split  min_samples_leaf  \\\n",
       "1  machine-2           245         35                 26                 1   \n",
       "\n",
       "   rate_aug  sample_aug  \n",
       "1       1.0         0.7  "
      ]
     },
     "execution_count": 56,
     "metadata": {},
     "output_type": "execute_result"
    }
   ],
   "source": [
    "parameters_df[parameters_df.Machine == 'machine-2']"
   ]
  },
  {
   "cell_type": "code",
   "execution_count": 57,
   "metadata": {},
   "outputs": [],
   "source": [
    "weight_data = train_section_3_aug[train_section_3_aug.target.isin([0,1])]"
   ]
  },
  {
   "cell_type": "code",
   "execution_count": 58,
   "metadata": {},
   "outputs": [],
   "source": [
    "weighted_section_3_model = weighting_models(models = modelsTrained_section_3 , features = features_to_use, data = weight_data)\n",
    "result = weighting_models(models = modelsTrained_section_3 , features = features_to_use, data = weight_data, trained_model = weighted_section_3_model)"
   ]
  },
  {
   "cell_type": "code",
   "execution_count": 59,
   "metadata": {},
   "outputs": [
    {
     "data": {
      "text/plain": [
       "0.8175284101760547"
      ]
     },
     "execution_count": 59,
     "metadata": {},
     "output_type": "execute_result"
    }
   ],
   "source": [
    "roc_auc_score(weight_data.target.values,result)"
   ]
  },
  {
   "cell_type": "markdown",
   "metadata": {},
   "source": [
    "#### Fast Training:"
   ]
  },
  {
   "cell_type": "code",
   "execution_count": 12,
   "metadata": {},
   "outputs": [],
   "source": [
    "features_to_use = numerical_features + ['mahalanobis']"
   ]
  },
  {
   "cell_type": "code",
   "execution_count": 13,
   "metadata": {},
   "outputs": [],
   "source": [
    "dict_1 = {'n':3600, 'range': [15,40], 'label': 2, 'rate': 0.65}  #random augmentation\n",
    "dict_2 = {'n':2000, 'label': 1} # augmetation on existing ones\n",
    "dict_3 = {'n':4000, 'range': [15,40], 'label': 4, 'category': 2} # augmetation on the previous ones\n",
    "\n",
    "unscld_train_section_1 =unscaler(train_section_1, scalerx)\n",
    "train_section_1_aug = augmentation_strategy(data = unscld_train_section_1, dict_1 = dict_1,dict_2 = dict_2, dict_3 = dict_3,\n",
    "                      gen_mean = means_train, gen_cov = cov_train, columns_features = numerical_features ).reset_index(drop = True)\n",
    "del unscld_train_section_1\n",
    "train_section_1_aug =  scaler(train_section_1_aug,scalerx)"
   ]
  },
  {
   "cell_type": "code",
   "execution_count": 14,
   "metadata": {},
   "outputs": [],
   "source": [
    "kfolds_touse_1 = k_folds_indexs(train_section_1_aug, folds = 5, balanced = True, validation_additional_false = 1000, validation_reduce_false = 6000)"
   ]
  },
  {
   "cell_type": "code",
   "execution_count": 15,
   "metadata": {},
   "outputs": [],
   "source": [
    "dict_1 = {'n':7600, 'range': [9,15], 'label': 2, 'rate': 0.65}  #random augmentation\n",
    "dict_2 = {'n':6000, 'label': 1} # augmetation on existing ones\n",
    "dict_3 = {'n':6500, 'range': [9,15], 'label': 4, 'category': 2} # augmetation on the previous ones\n",
    "\n",
    "unscld_train_section_2 =unscaler(train_section_2, scalerx)\n",
    "train_section_2_aug = augmentation_strategy(data = unscld_train_section_2, dict_1 = dict_1,dict_2 = dict_2, dict_3 = dict_3,\n",
    "                      gen_mean = means_train, gen_cov = cov_train, columns_features = numerical_features ).reset_index(drop = True)\n",
    "del unscld_train_section_2\n",
    "train_section_2_aug =  scaler(train_section_2_aug,scalerx)"
   ]
  },
  {
   "cell_type": "code",
   "execution_count": 16,
   "metadata": {},
   "outputs": [],
   "source": [
    "kfolds_touse_2 = k_folds_indexs(train_section_2_aug, folds = 5, balanced = True, validation_additional_false = 1000, validation_reduce_false = 25000)"
   ]
  },
  {
   "cell_type": "code",
   "execution_count": 18,
   "metadata": {},
   "outputs": [],
   "source": [
    "dict_1 = {'n':8600, 'range': [-50,9], 'label': 2, 'rate': 0.65}  #random augmentation\n",
    "dict_2 = {'n':7000, 'label': 1} # augmetation on existing ones\n",
    "dict_3 = {'n':8000, 'range': [-50,9], 'label': 4, 'category': 2} # augmetation on the previous ones\n",
    "\n",
    "unscld_train_section_3 =unscaler(train_section_3, scalerx)\n",
    "train_section_3_aug = augmentation_strategy(data = unscld_train_section_3, dict_1 = dict_1,dict_2 = dict_2, dict_3 = dict_3,\n",
    "                      gen_mean = means_train, gen_cov = cov_train, columns_features = numerical_features ).reset_index(drop = True)\n",
    "del unscld_train_section_3\n",
    "train_section_3_aug =  scaler(train_section_3_aug,scalerx)"
   ]
  },
  {
   "cell_type": "code",
   "execution_count": 19,
   "metadata": {},
   "outputs": [],
   "source": [
    "kfolds_touse_3 = k_folds_indexs(train_section_3_aug, folds = 5, balanced = True, validation_additional_false = 4000, validation_reduce_false = 45000)"
   ]
  },
  {
   "cell_type": "markdown",
   "metadata": {},
   "source": [
    "section 1 "
   ]
  },
  {
   "cell_type": "code",
   "execution_count": 20,
   "metadata": {},
   "outputs": [],
   "source": [
    "my_rf_models = list()\n",
    "number_of_machines = 1\n",
    "machines_labels = [f'machine-{x}' for x in range(1,number_of_machines +1) ]\n",
    "\n",
    "parameters = { 'Machine':machines_labels,\n",
    "    'n_estimators' : [ 190,],\n",
    "    'max_depth' : [ 32,],        \n",
    "    'min_samples_split' : [  21,], \n",
    "    'min_samples_leaf': [ 1,],\n",
    " 'rate_aug': [ 1.0, ],\n",
    " 'sample_aug': [ 0.9,] }\n",
    "\n",
    "for i in range(number_of_machines):\n",
    "    n_estimators_param = parameters['n_estimators'][i]\n",
    "    max_depth_param = parameters['max_depth'][i]\n",
    "    min_samples_split_param = parameters['min_samples_split'][i]\n",
    "    min_samples_leaf_param = parameters['min_samples_leaf'][i]\n",
    "    \n",
    "    my_rf = RandomForestClassifier(n_estimators = n_estimators_param , max_depth = max_depth_param, \n",
    "                                   min_samples_split = min_samples_split_param, min_samples_leaf = min_samples_leaf_param)\n",
    "    my_rf_models.append(my_rf)\n",
    "\n",
    "parameters_df = pd.DataFrame(parameters)"
   ]
  },
  {
   "cell_type": "code",
   "execution_count": 21,
   "metadata": {},
   "outputs": [
    {
     "name": "stdout",
     "output_type": "stream",
     "text": [
      "done machine 1\n"
     ]
    }
   ],
   "source": [
    "result_tunning, modelsTrained_section_1 = model_fitting_kfold(models = my_rf_models , indexes_kfolds = kfolds_touse_1, features = features_to_use, train_data = train_section_1_aug,\n",
    "                           rate_aug = parameters['rate_aug'], sample_aug = parameters['sample_aug'], save_model = True, save_nro_machine = 1)"
   ]
  },
  {
   "cell_type": "code",
   "execution_count": 22,
   "metadata": {},
   "outputs": [],
   "source": [
    "weight_data = train_section_1_aug[train_section_1_aug.target.isin([0,1])]"
   ]
  },
  {
   "cell_type": "code",
   "execution_count": 23,
   "metadata": {},
   "outputs": [],
   "source": [
    "weighted_section_1_model = weighting_models(models = modelsTrained_section_1 , features = features_to_use, data = weight_data)\n",
    "result = weighting_models(models = modelsTrained_section_1 , features = features_to_use, data = weight_data, trained_model = weighted_section_1_model)"
   ]
  },
  {
   "cell_type": "markdown",
   "metadata": {},
   "source": [
    "section 2 "
   ]
  },
  {
   "cell_type": "code",
   "execution_count": 25,
   "metadata": {},
   "outputs": [],
   "source": [
    "my_rf_models = list()\n",
    "number_of_machines = 1\n",
    "machines_labels = [f'machine-{x}' for x in range(1,number_of_machines +1) ]\n",
    "\n",
    "parameters = { 'Machine':machines_labels,\n",
    "    'n_estimators' : [ 220,] ,\n",
    "    'max_depth' : [ 27, ],        \n",
    "    'min_samples_split' : [ 26], \n",
    "    'min_samples_leaf': [ 3,],\n",
    " 'rate_aug': [ 1.0,],\n",
    " 'sample_aug': [ 0.7,] }\n",
    "\n",
    "for i in range(number_of_machines):\n",
    "    n_estimators_param = parameters['n_estimators'][i]\n",
    "    max_depth_param = parameters['max_depth'][i]\n",
    "    min_samples_split_param = parameters['min_samples_split'][i]\n",
    "    min_samples_leaf_param = parameters['min_samples_leaf'][i]\n",
    "    \n",
    "    my_rf = RandomForestClassifier(n_estimators = n_estimators_param , max_depth = max_depth_param, \n",
    "                                   min_samples_split = min_samples_split_param, min_samples_leaf = min_samples_leaf_param)\n",
    "    my_rf_models.append(my_rf)\n",
    "\n",
    "parameters_df = pd.DataFrame(parameters)  "
   ]
  },
  {
   "cell_type": "code",
   "execution_count": 26,
   "metadata": {},
   "outputs": [
    {
     "name": "stdout",
     "output_type": "stream",
     "text": [
      "done machine 1\n"
     ]
    }
   ],
   "source": [
    "result_tunning, modelsTrained_section_2 = model_fitting_kfold(models = my_rf_models , indexes_kfolds = kfolds_touse_2, features = features_to_use, train_data = train_section_2_aug,\n",
    "                           rate_aug = parameters['rate_aug'], sample_aug = parameters['sample_aug'], save_model = True, save_nro_machine = 1)"
   ]
  },
  {
   "cell_type": "code",
   "execution_count": 27,
   "metadata": {},
   "outputs": [],
   "source": [
    "weight_data = train_section_2_aug[train_section_2_aug.target.isin([0,1])]"
   ]
  },
  {
   "cell_type": "code",
   "execution_count": 28,
   "metadata": {},
   "outputs": [],
   "source": [
    "weighted_section_2_model = weighting_models(models = modelsTrained_section_2 , features = features_to_use, data = weight_data)\n",
    "result = weighting_models(models = modelsTrained_section_2 , features = features_to_use, data = weight_data, trained_model = weighted_section_2_model)"
   ]
  },
  {
   "cell_type": "markdown",
   "metadata": {},
   "source": [
    "section 3"
   ]
  },
  {
   "cell_type": "code",
   "execution_count": 29,
   "metadata": {},
   "outputs": [],
   "source": [
    "my_rf_models = list()\n",
    "number_of_machines = 1\n",
    "machines_labels = [f'machine-{x}' for x in range(1,number_of_machines +1) ]\n",
    "\n",
    "parameters = { 'Machine':machines_labels,\n",
    "    'n_estimators' : [245],\n",
    "    'max_depth' : [35],        \n",
    "    'min_samples_split' : [26], \n",
    "    'min_samples_leaf': [ 5],\n",
    " 'rate_aug': [1.0],\n",
    " 'sample_aug': [0.7] }\n",
    "\n",
    "for i in range(number_of_machines):\n",
    "    n_estimators_param = parameters['n_estimators'][i]\n",
    "    max_depth_param = parameters['max_depth'][i]\n",
    "    min_samples_split_param = parameters['min_samples_split'][i]\n",
    "    min_samples_leaf_param = parameters['min_samples_leaf'][i]\n",
    "    \n",
    "    my_rf = RandomForestClassifier(n_estimators = n_estimators_param , max_depth = max_depth_param, \n",
    "                                   min_samples_split = min_samples_split_param, min_samples_leaf = min_samples_leaf_param)\n",
    "    my_rf_models.append(my_rf)\n",
    "\n",
    "parameters_df = pd.DataFrame(parameters)  "
   ]
  },
  {
   "cell_type": "code",
   "execution_count": 30,
   "metadata": {},
   "outputs": [
    {
     "name": "stdout",
     "output_type": "stream",
     "text": [
      "done machine 1\n"
     ]
    }
   ],
   "source": [
    "result_tunning,  modelsTrained_section_3 = model_fitting_kfold(models = my_rf_models , indexes_kfolds = kfolds_touse_3, features = features_to_use, train_data = train_section_3_aug,\n",
    "                           rate_aug = parameters['rate_aug'], sample_aug = parameters['sample_aug'], save_model = True, save_nro_machine = 1)"
   ]
  },
  {
   "cell_type": "code",
   "execution_count": 31,
   "metadata": {},
   "outputs": [],
   "source": [
    "weight_data = train_section_3_aug[train_section_3_aug.target.isin([0,1])]"
   ]
  },
  {
   "cell_type": "code",
   "execution_count": 32,
   "metadata": {},
   "outputs": [],
   "source": [
    "weighted_section_3_model = weighting_models(models = modelsTrained_section_3 , features = features_to_use, data = weight_data)\n",
    "result = weighting_models(models = modelsTrained_section_3 , features = features_to_use, data = weight_data, trained_model = weighted_section_3_model)"
   ]
  },
  {
   "cell_type": "markdown",
   "metadata": {},
   "source": [
    "### Testing on validation"
   ]
  },
  {
   "cell_type": "markdown",
   "metadata": {},
   "source": [
    "bagging and consolidation with logistic regression"
   ]
  },
  {
   "cell_type": "code",
   "execution_count": 33,
   "metadata": {},
   "outputs": [],
   "source": [
    "validation_dataset = validation_dataset[ ['target'] + numerical_features]\n",
    "validation_dataset_distance = compute_mahalanobis_parts(validation_dataset, numerical_features, 20000,[True,True], means_train, cov_train )\n",
    "validation_dataset_scaled = scaler(validation_dataset_distance, scalerx)"
   ]
  },
  {
   "cell_type": "code",
   "execution_count": 34,
   "metadata": {},
   "outputs": [],
   "source": [
    "validation_section_1, validation_section_2, validation_section_3 = partitions(validation_dataset_scaled)"
   ]
  },
  {
   "cell_type": "code",
   "execution_count": 35,
   "metadata": {},
   "outputs": [],
   "source": [
    "target_vector = np.concatenate((validation_section_1.target.values, validation_section_2.target.values, validation_section_3.target.values), axis=None)"
   ]
  },
  {
   "cell_type": "code",
   "execution_count": 36,
   "metadata": {},
   "outputs": [],
   "source": [
    "predictions_val_section1 = weighting_models(models = modelsTrained_section_1 , features = features_to_use, data = validation_section_1, trained_model = weighted_section_1_model)\n",
    "predictions_val_section2 = weighting_models(models = modelsTrained_section_2 , features = features_to_use, data = validation_section_2, trained_model = weighted_section_2_model)\n",
    "predictions_val_section3 = weighting_models(models = modelsTrained_section_3 , features = features_to_use, data = validation_section_3, trained_model = weighted_section_3_model)\n",
    "vector_predictions = np.concatenate((predictions_val_section1, predictions_val_section2, predictions_val_section3), axis=None)"
   ]
  },
  {
   "cell_type": "code",
   "execution_count": 37,
   "metadata": {},
   "outputs": [
    {
     "data": {
      "text/plain": [
       "0.7859031906806018"
      ]
     },
     "execution_count": 37,
     "metadata": {},
     "output_type": "execute_result"
    }
   ],
   "source": [
    "roc_auc_score(target_vector, vector_predictions)"
   ]
  },
  {
   "cell_type": "code",
   "execution_count": 38,
   "metadata": {},
   "outputs": [
    {
     "data": {
      "image/png": "[encoded data removed]",
      "text/plain": [
       "<Figure size 432x288 with 1 Axes>"
      ]
     },
     "metadata": {},
     "output_type": "display_data"
    }
   ],
   "source": [
    "fpr, tpr, threshold = roc_curve(target_vector, vector_predictions)\n",
    "roc_auc = auc(fpr, tpr)\n",
    "\n",
    "plt.title('Receiver Operating Characteristic')\n",
    "plt.plot(fpr, tpr, 'b', label = 'AUC = %0.2f' % roc_auc)\n",
    "plt.legend(loc = 'lower right')\n",
    "plt.plot([0, 1], [0, 1],'r--')\n",
    "plt.xlim([0, 1])\n",
    "plt.ylim([0, 1])\n",
    "plt.ylabel('True Positive Rate')\n",
    "plt.xlabel('False Positive Rate')\n",
    "plt.show()"
   ]
  },
  {
   "cell_type": "code",
   "execution_count": 39,
   "metadata": {},
   "outputs": [],
   "source": [
    "result_validation = reconstructing_data([validation_section_1, validation_section_2, validation_section_3], [predictions_val_section1, predictions_val_section2, predictions_val_section3])"
   ]
  },
  {
   "cell_type": "code",
   "execution_count": 40,
   "metadata": {},
   "outputs": [
    {
     "data": {
      "text/html": [
       "<div>\n",
       "<style scoped>\n",
       "    .dataframe tbody tr th:only-of-type {\n",
       "        vertical-align: middle;\n",
       "    }\n",
       "\n",
       "    .dataframe tbody tr th {\n",
       "        vertical-align: top;\n",
       "    }\n",
       "\n",
       "    .dataframe thead th {\n",
       "        text-align: right;\n",
       "    }\n",
       "</style>\n",
       "<table border=\"1\" class=\"dataframe\">\n",
       "  <thead>\n",
       "    <tr style=\"text-align: right;\">\n",
       "      <th></th>\n",
       "      <th>target</th>\n",
       "      <th>var_4</th>\n",
       "      <th>var_12</th>\n",
       "      <th>var_46</th>\n",
       "      <th>var_78</th>\n",
       "      <th>var_81</th>\n",
       "      <th>mahalanobis</th>\n",
       "    </tr>\n",
       "  </thead>\n",
       "  <tbody>\n",
       "    <tr>\n",
       "      <th>0</th>\n",
       "      <td>1</td>\n",
       "      <td>0.316356</td>\n",
       "      <td>-1.508938</td>\n",
       "      <td>-0.052114</td>\n",
       "      <td>0.991112</td>\n",
       "      <td>-0.566750</td>\n",
       "      <td>-0.478052</td>\n",
       "    </tr>\n",
       "    <tr>\n",
       "      <th>1</th>\n",
       "      <td>0</td>\n",
       "      <td>0.547758</td>\n",
       "      <td>-0.665887</td>\n",
       "      <td>-0.065743</td>\n",
       "      <td>1.166426</td>\n",
       "      <td>-0.501709</td>\n",
       "      <td>-0.942296</td>\n",
       "    </tr>\n",
       "    <tr>\n",
       "      <th>2</th>\n",
       "      <td>0</td>\n",
       "      <td>0.784832</td>\n",
       "      <td>-0.189335</td>\n",
       "      <td>-0.089332</td>\n",
       "      <td>-1.417152</td>\n",
       "      <td>-0.261905</td>\n",
       "      <td>-0.798555</td>\n",
       "    </tr>\n",
       "    <tr>\n",
       "      <th>3</th>\n",
       "      <td>0</td>\n",
       "      <td>-0.309164</td>\n",
       "      <td>1.031272</td>\n",
       "      <td>-0.225729</td>\n",
       "      <td>-0.655046</td>\n",
       "      <td>2.067391</td>\n",
       "      <td>0.300614</td>\n",
       "    </tr>\n",
       "    <tr>\n",
       "      <th>4</th>\n",
       "      <td>0</td>\n",
       "      <td>-0.105631</td>\n",
       "      <td>0.688470</td>\n",
       "      <td>0.593702</td>\n",
       "      <td>-0.615033</td>\n",
       "      <td>0.564877</td>\n",
       "      <td>-1.230873</td>\n",
       "    </tr>\n",
       "  </tbody>\n",
       "</table>\n",
       "</div>"
      ],
      "text/plain": [
       "   target     var_4    var_12    var_46    var_78    var_81  mahalanobis\n",
       "0       1  0.316356 -1.508938 -0.052114  0.991112 -0.566750    -0.478052\n",
       "1       0  0.547758 -0.665887 -0.065743  1.166426 -0.501709    -0.942296\n",
       "2       0  0.784832 -0.189335 -0.089332 -1.417152 -0.261905    -0.798555\n",
       "3       0 -0.309164  1.031272 -0.225729 -0.655046  2.067391     0.300614\n",
       "4       0 -0.105631  0.688470  0.593702 -0.615033  0.564877    -1.230873"
      ]
     },
     "execution_count": 40,
     "metadata": {},
     "output_type": "execute_result"
    }
   ],
   "source": [
    "result_validation.head()"
   ]
  },
  {
   "cell_type": "markdown",
   "metadata": {},
   "source": [
    "### Prediction"
   ]
  },
  {
   "cell_type": "code",
   "execution_count": 41,
   "metadata": {},
   "outputs": [],
   "source": [
    "test_target = test.assign(target = 0)\n",
    "test_dataset = test_target[ ['target'] + numerical_features].copy()\n",
    "test_dataset_distance = compute_mahalanobis_parts(test_dataset, numerical_features, 20000,[True,True], means_train, cov_train )\n",
    "test_dataset_scaled = scaler(test_dataset_distance, scalerx)"
   ]
  },
  {
   "cell_type": "code",
   "execution_count": 42,
   "metadata": {},
   "outputs": [],
   "source": [
    "test_section_1, test_section_2, test_section_3 = partitions(test_dataset_scaled)"
   ]
  },
  {
   "cell_type": "code",
   "execution_count": 43,
   "metadata": {},
   "outputs": [],
   "source": [
    "target_vector = np.concatenate((test_section_1.target.values, test_section_2.target.values, test_section_3.target.values), axis=None)"
   ]
  },
  {
   "cell_type": "code",
   "execution_count": 44,
   "metadata": {},
   "outputs": [],
   "source": [
    "predictions_test_section1 = weighting_models(models = modelsTrained_section_1 , features = features_to_use, data = test_section_1, trained_model = weighted_section_1_model)\n",
    "predictions_test_section2 = weighting_models(models = modelsTrained_section_2 , features = features_to_use, data = test_section_2, trained_model = weighted_section_2_model)\n",
    "predictions_test_section3 = weighting_models(models = modelsTrained_section_3 , features = features_to_use, data = test_section_3, trained_model = weighted_section_3_model)\n",
    "vector_predictions = np.concatenate((predictions_test_section1, predictions_test_section2, predictions_test_section3), axis=None)"
   ]
  },
  {
   "cell_type": "code",
   "execution_count": 45,
   "metadata": {},
   "outputs": [
    {
     "data": {
      "text/plain": [
       "array([0.03991994, 0.02031838, 0.02038393, ..., 0.04284247, 0.07687867,\n",
       "       0.00982954])"
      ]
     },
     "execution_count": 45,
     "metadata": {},
     "output_type": "execute_result"
    }
   ],
   "source": [
    "vector_predictions"
   ]
  },
  {
   "cell_type": "code",
   "execution_count": 46,
   "metadata": {},
   "outputs": [
    {
     "data": {
      "text/plain": [
       "(200000,)"
      ]
     },
     "execution_count": 46,
     "metadata": {},
     "output_type": "execute_result"
    }
   ],
   "source": [
    "vector_predictions.shape"
   ]
  },
  {
   "cell_type": "code",
   "execution_count": 66,
   "metadata": {},
   "outputs": [],
   "source": [
    "test['target'] = vector_predictions\n",
    "#test['target'] = np.where(test['target'] >0.07, 1, 0)"
   ]
  },
  {
   "cell_type": "code",
   "execution_count": 67,
   "metadata": {},
   "outputs": [
    {
     "data": {
      "text/html": [
       "<div>\n",
       "<style scoped>\n",
       "    .dataframe tbody tr th:only-of-type {\n",
       "        vertical-align: middle;\n",
       "    }\n",
       "\n",
       "    .dataframe tbody tr th {\n",
       "        vertical-align: top;\n",
       "    }\n",
       "\n",
       "    .dataframe thead th {\n",
       "        text-align: right;\n",
       "    }\n",
       "</style>\n",
       "<table border=\"1\" class=\"dataframe\">\n",
       "  <thead>\n",
       "    <tr style=\"text-align: right;\">\n",
       "      <th></th>\n",
       "      <th>ID_code</th>\n",
       "      <th>var_0</th>\n",
       "      <th>var_1</th>\n",
       "      <th>var_2</th>\n",
       "      <th>var_3</th>\n",
       "      <th>var_4</th>\n",
       "      <th>var_5</th>\n",
       "      <th>var_6</th>\n",
       "      <th>var_7</th>\n",
       "      <th>var_8</th>\n",
       "      <th>...</th>\n",
       "      <th>var_191</th>\n",
       "      <th>var_192</th>\n",
       "      <th>var_193</th>\n",
       "      <th>var_194</th>\n",
       "      <th>var_195</th>\n",
       "      <th>var_196</th>\n",
       "      <th>var_197</th>\n",
       "      <th>var_198</th>\n",
       "      <th>var_199</th>\n",
       "      <th>target</th>\n",
       "    </tr>\n",
       "  </thead>\n",
       "  <tbody>\n",
       "    <tr>\n",
       "      <th>0</th>\n",
       "      <td>test_0</td>\n",
       "      <td>11.0656</td>\n",
       "      <td>7.7798</td>\n",
       "      <td>12.9536</td>\n",
       "      <td>9.4292</td>\n",
       "      <td>11.4327</td>\n",
       "      <td>-2.3805</td>\n",
       "      <td>5.8493</td>\n",
       "      <td>18.2675</td>\n",
       "      <td>2.1337</td>\n",
       "      <td>...</td>\n",
       "      <td>11.8495</td>\n",
       "      <td>-1.4300</td>\n",
       "      <td>2.4508</td>\n",
       "      <td>13.7112</td>\n",
       "      <td>2.4669</td>\n",
       "      <td>4.3654</td>\n",
       "      <td>10.7200</td>\n",
       "      <td>15.4722</td>\n",
       "      <td>-8.7197</td>\n",
       "      <td>0.039920</td>\n",
       "    </tr>\n",
       "    <tr>\n",
       "      <th>1</th>\n",
       "      <td>test_1</td>\n",
       "      <td>8.5304</td>\n",
       "      <td>1.2543</td>\n",
       "      <td>11.3047</td>\n",
       "      <td>5.1858</td>\n",
       "      <td>9.1974</td>\n",
       "      <td>-4.0117</td>\n",
       "      <td>6.0196</td>\n",
       "      <td>18.6316</td>\n",
       "      <td>-4.4131</td>\n",
       "      <td>...</td>\n",
       "      <td>8.8349</td>\n",
       "      <td>0.9403</td>\n",
       "      <td>10.1282</td>\n",
       "      <td>15.5765</td>\n",
       "      <td>0.4773</td>\n",
       "      <td>-1.4852</td>\n",
       "      <td>9.8714</td>\n",
       "      <td>19.1293</td>\n",
       "      <td>-20.9760</td>\n",
       "      <td>0.020318</td>\n",
       "    </tr>\n",
       "    <tr>\n",
       "      <th>2</th>\n",
       "      <td>test_2</td>\n",
       "      <td>5.4827</td>\n",
       "      <td>-10.3581</td>\n",
       "      <td>10.1407</td>\n",
       "      <td>7.0479</td>\n",
       "      <td>10.2628</td>\n",
       "      <td>9.8052</td>\n",
       "      <td>4.8950</td>\n",
       "      <td>20.2537</td>\n",
       "      <td>1.5233</td>\n",
       "      <td>...</td>\n",
       "      <td>10.9935</td>\n",
       "      <td>1.9803</td>\n",
       "      <td>2.1800</td>\n",
       "      <td>12.9813</td>\n",
       "      <td>2.1281</td>\n",
       "      <td>-7.1086</td>\n",
       "      <td>7.0618</td>\n",
       "      <td>19.8956</td>\n",
       "      <td>-23.1794</td>\n",
       "      <td>0.020384</td>\n",
       "    </tr>\n",
       "    <tr>\n",
       "      <th>3</th>\n",
       "      <td>test_3</td>\n",
       "      <td>8.5374</td>\n",
       "      <td>-1.3222</td>\n",
       "      <td>12.0220</td>\n",
       "      <td>6.5749</td>\n",
       "      <td>8.8458</td>\n",
       "      <td>3.1744</td>\n",
       "      <td>4.9397</td>\n",
       "      <td>20.5660</td>\n",
       "      <td>3.3755</td>\n",
       "      <td>...</td>\n",
       "      <td>9.0766</td>\n",
       "      <td>1.6580</td>\n",
       "      <td>3.5813</td>\n",
       "      <td>15.1874</td>\n",
       "      <td>3.1656</td>\n",
       "      <td>3.9567</td>\n",
       "      <td>9.2295</td>\n",
       "      <td>13.0168</td>\n",
       "      <td>-4.2108</td>\n",
       "      <td>0.013757</td>\n",
       "    </tr>\n",
       "    <tr>\n",
       "      <th>4</th>\n",
       "      <td>test_4</td>\n",
       "      <td>11.7058</td>\n",
       "      <td>-0.1327</td>\n",
       "      <td>14.1295</td>\n",
       "      <td>7.7506</td>\n",
       "      <td>9.1035</td>\n",
       "      <td>-8.5848</td>\n",
       "      <td>6.8595</td>\n",
       "      <td>10.6048</td>\n",
       "      <td>2.9890</td>\n",
       "      <td>...</td>\n",
       "      <td>9.1723</td>\n",
       "      <td>1.2835</td>\n",
       "      <td>3.3778</td>\n",
       "      <td>19.5542</td>\n",
       "      <td>-0.2860</td>\n",
       "      <td>-5.1612</td>\n",
       "      <td>7.2882</td>\n",
       "      <td>13.9260</td>\n",
       "      <td>-9.1846</td>\n",
       "      <td>0.058317</td>\n",
       "    </tr>\n",
       "  </tbody>\n",
       "</table>\n",
       "<p>5 rows × 202 columns</p>\n",
       "</div>"
      ],
      "text/plain": [
       "  ID_code    var_0    var_1    var_2   var_3    var_4   var_5   var_6  \\\n",
       "0  test_0  11.0656   7.7798  12.9536  9.4292  11.4327 -2.3805  5.8493   \n",
       "1  test_1   8.5304   1.2543  11.3047  5.1858   9.1974 -4.0117  6.0196   \n",
       "2  test_2   5.4827 -10.3581  10.1407  7.0479  10.2628  9.8052  4.8950   \n",
       "3  test_3   8.5374  -1.3222  12.0220  6.5749   8.8458  3.1744  4.9397   \n",
       "4  test_4  11.7058  -0.1327  14.1295  7.7506   9.1035 -8.5848  6.8595   \n",
       "\n",
       "     var_7   var_8  ...  var_191  var_192  var_193  var_194  var_195  var_196  \\\n",
       "0  18.2675  2.1337  ...  11.8495  -1.4300   2.4508  13.7112   2.4669   4.3654   \n",
       "1  18.6316 -4.4131  ...   8.8349   0.9403  10.1282  15.5765   0.4773  -1.4852   \n",
       "2  20.2537  1.5233  ...  10.9935   1.9803   2.1800  12.9813   2.1281  -7.1086   \n",
       "3  20.5660  3.3755  ...   9.0766   1.6580   3.5813  15.1874   3.1656   3.9567   \n",
       "4  10.6048  2.9890  ...   9.1723   1.2835   3.3778  19.5542  -0.2860  -5.1612   \n",
       "\n",
       "   var_197  var_198  var_199    target  \n",
       "0  10.7200  15.4722  -8.7197  0.039920  \n",
       "1   9.8714  19.1293 -20.9760  0.020318  \n",
       "2   7.0618  19.8956 -23.1794  0.020384  \n",
       "3   9.2295  13.0168  -4.2108  0.013757  \n",
       "4   7.2882  13.9260  -9.1846  0.058317  \n",
       "\n",
       "[5 rows x 202 columns]"
      ]
     },
     "execution_count": 67,
     "metadata": {},
     "output_type": "execute_result"
    }
   ],
   "source": [
    "test.head()"
   ]
  },
  {
   "cell_type": "code",
   "execution_count": 68,
   "metadata": {},
   "outputs": [],
   "source": [
    "test[['ID_code','target']].set_index('ID_code').to_csv('my_prediction.csv')"
   ]
  },
  {
   "cell_type": "code",
   "execution_count": null,
   "metadata": {},
   "outputs": [],
   "source": []
  },
  {
   "cell_type": "code",
   "execution_count": null,
   "metadata": {},
   "outputs": [],
   "source": []
  }
 ],
 "metadata": {
  "kernelspec": {
   "display_name": "Python 3",
   "language": "python",
   "name": "python3"
  },
  "language_info": {
   "codemirror_mode": {
    "name": "ipython",
    "version": 3
   },
   "file_extension": ".py",
   "mimetype": "text/x-python",
   "name": "python",
   "nbconvert_exporter": "python",
   "pygments_lexer": "ipython3",
   "version": "3.7.6"
  }
 },
 "nbformat": 4,
 "nbformat_minor": 4
}

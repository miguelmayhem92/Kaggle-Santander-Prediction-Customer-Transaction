{
 "cells": [
  {
   "cell_type": "markdown",
   "metadata": {},
   "source": [
    "## Santander Customer Transactions predictions"
   ]
  },
  {
   "cell_type": "markdown",
   "metadata": {},
   "source": [
    "#BigDataSets#HighDimensionality#DataBalancing"
   ]
  },
  {
   "cell_type": "code",
   "execution_count": 1,
   "metadata": {},
   "outputs": [],
   "source": [
    "import pandas as pd\n",
    "import numpy as np\n",
    "from datetime import datetime\n",
    "from datetime import timedelta  \n",
    "import os\n",
    "import random\n",
    "import scipy as sp\n",
    "\n",
    "import matplotlib.pyplot as plt\n",
    "from mpl_toolkits.mplot3d import Axes3D\n",
    "import matplotlib.gridspec as gridspec\n",
    "\n",
    "import seaborn as sns; sns.set()"
   ]
  },
  {
   "cell_type": "code",
   "execution_count": 2,
   "metadata": {},
   "outputs": [],
   "source": [
    "from sklearn.preprocessing import StandardScaler"
   ]
  },
  {
   "cell_type": "code",
   "execution_count": 3,
   "metadata": {},
   "outputs": [],
   "source": [
    "import warnings\n",
    "warnings.filterwarnings('ignore')"
   ]
  },
  {
   "cell_type": "code",
   "execution_count": 4,
   "metadata": {},
   "outputs": [],
   "source": [
    "from functions import scaler, threeD_plot, mahalanobis, mahalanobis_vector_plot, compute_mahalanobis_parts , normal_augmentation, concentrated_augmentation\n",
    "from functions import augmentation_strategy, augmentation_selection_rates, metrics_train_validation, balance_validation\n",
    "from functions import get_dictionary_count_lables, count_encoding, unscaler, k_folds_indexs\n",
    "from functions import model_fitting_kfold, weighting_models, jsontotable, plot_results, reconstructing_data"
   ]
  },
  {
   "cell_type": "code",
   "execution_count": 5,
   "metadata": {},
   "outputs": [],
   "source": [
    "from sklearn.neighbors import KNeighborsClassifier\n",
    "\n",
    "from sklearn.ensemble import GradientBoostingClassifier\n",
    "from sklearn.gaussian_process.kernels import RBF\n",
    "\n",
    "from sklearn.ensemble import RandomForestClassifier\n",
    "\n",
    "from sklearn.metrics import precision_score,accuracy_score,roc_auc_score, roc_curve, auc"
   ]
  },
  {
   "cell_type": "markdown",
   "metadata": {},
   "source": [
    "### Loading Data"
   ]
  },
  {
   "cell_type": "code",
   "execution_count": 6,
   "metadata": {},
   "outputs": [],
   "source": [
    "train = pd.read_csv('train.csv')\n",
    "ss = pd.read_csv('sample_submission.csv')\n",
    "test = pd.read_csv('test.csv')"
   ]
  },
  {
   "cell_type": "code",
   "execution_count": 7,
   "metadata": {},
   "outputs": [],
   "source": [
    "#['var_0','var_1', 'var_2','var_6','var_12','var_13','var_21','var_22','var_26','var_34',\n",
    "#                  'var_40','var_53','var_76','var_78','var_80','var_81','var_99','var_109','var_110','var_133',\n",
    "#                  'var_139','var_146','var_148','var_164','var_165','var_166','var_174','var_190','var_198',]"
   ]
  },
  {
   "cell_type": "code",
   "execution_count": 8,
   "metadata": {},
   "outputs": [],
   "source": [
    "numerical_features = ['var_0','var_1', 'var_2','var_6','var_12','var_13','var_21','var_22','var_26','var_34',\n",
    "                  'var_40','var_53','var_76','var_78','var_80','var_81','var_99','var_109','var_110','var_133',\n",
    "                  'var_139','var_146','var_148','var_164','var_165','var_166','var_174','var_190','var_198',] #'mahalanobis'"
   ]
  },
  {
   "cell_type": "markdown",
   "metadata": {},
   "source": [
    "<b> random split"
   ]
  },
  {
   "cell_type": "code",
   "execution_count": 73,
   "metadata": {},
   "outputs": [],
   "source": [
    "seed = 158\n",
    "validation_dataset = train.sample(frac = 0.25, replace = False, random_state = seed).reset_index(drop = True)\n",
    "validation_dataset = validation_dataset.copy()[['target'] + numerical_features]\n",
    "train_dataset = train[~train.index.isin(validation_dataset.index)].reset_index(drop = True)[['target'] + numerical_features]"
   ]
  },
  {
   "cell_type": "code",
   "execution_count": 74,
   "metadata": {},
   "outputs": [],
   "source": [
    "train_dataset = train_dataset[ ['target'] + numerical_features]\n",
    "\n",
    "means_train = np.mean(train_dataset[numerical_features])  ### Save this , over not scalled\n",
    "cov_train = np.cov(train_dataset[numerical_features].T) ### Save thisnot, over not scalled"
   ]
  },
  {
   "cell_type": "code",
   "execution_count": 75,
   "metadata": {},
   "outputs": [],
   "source": [
    "train_dataset_distance = compute_mahalanobis_parts(train_dataset, numerical_features, 10000,[True,True], means_train, cov_train )"
   ]
  },
  {
   "cell_type": "markdown",
   "metadata": {},
   "source": [
    "<b> validation_dataset is ussed as the test set"
   ]
  },
  {
   "cell_type": "code",
   "execution_count": 12,
   "metadata": {},
   "outputs": [
    {
     "data": {
      "text/plain": [
       "target\n",
       "0    134860\n",
       "1     15140\n",
       "Name: mahalanobis, dtype: int64"
      ]
     },
     "execution_count": 12,
     "metadata": {},
     "output_type": "execute_result"
    }
   ],
   "source": [
    "train_dataset_distance.pivot_table(index = 'target', aggfunc = 'count')['mahalanobis']"
   ]
  },
  {
   "cell_type": "markdown",
   "metadata": {},
   "source": [
    "### Cross validation using K-fold and parameter tunning"
   ]
  },
  {
   "cell_type": "code",
   "execution_count": 13,
   "metadata": {},
   "outputs": [],
   "source": [
    "dict_1 = {'n':4000, 'range': [0,100], 'label': 2, 'rate': 0.65}  #random augmentation\n",
    "dict_2 = {'n':10000, 'label': 3, 'category': 1} # augmetation on existing ones\n",
    "dict_3 = {'n':4000, 'range': [0,100], 'label': 4, 'category': 2} # augmetation on the previous random ones\n",
    "\n",
    "train_section_aug = augmentation_strategy(data = train_dataset_distance, dict_1 = dict_1,dict_2 = dict_2, dict_3 = dict_3,\n",
    "                      gen_mean = means_train, gen_cov = cov_train, columns_features = numerical_features ).reset_index(drop = True)"
   ]
  },
  {
   "cell_type": "code",
   "execution_count": 14,
   "metadata": {},
   "outputs": [
    {
     "data": {
      "text/plain": [
       "target\n",
       "0    134860\n",
       "1     15140\n",
       "2      4000\n",
       "3     10000\n",
       "4      4000\n",
       "Name: mahalanobis, dtype: int64"
      ]
     },
     "execution_count": 14,
     "metadata": {},
     "output_type": "execute_result"
    }
   ],
   "source": [
    "train_section_aug.pivot_table(index = 'target', aggfunc = 'count')['mahalanobis']"
   ]
  },
  {
   "cell_type": "markdown",
   "metadata": {},
   "source": [
    "<b> scaling"
   ]
  },
  {
   "cell_type": "code",
   "execution_count": 15,
   "metadata": {},
   "outputs": [],
   "source": [
    "train_dataset_scaled, scalerx = scaler(train_section_aug)"
   ]
  },
  {
   "cell_type": "markdown",
   "metadata": {},
   "source": [
    "<b> counting encoding"
   ]
  },
  {
   "cell_type": "code",
   "execution_count": 16,
   "metadata": {},
   "outputs": [],
   "source": [
    "labels_counting = get_dictionary_count_lables(train_section_aug, numerical_features, 30) ### Based on the scale version"
   ]
  },
  {
   "cell_type": "code",
   "execution_count": 17,
   "metadata": {},
   "outputs": [],
   "source": [
    "train_dataset_encode = count_encoding(train_section_aug, labels_counting, numerical_features)"
   ]
  },
  {
   "cell_type": "code",
   "execution_count": 18,
   "metadata": {},
   "outputs": [
    {
     "data": {
      "text/html": [
       "<div>\n",
       "<style scoped>\n",
       "    .dataframe tbody tr th:only-of-type {\n",
       "        vertical-align: middle;\n",
       "    }\n",
       "\n",
       "    .dataframe tbody tr th {\n",
       "        vertical-align: top;\n",
       "    }\n",
       "\n",
       "    .dataframe thead th {\n",
       "        text-align: right;\n",
       "    }\n",
       "</style>\n",
       "<table border=\"1\" class=\"dataframe\">\n",
       "  <thead>\n",
       "    <tr style=\"text-align: right;\">\n",
       "      <th></th>\n",
       "      <th>target</th>\n",
       "      <th>var_0</th>\n",
       "      <th>var_1</th>\n",
       "      <th>var_2</th>\n",
       "      <th>var_6</th>\n",
       "      <th>var_12</th>\n",
       "      <th>var_13</th>\n",
       "      <th>var_21</th>\n",
       "      <th>var_22</th>\n",
       "      <th>var_26</th>\n",
       "      <th>...</th>\n",
       "      <th>countvar_133</th>\n",
       "      <th>countvar_139</th>\n",
       "      <th>countvar_146</th>\n",
       "      <th>countvar_148</th>\n",
       "      <th>countvar_164</th>\n",
       "      <th>countvar_165</th>\n",
       "      <th>countvar_166</th>\n",
       "      <th>countvar_174</th>\n",
       "      <th>countvar_190</th>\n",
       "      <th>countvar_198</th>\n",
       "    </tr>\n",
       "  </thead>\n",
       "  <tbody>\n",
       "    <tr>\n",
       "      <th>0</th>\n",
       "      <td>0</td>\n",
       "      <td>14.6323</td>\n",
       "      <td>4.4795</td>\n",
       "      <td>9.7187</td>\n",
       "      <td>6.9328</td>\n",
       "      <td>14.0415</td>\n",
       "      <td>10.4034</td>\n",
       "      <td>20.8865</td>\n",
       "      <td>0.6529</td>\n",
       "      <td>7.2176</td>\n",
       "      <td>...</td>\n",
       "      <td>1323</td>\n",
       "      <td>672</td>\n",
       "      <td>588</td>\n",
       "      <td>1943</td>\n",
       "      <td>1653</td>\n",
       "      <td>2434</td>\n",
       "      <td>1897</td>\n",
       "      <td>1879</td>\n",
       "      <td>1375</td>\n",
       "      <td>1991</td>\n",
       "    </tr>\n",
       "    <tr>\n",
       "      <th>1</th>\n",
       "      <td>0</td>\n",
       "      <td>6.1434</td>\n",
       "      <td>0.8194</td>\n",
       "      <td>7.7495</td>\n",
       "      <td>5.5317</td>\n",
       "      <td>14.1274</td>\n",
       "      <td>17.5591</td>\n",
       "      <td>16.7864</td>\n",
       "      <td>0.8318</td>\n",
       "      <td>-3.0612</td>\n",
       "      <td>...</td>\n",
       "      <td>1613</td>\n",
       "      <td>1739</td>\n",
       "      <td>1983</td>\n",
       "      <td>1632</td>\n",
       "      <td>1770</td>\n",
       "      <td>1790</td>\n",
       "      <td>510</td>\n",
       "      <td>1936</td>\n",
       "      <td>1700</td>\n",
       "      <td>1471</td>\n",
       "    </tr>\n",
       "    <tr>\n",
       "      <th>2</th>\n",
       "      <td>0</td>\n",
       "      <td>14.8377</td>\n",
       "      <td>0.9345</td>\n",
       "      <td>11.6566</td>\n",
       "      <td>4.9043</td>\n",
       "      <td>13.6409</td>\n",
       "      <td>3.6449</td>\n",
       "      <td>17.5242</td>\n",
       "      <td>6.9123</td>\n",
       "      <td>-11.3528</td>\n",
       "      <td>...</td>\n",
       "      <td>1613</td>\n",
       "      <td>1763</td>\n",
       "      <td>85</td>\n",
       "      <td>1218</td>\n",
       "      <td>1182</td>\n",
       "      <td>544</td>\n",
       "      <td>1897</td>\n",
       "      <td>739</td>\n",
       "      <td>1375</td>\n",
       "      <td>1976</td>\n",
       "    </tr>\n",
       "    <tr>\n",
       "      <th>3</th>\n",
       "      <td>0</td>\n",
       "      <td>18.5890</td>\n",
       "      <td>-2.3998</td>\n",
       "      <td>13.8151</td>\n",
       "      <td>6.2728</td>\n",
       "      <td>14.3619</td>\n",
       "      <td>11.3760</td>\n",
       "      <td>17.1774</td>\n",
       "      <td>7.1272</td>\n",
       "      <td>-5.3232</td>\n",
       "      <td>...</td>\n",
       "      <td>1178</td>\n",
       "      <td>1099</td>\n",
       "      <td>910</td>\n",
       "      <td>1943</td>\n",
       "      <td>1629</td>\n",
       "      <td>2434</td>\n",
       "      <td>651</td>\n",
       "      <td>399</td>\n",
       "      <td>789</td>\n",
       "      <td>1811</td>\n",
       "    </tr>\n",
       "    <tr>\n",
       "      <th>4</th>\n",
       "      <td>0</td>\n",
       "      <td>9.5171</td>\n",
       "      <td>-4.3724</td>\n",
       "      <td>9.4933</td>\n",
       "      <td>5.5936</td>\n",
       "      <td>14.1033</td>\n",
       "      <td>10.0625</td>\n",
       "      <td>16.4844</td>\n",
       "      <td>0.5054</td>\n",
       "      <td>-7.8316</td>\n",
       "      <td>...</td>\n",
       "      <td>608</td>\n",
       "      <td>1763</td>\n",
       "      <td>910</td>\n",
       "      <td>1943</td>\n",
       "      <td>1561</td>\n",
       "      <td>1514</td>\n",
       "      <td>1424</td>\n",
       "      <td>1879</td>\n",
       "      <td>561</td>\n",
       "      <td>1143</td>\n",
       "    </tr>\n",
       "  </tbody>\n",
       "</table>\n",
       "<p>5 rows × 60 columns</p>\n",
       "</div>"
      ],
      "text/plain": [
       "   target    var_0   var_1    var_2   var_6   var_12   var_13   var_21  \\\n",
       "0       0  14.6323  4.4795   9.7187  6.9328  14.0415  10.4034  20.8865   \n",
       "1       0   6.1434  0.8194   7.7495  5.5317  14.1274  17.5591  16.7864   \n",
       "2       0  14.8377  0.9345  11.6566  4.9043  13.6409   3.6449  17.5242   \n",
       "3       0  18.5890 -2.3998  13.8151  6.2728  14.3619  11.3760  17.1774   \n",
       "4       0   9.5171 -4.3724   9.4933  5.5936  14.1033  10.0625  16.4844   \n",
       "\n",
       "   var_22   var_26  ...  countvar_133  countvar_139  countvar_146  \\\n",
       "0  0.6529   7.2176  ...          1323           672           588   \n",
       "1  0.8318  -3.0612  ...          1613          1739          1983   \n",
       "2  6.9123 -11.3528  ...          1613          1763            85   \n",
       "3  7.1272  -5.3232  ...          1178          1099           910   \n",
       "4  0.5054  -7.8316  ...           608          1763           910   \n",
       "\n",
       "   countvar_148  countvar_164  countvar_165  countvar_166  countvar_174  \\\n",
       "0          1943          1653          2434          1897          1879   \n",
       "1          1632          1770          1790           510          1936   \n",
       "2          1218          1182           544          1897           739   \n",
       "3          1943          1629          2434           651           399   \n",
       "4          1943          1561          1514          1424          1879   \n",
       "\n",
       "   countvar_190  countvar_198  \n",
       "0          1375          1991  \n",
       "1          1700          1471  \n",
       "2          1375          1976  \n",
       "3           789          1811  \n",
       "4           561          1143  \n",
       "\n",
       "[5 rows x 60 columns]"
      ]
     },
     "execution_count": 18,
     "metadata": {},
     "output_type": "execute_result"
    }
   ],
   "source": [
    "train_dataset_encode.head()"
   ]
  },
  {
   "cell_type": "markdown",
   "metadata": {},
   "source": [
    "<b> Folds"
   ]
  },
  {
   "cell_type": "code",
   "execution_count": 19,
   "metadata": {},
   "outputs": [],
   "source": [
    "kfolds_touse = k_folds_indexs(train_dataset_encode, folds = 5, balanced = True, validation_additional_false = 1000, validation_reduce_false = 66000)"
   ]
  },
  {
   "cell_type": "code",
   "execution_count": 20,
   "metadata": {},
   "outputs": [
    {
     "data": {
      "text/plain": [
       "target\n",
       "0    64844\n",
       "1    12124\n",
       "2     4000\n",
       "3    10000\n",
       "4     4000\n",
       "Name: mahalanobis, dtype: int64"
      ]
     },
     "execution_count": 20,
     "metadata": {},
     "output_type": "execute_result"
    }
   ],
   "source": [
    "train_dataset_encode[train_dataset_encode.index.isin(kfolds_touse['fold 3']['train index'])].pivot_table(index = 'target', aggfunc = 'count')['mahalanobis']"
   ]
  },
  {
   "cell_type": "code",
   "execution_count": 21,
   "metadata": {},
   "outputs": [
    {
     "data": {
      "text/plain": [
       "94968"
      ]
     },
     "execution_count": 21,
     "metadata": {},
     "output_type": "execute_result"
    }
   ],
   "source": [
    "len(train_dataset_encode[train_dataset_encode.index.isin(kfolds_touse['fold 3']['train index'])])"
   ]
  },
  {
   "cell_type": "markdown",
   "metadata": {},
   "source": [
    "<b> tunning strategy"
   ]
  },
  {
   "cell_type": "code",
   "execution_count": 22,
   "metadata": {},
   "outputs": [],
   "source": [
    "features_to_use = list(train_dataset_encode)[1:]"
   ]
  },
  {
   "cell_type": "markdown",
   "metadata": {},
   "source": [
    "#### Section 1: Random Forest"
   ]
  },
  {
   "cell_type": "code",
   "execution_count": 23,
   "metadata": {},
   "outputs": [],
   "source": [
    "my_rf_models = list()\n",
    "number_of_machines = 10\n",
    "machines_labels = [f'machine-{x}' for x in range(1,number_of_machines +1) ]\n",
    "\n",
    "parameters = { 'Machine':machines_labels,\n",
    "    'n_estimators' : [250, 200, 240, 230, 250, 270, 290, 250, 280, 280],\n",
    "    'max_depth' : [35, 35, 30, 36, 37, 33, 31, 35, 40, 32 ],        \n",
    "    'min_samples_split' : [30, 20, 22, 30, 20, 35, 37, 33, 25, 28 ], \n",
    "    'min_samples_leaf': [10, 13, 14, 11, 8, 10, 5, 11, 15, 14 ],\n",
    " 'rate_aug': [1.0, 1.0, 1.0, 1.0, 1.0, 1.0, 1.0, 1.0, 1.0, 1.0,],\n",
    " 'sample_aug': [0.6, 0.6, 0.6, 0.6, 0.6, 0.6, 0.6, 0.6, 0.6, 0.6,] }\n",
    "\n",
    "for i in range(number_of_machines):\n",
    "    n_estimators_param = parameters['n_estimators'][i]\n",
    "    max_depth_param = parameters['max_depth'][i]\n",
    "    min_samples_split_param = parameters['min_samples_split'][i]\n",
    "    min_samples_leaf_param = parameters['min_samples_leaf'][i]\n",
    "    \n",
    "    my_rf = RandomForestClassifier(n_estimators = n_estimators_param , max_depth = max_depth_param, \n",
    "                                   min_samples_split = min_samples_split_param, min_samples_leaf = min_samples_leaf_param)\n",
    "    my_rf_models.append(my_rf)\n",
    "\n",
    "parameters_df = pd.DataFrame(parameters)  "
   ]
  },
  {
   "cell_type": "code",
   "execution_count": 26,
   "metadata": {},
   "outputs": [
    {
     "name": "stdout",
     "output_type": "stream",
     "text": [
      "done machine 1\n",
      "done machine 2\n",
      "done machine 3\n",
      "done machine 4\n",
      "done machine 5\n",
      "done machine 6\n",
      "done machine 7\n",
      "done machine 8\n",
      "done machine 9\n",
      "done machine 10\n"
     ]
    }
   ],
   "source": [
    "result_tunning = model_fitting_kfold(models = my_rf_models , indexes_kfolds = kfolds_touse, features = features_to_use, train_data = train_dataset_encode,\n",
    "                           rate_aug = parameters['rate_aug'], sample_aug = parameters['sample_aug'])"
   ]
  },
  {
   "cell_type": "code",
   "execution_count": 27,
   "metadata": {},
   "outputs": [],
   "source": [
    "toplot_result = jsontotable(result_tunning[0], typex = 'Validation')"
   ]
  },
  {
   "cell_type": "code",
   "execution_count": 28,
   "metadata": {},
   "outputs": [
    {
     "data": {
      "image/png": "[encoded data removed]",
      "text/plain": [
       "<Figure size 1080x720 with 2 Axes>"
      ]
     },
     "metadata": {},
     "output_type": "display_data"
    }
   ],
   "source": [
    "plot_results(toplot_result)"
   ]
  },
  {
   "cell_type": "code",
   "execution_count": 29,
   "metadata": {},
   "outputs": [
    {
     "data": {
      "text/html": [
       "<div>\n",
       "<style scoped>\n",
       "    .dataframe tbody tr th:only-of-type {\n",
       "        vertical-align: middle;\n",
       "    }\n",
       "\n",
       "    .dataframe tbody tr th {\n",
       "        vertical-align: top;\n",
       "    }\n",
       "\n",
       "    .dataframe thead th {\n",
       "        text-align: right;\n",
       "    }\n",
       "</style>\n",
       "<table border=\"1\" class=\"dataframe\">\n",
       "  <thead>\n",
       "    <tr style=\"text-align: right;\">\n",
       "      <th></th>\n",
       "      <th>Machine</th>\n",
       "      <th>n_estimators</th>\n",
       "      <th>max_depth</th>\n",
       "      <th>min_samples_split</th>\n",
       "      <th>min_samples_leaf</th>\n",
       "      <th>rate_aug</th>\n",
       "      <th>sample_aug</th>\n",
       "    </tr>\n",
       "  </thead>\n",
       "  <tbody>\n",
       "    <tr>\n",
       "      <th>4</th>\n",
       "      <td>machine-5</td>\n",
       "      <td>250</td>\n",
       "      <td>37</td>\n",
       "      <td>20</td>\n",
       "      <td>8</td>\n",
       "      <td>1.0</td>\n",
       "      <td>0.6</td>\n",
       "    </tr>\n",
       "  </tbody>\n",
       "</table>\n",
       "</div>"
      ],
      "text/plain": [
       "     Machine  n_estimators  max_depth  min_samples_split  min_samples_leaf  \\\n",
       "4  machine-5           250         37                 20                 8   \n",
       "\n",
       "   rate_aug  sample_aug  \n",
       "4       1.0         0.6  "
      ]
     },
     "execution_count": 29,
     "metadata": {},
     "output_type": "execute_result"
    }
   ],
   "source": [
    "parameters_df[parameters_df.Machine == 'machine-5']"
   ]
  },
  {
   "cell_type": "markdown",
   "metadata": {},
   "source": [
    "#### Section 1: Gradient Boosting"
   ]
  },
  {
   "cell_type": "code",
   "execution_count": 30,
   "metadata": {},
   "outputs": [],
   "source": [
    "my_gbc_models = list()\n",
    "number_of_machines = 8\n",
    "machines_labels = [f'machine-{x}' for x in range(1,number_of_machines +1) ]\n",
    "\n",
    "parameters = { 'Machine':machines_labels,\n",
    "    'n_estimators' : [ 150, 160, 155, 140, 150, 170, 140, 160],\n",
    "    'max_depth' : [ 20, 15, 20, 25, 18, 22, 16, 19],        \n",
    "    'learning_rate' : [ 0.005, 0.0055, 0.006, 0.0045, 0.0045, 0.006, 0.0055, 0.0047], \n",
    "    'min_samples_leaf': [ 6, 10, 8, 7, 4, 4, 8, 6],\n",
    " 'rate_aug': [1.0, 1.0, 1.0, 1.0, 1.0, 1.0, 1.0, 1.0],\n",
    " 'sample_aug': [0.5, 0.5, 0.5, 0.5, 0.5, 0.5, 0.5, 0.5] }\n",
    "\n",
    "for i in range(number_of_machines):\n",
    "    n_estimators_param = parameters['n_estimators'][i]\n",
    "    max_depth_param = parameters['max_depth'][i]\n",
    "    learning_rate_param = parameters['learning_rate'][i]\n",
    "    min_samples_leaf_param = parameters['min_samples_leaf'][i]\n",
    "    \n",
    "    my_gbc = GradientBoostingClassifier(n_estimators = n_estimators_param , max_depth = max_depth_param, \n",
    "                                   learning_rate = learning_rate_param, min_samples_leaf = min_samples_leaf_param)\n",
    "    my_gbc_models.append(my_gbc)\n",
    "\n",
    "parameters_df = pd.DataFrame(parameters)  "
   ]
  },
  {
   "cell_type": "code",
   "execution_count": 31,
   "metadata": {},
   "outputs": [
    {
     "name": "stdout",
     "output_type": "stream",
     "text": [
      "done machine 1\n",
      "done machine 2\n",
      "done machine 3\n",
      "done machine 4\n",
      "done machine 5\n",
      "done machine 6\n",
      "done machine 7\n",
      "done machine 8\n"
     ]
    }
   ],
   "source": [
    "result_tunning = model_fitting_kfold(models = my_gbc_models , indexes_kfolds = kfolds_touse, features = features_to_use, train_data = train_dataset_encode,\n",
    "                           rate_aug = parameters['rate_aug'], sample_aug = parameters['sample_aug'])"
   ]
  },
  {
   "cell_type": "code",
   "execution_count": 32,
   "metadata": {},
   "outputs": [],
   "source": [
    "toplot_result = jsontotable(result_tunning[0], typex = 'Validation')"
   ]
  },
  {
   "cell_type": "code",
   "execution_count": 33,
   "metadata": {},
   "outputs": [
    {
     "data": {
      "image/png": "[encoded data removed]",
      "text/plain": [
       "<Figure size 1080x720 with 2 Axes>"
      ]
     },
     "metadata": {},
     "output_type": "display_data"
    }
   ],
   "source": [
    "plot_results(toplot_result)"
   ]
  },
  {
   "cell_type": "code",
   "execution_count": 34,
   "metadata": {},
   "outputs": [
    {
     "data": {
      "text/html": [
       "<div>\n",
       "<style scoped>\n",
       "    .dataframe tbody tr th:only-of-type {\n",
       "        vertical-align: middle;\n",
       "    }\n",
       "\n",
       "    .dataframe tbody tr th {\n",
       "        vertical-align: top;\n",
       "    }\n",
       "\n",
       "    .dataframe thead th {\n",
       "        text-align: right;\n",
       "    }\n",
       "</style>\n",
       "<table border=\"1\" class=\"dataframe\">\n",
       "  <thead>\n",
       "    <tr style=\"text-align: right;\">\n",
       "      <th></th>\n",
       "      <th>Machine</th>\n",
       "      <th>n_estimators</th>\n",
       "      <th>max_depth</th>\n",
       "      <th>learning_rate</th>\n",
       "      <th>min_samples_leaf</th>\n",
       "      <th>rate_aug</th>\n",
       "      <th>sample_aug</th>\n",
       "    </tr>\n",
       "  </thead>\n",
       "  <tbody>\n",
       "    <tr>\n",
       "      <th>1</th>\n",
       "      <td>machine-2</td>\n",
       "      <td>160</td>\n",
       "      <td>15</td>\n",
       "      <td>0.0055</td>\n",
       "      <td>10</td>\n",
       "      <td>1.0</td>\n",
       "      <td>0.5</td>\n",
       "    </tr>\n",
       "  </tbody>\n",
       "</table>\n",
       "</div>"
      ],
      "text/plain": [
       "     Machine  n_estimators  max_depth  learning_rate  min_samples_leaf  \\\n",
       "1  machine-2           160         15         0.0055                10   \n",
       "\n",
       "   rate_aug  sample_aug  \n",
       "1       1.0         0.5  "
      ]
     },
     "execution_count": 34,
     "metadata": {},
     "output_type": "execute_result"
    }
   ],
   "source": [
    "parameters_df[parameters_df.Machine == 'machine-2']"
   ]
  },
  {
   "cell_type": "markdown",
   "metadata": {},
   "source": [
    "<b> Seems that the RF is the best"
   ]
  },
  {
   "cell_type": "markdown",
   "metadata": {},
   "source": [
    "### Fast Training"
   ]
  },
  {
   "cell_type": "markdown",
   "metadata": {},
   "source": [
    "#### Section 1: Random Forest"
   ]
  },
  {
   "cell_type": "code",
   "execution_count": 35,
   "metadata": {},
   "outputs": [],
   "source": [
    "my_rf_models = list()\n",
    "number_of_machines = 1\n",
    "machines_labels = [f'machine-{x}' for x in range(1,number_of_machines +1) ]\n",
    "\n",
    "parameters = { 'Machine':machines_labels,\n",
    "    'n_estimators' : [250],\n",
    "    'max_depth' : [37],        \n",
    "    'min_samples_split' : [20], \n",
    "    'min_samples_leaf': [8],\n",
    " 'rate_aug': [1.0],\n",
    " 'sample_aug': [0.6] }\n",
    "\n",
    "for i in range(number_of_machines):\n",
    "    n_estimators_param = parameters['n_estimators'][i]\n",
    "    max_depth_param = parameters['max_depth'][i]\n",
    "    min_samples_split_param = parameters['min_samples_split'][i]\n",
    "    min_samples_leaf_param = parameters['min_samples_leaf'][i]\n",
    "    \n",
    "    my_rf = RandomForestClassifier(n_estimators = n_estimators_param , max_depth = max_depth_param, \n",
    "                                   min_samples_split = min_samples_split_param, min_samples_leaf = min_samples_leaf_param)\n",
    "    my_rf_models.append(my_rf)\n",
    "\n",
    "parameters_df = pd.DataFrame(parameters)  "
   ]
  },
  {
   "cell_type": "code",
   "execution_count": 37,
   "metadata": {},
   "outputs": [
    {
     "name": "stdout",
     "output_type": "stream",
     "text": [
      "done machine 1\n"
     ]
    }
   ],
   "source": [
    "result_tunning, modelsTrained_rf = model_fitting_kfold(models = my_rf_models , indexes_kfolds = kfolds_touse, features = features_to_use, train_data = train_dataset_encode,\n",
    "                           rate_aug = parameters['rate_aug'], sample_aug = parameters['sample_aug'], save_model = True, save_nro_machine = 1)"
   ]
  },
  {
   "cell_type": "code",
   "execution_count": 40,
   "metadata": {},
   "outputs": [],
   "source": [
    "weight_data = train_dataset_encode[train_dataset_encode.target.isin([0,1])]"
   ]
  },
  {
   "cell_type": "code",
   "execution_count": 43,
   "metadata": {},
   "outputs": [],
   "source": [
    "weighted_model_RF = weighting_models(models = modelsTrained_rf , features = features_to_use, data = weight_data)\n",
    "result = weighting_models(models = modelsTrained_rf , features = features_to_use, data = weight_data, trained_model = weighted_model_RF)"
   ]
  },
  {
   "cell_type": "code",
   "execution_count": 44,
   "metadata": {},
   "outputs": [
    {
     "data": {
      "text/plain": [
       "0.9008305819763966"
      ]
     },
     "execution_count": 44,
     "metadata": {},
     "output_type": "execute_result"
    }
   ],
   "source": [
    "roc_auc_score(weight_data.target.values,result)"
   ]
  },
  {
   "cell_type": "markdown",
   "metadata": {},
   "source": [
    "#### Section 1: Gradient Boosting"
   ]
  },
  {
   "cell_type": "code",
   "execution_count": 45,
   "metadata": {},
   "outputs": [],
   "source": [
    "my_gbc_models = list()\n",
    "number_of_machines = 1\n",
    "machines_labels = [f'machine-{x}' for x in range(1,number_of_machines +1) ]\n",
    "\n",
    "parameters = { 'Machine':machines_labels,\n",
    "    'n_estimators' : [160],\n",
    "    'max_depth' : [ 15],        \n",
    "    'learning_rate' : [ 0.0055], \n",
    "    'min_samples_leaf': [ 10],\n",
    " 'rate_aug': [1.0],\n",
    " 'sample_aug': [0.5] }\n",
    "\n",
    "for i in range(number_of_machines):\n",
    "    n_estimators_param = parameters['n_estimators'][i]\n",
    "    max_depth_param = parameters['max_depth'][i]\n",
    "    learning_rate_param = parameters['learning_rate'][i]\n",
    "    min_samples_leaf_param = parameters['min_samples_leaf'][i]\n",
    "    \n",
    "    my_gbc = GradientBoostingClassifier(n_estimators = n_estimators_param , max_depth = max_depth_param, \n",
    "                                   learning_rate = learning_rate_param, min_samples_leaf = min_samples_leaf_param)\n",
    "    my_gbc_models.append(my_gbc)\n",
    "\n",
    "parameters_df = pd.DataFrame(parameters)  "
   ]
  },
  {
   "cell_type": "code",
   "execution_count": 46,
   "metadata": {},
   "outputs": [
    {
     "name": "stdout",
     "output_type": "stream",
     "text": [
      "done machine 1\n"
     ]
    }
   ],
   "source": [
    "result_tunning, modelsTrained_gbm = model_fitting_kfold(models = my_rf_models , indexes_kfolds = kfolds_touse, features = features_to_use, train_data = train_dataset_encode,\n",
    "                           rate_aug = parameters['rate_aug'], sample_aug = parameters['sample_aug'], save_model = True, save_nro_machine = 1)"
   ]
  },
  {
   "cell_type": "code",
   "execution_count": 47,
   "metadata": {},
   "outputs": [],
   "source": [
    "weighted_model_GBM = weighting_models(models = modelsTrained_gbm , features = features_to_use, data = weight_data)\n",
    "result = weighting_models(models = modelsTrained_gbm , features = features_to_use, data = weight_data, trained_model = weighted_model_GBM )"
   ]
  },
  {
   "cell_type": "code",
   "execution_count": 48,
   "metadata": {},
   "outputs": [
    {
     "data": {
      "text/plain": [
       "0.8837852023655433"
      ]
     },
     "execution_count": 48,
     "metadata": {},
     "output_type": "execute_result"
    }
   ],
   "source": [
    "roc_auc_score(weight_data.target.values,result)"
   ]
  },
  {
   "cell_type": "markdown",
   "metadata": {},
   "source": [
    "----"
   ]
  },
  {
   "cell_type": "markdown",
   "metadata": {},
   "source": [
    "<b> The winner is the RF"
   ]
  },
  {
   "cell_type": "markdown",
   "metadata": {},
   "source": [
    "## Final Training"
   ]
  },
  {
   "cell_type": "markdown",
   "metadata": {},
   "source": [
    "### Testing on validation"
   ]
  },
  {
   "cell_type": "markdown",
   "metadata": {},
   "source": [
    "bagging and consolidation with logistic regression"
   ]
  },
  {
   "cell_type": "code",
   "execution_count": 76,
   "metadata": {},
   "outputs": [],
   "source": [
    "validation_dataset = validation_dataset[ ['target'] + numerical_features]\n",
    "validation_dataset_distance = compute_mahalanobis_parts(validation_dataset, numerical_features, 20000,[True,True], means_train, cov_train )\n",
    "validation_dataset_scaled = scaler(validation_dataset_distance, scalerx)"
   ]
  },
  {
   "cell_type": "code",
   "execution_count": 79,
   "metadata": {},
   "outputs": [],
   "source": [
    "validation_dataset_encode = count_encoding(validation_dataset_distance, labels_counting, numerical_features)"
   ]
  },
  {
   "cell_type": "code",
   "execution_count": 80,
   "metadata": {},
   "outputs": [
    {
     "data": {
      "text/html": [
       "<div>\n",
       "<style scoped>\n",
       "    .dataframe tbody tr th:only-of-type {\n",
       "        vertical-align: middle;\n",
       "    }\n",
       "\n",
       "    .dataframe tbody tr th {\n",
       "        vertical-align: top;\n",
       "    }\n",
       "\n",
       "    .dataframe thead th {\n",
       "        text-align: right;\n",
       "    }\n",
       "</style>\n",
       "<table border=\"1\" class=\"dataframe\">\n",
       "  <thead>\n",
       "    <tr style=\"text-align: right;\">\n",
       "      <th></th>\n",
       "      <th>target</th>\n",
       "      <th>var_0</th>\n",
       "      <th>var_1</th>\n",
       "      <th>var_2</th>\n",
       "      <th>var_6</th>\n",
       "      <th>var_12</th>\n",
       "      <th>var_13</th>\n",
       "      <th>var_21</th>\n",
       "      <th>var_22</th>\n",
       "      <th>var_26</th>\n",
       "      <th>...</th>\n",
       "      <th>countvar_133</th>\n",
       "      <th>countvar_139</th>\n",
       "      <th>countvar_146</th>\n",
       "      <th>countvar_148</th>\n",
       "      <th>countvar_164</th>\n",
       "      <th>countvar_165</th>\n",
       "      <th>countvar_166</th>\n",
       "      <th>countvar_174</th>\n",
       "      <th>countvar_190</th>\n",
       "      <th>countvar_198</th>\n",
       "    </tr>\n",
       "  </thead>\n",
       "  <tbody>\n",
       "    <tr>\n",
       "      <th>0</th>\n",
       "      <td>1</td>\n",
       "      <td>8.5348</td>\n",
       "      <td>-3.5813</td>\n",
       "      <td>13.0959</td>\n",
       "      <td>4.7645</td>\n",
       "      <td>13.7374</td>\n",
       "      <td>16.0926</td>\n",
       "      <td>16.8552</td>\n",
       "      <td>3.4326</td>\n",
       "      <td>1.4043</td>\n",
       "      <td>...</td>\n",
       "      <td>1178</td>\n",
       "      <td>1099</td>\n",
       "      <td>1839</td>\n",
       "      <td>358</td>\n",
       "      <td>1629</td>\n",
       "      <td>2434</td>\n",
       "      <td>1897</td>\n",
       "      <td>1623</td>\n",
       "      <td>1375</td>\n",
       "      <td>1382</td>\n",
       "    </tr>\n",
       "    <tr>\n",
       "      <th>1</th>\n",
       "      <td>0</td>\n",
       "      <td>10.3605</td>\n",
       "      <td>-4.3507</td>\n",
       "      <td>7.8358</td>\n",
       "      <td>4.3219</td>\n",
       "      <td>13.8975</td>\n",
       "      <td>8.4832</td>\n",
       "      <td>13.0665</td>\n",
       "      <td>4.1745</td>\n",
       "      <td>-5.9777</td>\n",
       "      <td>...</td>\n",
       "      <td>1754</td>\n",
       "      <td>1763</td>\n",
       "      <td>1759</td>\n",
       "      <td>1919</td>\n",
       "      <td>1770</td>\n",
       "      <td>1413</td>\n",
       "      <td>1867</td>\n",
       "      <td>272</td>\n",
       "      <td>1744</td>\n",
       "      <td>1471</td>\n",
       "    </tr>\n",
       "    <tr>\n",
       "      <th>2</th>\n",
       "      <td>0</td>\n",
       "      <td>11.3370</td>\n",
       "      <td>4.0412</td>\n",
       "      <td>9.8642</td>\n",
       "      <td>5.5807</td>\n",
       "      <td>13.9880</td>\n",
       "      <td>4.0192</td>\n",
       "      <td>25.6389</td>\n",
       "      <td>5.3746</td>\n",
       "      <td>-4.6260</td>\n",
       "      <td>...</td>\n",
       "      <td>1613</td>\n",
       "      <td>1553</td>\n",
       "      <td>486</td>\n",
       "      <td>1751</td>\n",
       "      <td>696</td>\n",
       "      <td>1514</td>\n",
       "      <td>1725</td>\n",
       "      <td>1936</td>\n",
       "      <td>1744</td>\n",
       "      <td>1382</td>\n",
       "    </tr>\n",
       "    <tr>\n",
       "      <th>3</th>\n",
       "      <td>0</td>\n",
       "      <td>14.9643</td>\n",
       "      <td>-1.9210</td>\n",
       "      <td>13.0060</td>\n",
       "      <td>4.3073</td>\n",
       "      <td>14.2198</td>\n",
       "      <td>-0.7442</td>\n",
       "      <td>10.5602</td>\n",
       "      <td>6.2261</td>\n",
       "      <td>-11.0322</td>\n",
       "      <td>...</td>\n",
       "      <td>1323</td>\n",
       "      <td>1478</td>\n",
       "      <td>258</td>\n",
       "      <td>1919</td>\n",
       "      <td>453</td>\n",
       "      <td>2042</td>\n",
       "      <td>1533</td>\n",
       "      <td>1936</td>\n",
       "      <td>1893</td>\n",
       "      <td>1143</td>\n",
       "    </tr>\n",
       "    <tr>\n",
       "      <th>4</th>\n",
       "      <td>0</td>\n",
       "      <td>7.2640</td>\n",
       "      <td>6.7137</td>\n",
       "      <td>9.2704</td>\n",
       "      <td>6.2205</td>\n",
       "      <td>14.1547</td>\n",
       "      <td>12.1726</td>\n",
       "      <td>18.4764</td>\n",
       "      <td>6.1235</td>\n",
       "      <td>-13.1055</td>\n",
       "      <td>...</td>\n",
       "      <td>840</td>\n",
       "      <td>1763</td>\n",
       "      <td>1983</td>\n",
       "      <td>364</td>\n",
       "      <td>1268</td>\n",
       "      <td>1790</td>\n",
       "      <td>555</td>\n",
       "      <td>1936</td>\n",
       "      <td>1194</td>\n",
       "      <td>1143</td>\n",
       "    </tr>\n",
       "    <tr>\n",
       "      <th>...</th>\n",
       "      <td>...</td>\n",
       "      <td>...</td>\n",
       "      <td>...</td>\n",
       "      <td>...</td>\n",
       "      <td>...</td>\n",
       "      <td>...</td>\n",
       "      <td>...</td>\n",
       "      <td>...</td>\n",
       "      <td>...</td>\n",
       "      <td>...</td>\n",
       "      <td>...</td>\n",
       "      <td>...</td>\n",
       "      <td>...</td>\n",
       "      <td>...</td>\n",
       "      <td>...</td>\n",
       "      <td>...</td>\n",
       "      <td>...</td>\n",
       "      <td>...</td>\n",
       "      <td>...</td>\n",
       "      <td>...</td>\n",
       "      <td>...</td>\n",
       "    </tr>\n",
       "    <tr>\n",
       "      <th>49995</th>\n",
       "      <td>0</td>\n",
       "      <td>14.0167</td>\n",
       "      <td>-1.3589</td>\n",
       "      <td>8.1386</td>\n",
       "      <td>6.0607</td>\n",
       "      <td>13.8895</td>\n",
       "      <td>3.4458</td>\n",
       "      <td>7.3982</td>\n",
       "      <td>4.1840</td>\n",
       "      <td>-14.0247</td>\n",
       "      <td>...</td>\n",
       "      <td>1754</td>\n",
       "      <td>1568</td>\n",
       "      <td>1983</td>\n",
       "      <td>1632</td>\n",
       "      <td>1653</td>\n",
       "      <td>133</td>\n",
       "      <td>1533</td>\n",
       "      <td>1879</td>\n",
       "      <td>1700</td>\n",
       "      <td>1991</td>\n",
       "    </tr>\n",
       "    <tr>\n",
       "      <th>49996</th>\n",
       "      <td>1</td>\n",
       "      <td>13.9505</td>\n",
       "      <td>-4.4078</td>\n",
       "      <td>9.9561</td>\n",
       "      <td>5.7723</td>\n",
       "      <td>13.8907</td>\n",
       "      <td>15.4165</td>\n",
       "      <td>0.4764</td>\n",
       "      <td>6.2318</td>\n",
       "      <td>-5.5729</td>\n",
       "      <td>...</td>\n",
       "      <td>1851</td>\n",
       "      <td>1884</td>\n",
       "      <td>1759</td>\n",
       "      <td>1751</td>\n",
       "      <td>1268</td>\n",
       "      <td>1790</td>\n",
       "      <td>1867</td>\n",
       "      <td>1879</td>\n",
       "      <td>1893</td>\n",
       "      <td>1976</td>\n",
       "    </tr>\n",
       "    <tr>\n",
       "      <th>49997</th>\n",
       "      <td>0</td>\n",
       "      <td>6.9651</td>\n",
       "      <td>-0.8610</td>\n",
       "      <td>8.1860</td>\n",
       "      <td>5.6770</td>\n",
       "      <td>14.0536</td>\n",
       "      <td>14.2000</td>\n",
       "      <td>19.7629</td>\n",
       "      <td>2.8078</td>\n",
       "      <td>-2.8443</td>\n",
       "      <td>...</td>\n",
       "      <td>1613</td>\n",
       "      <td>672</td>\n",
       "      <td>1759</td>\n",
       "      <td>1943</td>\n",
       "      <td>1561</td>\n",
       "      <td>2042</td>\n",
       "      <td>1867</td>\n",
       "      <td>739</td>\n",
       "      <td>1455</td>\n",
       "      <td>1976</td>\n",
       "    </tr>\n",
       "    <tr>\n",
       "      <th>49998</th>\n",
       "      <td>0</td>\n",
       "      <td>11.7294</td>\n",
       "      <td>0.2088</td>\n",
       "      <td>10.9457</td>\n",
       "      <td>4.8186</td>\n",
       "      <td>14.1581</td>\n",
       "      <td>8.7693</td>\n",
       "      <td>8.1183</td>\n",
       "      <td>6.4082</td>\n",
       "      <td>-6.3577</td>\n",
       "      <td>...</td>\n",
       "      <td>1495</td>\n",
       "      <td>312</td>\n",
       "      <td>910</td>\n",
       "      <td>1322</td>\n",
       "      <td>1653</td>\n",
       "      <td>1514</td>\n",
       "      <td>1867</td>\n",
       "      <td>1758</td>\n",
       "      <td>561</td>\n",
       "      <td>1976</td>\n",
       "    </tr>\n",
       "    <tr>\n",
       "      <th>49999</th>\n",
       "      <td>0</td>\n",
       "      <td>12.9937</td>\n",
       "      <td>-4.5204</td>\n",
       "      <td>10.3987</td>\n",
       "      <td>6.2855</td>\n",
       "      <td>14.0694</td>\n",
       "      <td>6.1552</td>\n",
       "      <td>16.5422</td>\n",
       "      <td>3.0497</td>\n",
       "      <td>1.3892</td>\n",
       "      <td>...</td>\n",
       "      <td>1754</td>\n",
       "      <td>1884</td>\n",
       "      <td>1759</td>\n",
       "      <td>1919</td>\n",
       "      <td>846</td>\n",
       "      <td>1790</td>\n",
       "      <td>1867</td>\n",
       "      <td>1368</td>\n",
       "      <td>1194</td>\n",
       "      <td>1976</td>\n",
       "    </tr>\n",
       "  </tbody>\n",
       "</table>\n",
       "<p>50000 rows × 60 columns</p>\n",
       "</div>"
      ],
      "text/plain": [
       "       target    var_0   var_1    var_2   var_6   var_12   var_13   var_21  \\\n",
       "0           1   8.5348 -3.5813  13.0959  4.7645  13.7374  16.0926  16.8552   \n",
       "1           0  10.3605 -4.3507   7.8358  4.3219  13.8975   8.4832  13.0665   \n",
       "2           0  11.3370  4.0412   9.8642  5.5807  13.9880   4.0192  25.6389   \n",
       "3           0  14.9643 -1.9210  13.0060  4.3073  14.2198  -0.7442  10.5602   \n",
       "4           0   7.2640  6.7137   9.2704  6.2205  14.1547  12.1726  18.4764   \n",
       "...       ...      ...     ...      ...     ...      ...      ...      ...   \n",
       "49995       0  14.0167 -1.3589   8.1386  6.0607  13.8895   3.4458   7.3982   \n",
       "49996       1  13.9505 -4.4078   9.9561  5.7723  13.8907  15.4165   0.4764   \n",
       "49997       0   6.9651 -0.8610   8.1860  5.6770  14.0536  14.2000  19.7629   \n",
       "49998       0  11.7294  0.2088  10.9457  4.8186  14.1581   8.7693   8.1183   \n",
       "49999       0  12.9937 -4.5204  10.3987  6.2855  14.0694   6.1552  16.5422   \n",
       "\n",
       "       var_22   var_26  ...  countvar_133  countvar_139  countvar_146  \\\n",
       "0      3.4326   1.4043  ...          1178          1099          1839   \n",
       "1      4.1745  -5.9777  ...          1754          1763          1759   \n",
       "2      5.3746  -4.6260  ...          1613          1553           486   \n",
       "3      6.2261 -11.0322  ...          1323          1478           258   \n",
       "4      6.1235 -13.1055  ...           840          1763          1983   \n",
       "...       ...      ...  ...           ...           ...           ...   \n",
       "49995  4.1840 -14.0247  ...          1754          1568          1983   \n",
       "49996  6.2318  -5.5729  ...          1851          1884          1759   \n",
       "49997  2.8078  -2.8443  ...          1613           672          1759   \n",
       "49998  6.4082  -6.3577  ...          1495           312           910   \n",
       "49999  3.0497   1.3892  ...          1754          1884          1759   \n",
       "\n",
       "       countvar_148  countvar_164  countvar_165  countvar_166  countvar_174  \\\n",
       "0               358          1629          2434          1897          1623   \n",
       "1              1919          1770          1413          1867           272   \n",
       "2              1751           696          1514          1725          1936   \n",
       "3              1919           453          2042          1533          1936   \n",
       "4               364          1268          1790           555          1936   \n",
       "...             ...           ...           ...           ...           ...   \n",
       "49995          1632          1653           133          1533          1879   \n",
       "49996          1751          1268          1790          1867          1879   \n",
       "49997          1943          1561          2042          1867           739   \n",
       "49998          1322          1653          1514          1867          1758   \n",
       "49999          1919           846          1790          1867          1368   \n",
       "\n",
       "       countvar_190  countvar_198  \n",
       "0              1375          1382  \n",
       "1              1744          1471  \n",
       "2              1744          1382  \n",
       "3              1893          1143  \n",
       "4              1194          1143  \n",
       "...             ...           ...  \n",
       "49995          1700          1991  \n",
       "49996          1893          1976  \n",
       "49997          1455          1976  \n",
       "49998           561          1976  \n",
       "49999          1194          1976  \n",
       "\n",
       "[50000 rows x 60 columns]"
      ]
     },
     "execution_count": 80,
     "metadata": {},
     "output_type": "execute_result"
    }
   ],
   "source": [
    "validation_dataset_encode"
   ]
  },
  {
   "cell_type": "code",
   "execution_count": 81,
   "metadata": {},
   "outputs": [],
   "source": [
    "predictions_val = weighting_models(models = modelsTrained_rf , features = features_to_use, data = validation_dataset_encode, trained_model = weighted_model_RF)\n",
    "vector_predictions = np.concatenate((predictions_val), axis=None)"
   ]
  },
  {
   "cell_type": "code",
   "execution_count": 82,
   "metadata": {},
   "outputs": [
    {
     "data": {
      "text/plain": [
       "0.8569669629934055"
      ]
     },
     "execution_count": 82,
     "metadata": {},
     "output_type": "execute_result"
    }
   ],
   "source": [
    "roc_auc_score(target_vector, vector_predictions)"
   ]
  },
  {
   "cell_type": "code",
   "execution_count": 83,
   "metadata": {},
   "outputs": [
    {
     "data": {
      "image/png": "[encoded data removed]",
      "text/plain": [
       "<Figure size 432x288 with 1 Axes>"
      ]
     },
     "metadata": {},
     "output_type": "display_data"
    }
   ],
   "source": [
    "fpr, tpr, threshold = roc_curve(target_vector, vector_predictions)\n",
    "roc_auc = auc(fpr, tpr)\n",
    "\n",
    "plt.title('Receiver Operating Characteristic')\n",
    "plt.plot(fpr, tpr, 'b', label = 'AUC = %0.2f' % roc_auc)\n",
    "plt.legend(loc = 'lower right')\n",
    "plt.plot([0, 1], [0, 1],'r--')\n",
    "plt.xlim([0, 1])\n",
    "plt.ylim([0, 1])\n",
    "plt.ylabel('True Positive Rate')\n",
    "plt.xlabel('False Positive Rate')\n",
    "plt.show()"
   ]
  },
  {
   "cell_type": "code",
   "execution_count": 84,
   "metadata": {},
   "outputs": [],
   "source": [
    "result_validation = reconstructing_data([validation_dataset_encode], [predictions_val])"
   ]
  },
  {
   "cell_type": "code",
   "execution_count": 85,
   "metadata": {},
   "outputs": [
    {
     "data": {
      "text/html": [
       "<div>\n",
       "<style scoped>\n",
       "    .dataframe tbody tr th:only-of-type {\n",
       "        vertical-align: middle;\n",
       "    }\n",
       "\n",
       "    .dataframe tbody tr th {\n",
       "        vertical-align: top;\n",
       "    }\n",
       "\n",
       "    .dataframe thead th {\n",
       "        text-align: right;\n",
       "    }\n",
       "</style>\n",
       "<table border=\"1\" class=\"dataframe\">\n",
       "  <thead>\n",
       "    <tr style=\"text-align: right;\">\n",
       "      <th></th>\n",
       "      <th>target</th>\n",
       "      <th>var_0</th>\n",
       "      <th>var_1</th>\n",
       "      <th>var_2</th>\n",
       "      <th>var_6</th>\n",
       "      <th>var_12</th>\n",
       "      <th>var_13</th>\n",
       "      <th>var_21</th>\n",
       "      <th>var_22</th>\n",
       "      <th>var_26</th>\n",
       "      <th>...</th>\n",
       "      <th>countvar_133</th>\n",
       "      <th>countvar_139</th>\n",
       "      <th>countvar_146</th>\n",
       "      <th>countvar_148</th>\n",
       "      <th>countvar_164</th>\n",
       "      <th>countvar_165</th>\n",
       "      <th>countvar_166</th>\n",
       "      <th>countvar_174</th>\n",
       "      <th>countvar_190</th>\n",
       "      <th>countvar_198</th>\n",
       "    </tr>\n",
       "  </thead>\n",
       "  <tbody>\n",
       "    <tr>\n",
       "      <th>0</th>\n",
       "      <td>1</td>\n",
       "      <td>8.5348</td>\n",
       "      <td>-3.5813</td>\n",
       "      <td>13.0959</td>\n",
       "      <td>4.7645</td>\n",
       "      <td>13.7374</td>\n",
       "      <td>16.0926</td>\n",
       "      <td>16.8552</td>\n",
       "      <td>3.4326</td>\n",
       "      <td>1.4043</td>\n",
       "      <td>...</td>\n",
       "      <td>1178</td>\n",
       "      <td>1099</td>\n",
       "      <td>1839</td>\n",
       "      <td>358</td>\n",
       "      <td>1629</td>\n",
       "      <td>2434</td>\n",
       "      <td>1897</td>\n",
       "      <td>1623</td>\n",
       "      <td>1375</td>\n",
       "      <td>1382</td>\n",
       "    </tr>\n",
       "    <tr>\n",
       "      <th>1</th>\n",
       "      <td>0</td>\n",
       "      <td>10.3605</td>\n",
       "      <td>-4.3507</td>\n",
       "      <td>7.8358</td>\n",
       "      <td>4.3219</td>\n",
       "      <td>13.8975</td>\n",
       "      <td>8.4832</td>\n",
       "      <td>13.0665</td>\n",
       "      <td>4.1745</td>\n",
       "      <td>-5.9777</td>\n",
       "      <td>...</td>\n",
       "      <td>1754</td>\n",
       "      <td>1763</td>\n",
       "      <td>1759</td>\n",
       "      <td>1919</td>\n",
       "      <td>1770</td>\n",
       "      <td>1413</td>\n",
       "      <td>1867</td>\n",
       "      <td>272</td>\n",
       "      <td>1744</td>\n",
       "      <td>1471</td>\n",
       "    </tr>\n",
       "    <tr>\n",
       "      <th>2</th>\n",
       "      <td>0</td>\n",
       "      <td>11.3370</td>\n",
       "      <td>4.0412</td>\n",
       "      <td>9.8642</td>\n",
       "      <td>5.5807</td>\n",
       "      <td>13.9880</td>\n",
       "      <td>4.0192</td>\n",
       "      <td>25.6389</td>\n",
       "      <td>5.3746</td>\n",
       "      <td>-4.6260</td>\n",
       "      <td>...</td>\n",
       "      <td>1613</td>\n",
       "      <td>1553</td>\n",
       "      <td>486</td>\n",
       "      <td>1751</td>\n",
       "      <td>696</td>\n",
       "      <td>1514</td>\n",
       "      <td>1725</td>\n",
       "      <td>1936</td>\n",
       "      <td>1744</td>\n",
       "      <td>1382</td>\n",
       "    </tr>\n",
       "    <tr>\n",
       "      <th>3</th>\n",
       "      <td>0</td>\n",
       "      <td>14.9643</td>\n",
       "      <td>-1.9210</td>\n",
       "      <td>13.0060</td>\n",
       "      <td>4.3073</td>\n",
       "      <td>14.2198</td>\n",
       "      <td>-0.7442</td>\n",
       "      <td>10.5602</td>\n",
       "      <td>6.2261</td>\n",
       "      <td>-11.0322</td>\n",
       "      <td>...</td>\n",
       "      <td>1323</td>\n",
       "      <td>1478</td>\n",
       "      <td>258</td>\n",
       "      <td>1919</td>\n",
       "      <td>453</td>\n",
       "      <td>2042</td>\n",
       "      <td>1533</td>\n",
       "      <td>1936</td>\n",
       "      <td>1893</td>\n",
       "      <td>1143</td>\n",
       "    </tr>\n",
       "    <tr>\n",
       "      <th>4</th>\n",
       "      <td>0</td>\n",
       "      <td>7.2640</td>\n",
       "      <td>6.7137</td>\n",
       "      <td>9.2704</td>\n",
       "      <td>6.2205</td>\n",
       "      <td>14.1547</td>\n",
       "      <td>12.1726</td>\n",
       "      <td>18.4764</td>\n",
       "      <td>6.1235</td>\n",
       "      <td>-13.1055</td>\n",
       "      <td>...</td>\n",
       "      <td>840</td>\n",
       "      <td>1763</td>\n",
       "      <td>1983</td>\n",
       "      <td>364</td>\n",
       "      <td>1268</td>\n",
       "      <td>1790</td>\n",
       "      <td>555</td>\n",
       "      <td>1936</td>\n",
       "      <td>1194</td>\n",
       "      <td>1143</td>\n",
       "    </tr>\n",
       "  </tbody>\n",
       "</table>\n",
       "<p>5 rows × 60 columns</p>\n",
       "</div>"
      ],
      "text/plain": [
       "   target    var_0   var_1    var_2   var_6   var_12   var_13   var_21  \\\n",
       "0       1   8.5348 -3.5813  13.0959  4.7645  13.7374  16.0926  16.8552   \n",
       "1       0  10.3605 -4.3507   7.8358  4.3219  13.8975   8.4832  13.0665   \n",
       "2       0  11.3370  4.0412   9.8642  5.5807  13.9880   4.0192  25.6389   \n",
       "3       0  14.9643 -1.9210  13.0060  4.3073  14.2198  -0.7442  10.5602   \n",
       "4       0   7.2640  6.7137   9.2704  6.2205  14.1547  12.1726  18.4764   \n",
       "\n",
       "   var_22   var_26  ...  countvar_133  countvar_139  countvar_146  \\\n",
       "0  3.4326   1.4043  ...          1178          1099          1839   \n",
       "1  4.1745  -5.9777  ...          1754          1763          1759   \n",
       "2  5.3746  -4.6260  ...          1613          1553           486   \n",
       "3  6.2261 -11.0322  ...          1323          1478           258   \n",
       "4  6.1235 -13.1055  ...           840          1763          1983   \n",
       "\n",
       "   countvar_148  countvar_164  countvar_165  countvar_166  countvar_174  \\\n",
       "0           358          1629          2434          1897          1623   \n",
       "1          1919          1770          1413          1867           272   \n",
       "2          1751           696          1514          1725          1936   \n",
       "3          1919           453          2042          1533          1936   \n",
       "4           364          1268          1790           555          1936   \n",
       "\n",
       "   countvar_190  countvar_198  \n",
       "0          1375          1382  \n",
       "1          1744          1471  \n",
       "2          1744          1382  \n",
       "3          1893          1143  \n",
       "4          1194          1143  \n",
       "\n",
       "[5 rows x 60 columns]"
      ]
     },
     "execution_count": 85,
     "metadata": {},
     "output_type": "execute_result"
    }
   ],
   "source": [
    "result_validation.head()"
   ]
  },
  {
   "cell_type": "markdown",
   "metadata": {},
   "source": [
    "### Prediction"
   ]
  },
  {
   "cell_type": "code",
   "execution_count": 58,
   "metadata": {},
   "outputs": [],
   "source": [
    "test_target = test.assign(target = 0)\n",
    "test_dataset = test_target[ ['target'] + numerical_features].copy()\n",
    "test_dataset_distance = compute_mahalanobis_parts(test_dataset, numerical_features, 20000,[True,True], means_train, cov_train )\n",
    "test_dataset_scaled = scaler(test_dataset_distance, scalerx)"
   ]
  },
  {
   "cell_type": "code",
   "execution_count": 86,
   "metadata": {},
   "outputs": [],
   "source": [
    "test_dataset_encode = count_encoding(test_dataset_distance, labels_counting, numerical_features)"
   ]
  },
  {
   "cell_type": "code",
   "execution_count": 87,
   "metadata": {},
   "outputs": [],
   "source": [
    "predictions_test = weighting_models(models = modelsTrained_rf , features = features_to_use, data = test_dataset_encode, trained_model = weighted_model_RF)\n",
    "vector_predictions = np.concatenate((predictions_test), axis=None)"
   ]
  },
  {
   "cell_type": "code",
   "execution_count": 88,
   "metadata": {},
   "outputs": [
    {
     "data": {
      "text/plain": [
       "array([0.09492673, 0.04233828, 0.18622923, ..., 0.00961682, 0.16706514,\n",
       "       0.09840094])"
      ]
     },
     "execution_count": 88,
     "metadata": {},
     "output_type": "execute_result"
    }
   ],
   "source": [
    "vector_predictions"
   ]
  },
  {
   "cell_type": "code",
   "execution_count": 89,
   "metadata": {},
   "outputs": [
    {
     "data": {
      "text/plain": [
       "(200000,)"
      ]
     },
     "execution_count": 89,
     "metadata": {},
     "output_type": "execute_result"
    }
   ],
   "source": [
    "vector_predictions.shape"
   ]
  },
  {
   "cell_type": "code",
   "execution_count": 93,
   "metadata": {},
   "outputs": [],
   "source": [
    "test['target'] = vector_predictions\n",
    "test['target'] = np.where(test['target'] >0.07, 1, 0) ## they are not probas take care"
   ]
  },
  {
   "cell_type": "code",
   "execution_count": 94,
   "metadata": {},
   "outputs": [
    {
     "data": {
      "text/html": [
       "<div>\n",
       "<style scoped>\n",
       "    .dataframe tbody tr th:only-of-type {\n",
       "        vertical-align: middle;\n",
       "    }\n",
       "\n",
       "    .dataframe tbody tr th {\n",
       "        vertical-align: top;\n",
       "    }\n",
       "\n",
       "    .dataframe thead th {\n",
       "        text-align: right;\n",
       "    }\n",
       "</style>\n",
       "<table border=\"1\" class=\"dataframe\">\n",
       "  <thead>\n",
       "    <tr style=\"text-align: right;\">\n",
       "      <th></th>\n",
       "      <th>ID_code</th>\n",
       "      <th>var_0</th>\n",
       "      <th>var_1</th>\n",
       "      <th>var_2</th>\n",
       "      <th>var_3</th>\n",
       "      <th>var_4</th>\n",
       "      <th>var_5</th>\n",
       "      <th>var_6</th>\n",
       "      <th>var_7</th>\n",
       "      <th>var_8</th>\n",
       "      <th>...</th>\n",
       "      <th>var_191</th>\n",
       "      <th>var_192</th>\n",
       "      <th>var_193</th>\n",
       "      <th>var_194</th>\n",
       "      <th>var_195</th>\n",
       "      <th>var_196</th>\n",
       "      <th>var_197</th>\n",
       "      <th>var_198</th>\n",
       "      <th>var_199</th>\n",
       "      <th>target</th>\n",
       "    </tr>\n",
       "  </thead>\n",
       "  <tbody>\n",
       "    <tr>\n",
       "      <th>0</th>\n",
       "      <td>test_0</td>\n",
       "      <td>11.0656</td>\n",
       "      <td>7.7798</td>\n",
       "      <td>12.9536</td>\n",
       "      <td>9.4292</td>\n",
       "      <td>11.4327</td>\n",
       "      <td>-2.3805</td>\n",
       "      <td>5.8493</td>\n",
       "      <td>18.2675</td>\n",
       "      <td>2.1337</td>\n",
       "      <td>...</td>\n",
       "      <td>11.8495</td>\n",
       "      <td>-1.4300</td>\n",
       "      <td>2.4508</td>\n",
       "      <td>13.7112</td>\n",
       "      <td>2.4669</td>\n",
       "      <td>4.3654</td>\n",
       "      <td>10.7200</td>\n",
       "      <td>15.4722</td>\n",
       "      <td>-8.7197</td>\n",
       "      <td>1</td>\n",
       "    </tr>\n",
       "    <tr>\n",
       "      <th>1</th>\n",
       "      <td>test_1</td>\n",
       "      <td>8.5304</td>\n",
       "      <td>1.2543</td>\n",
       "      <td>11.3047</td>\n",
       "      <td>5.1858</td>\n",
       "      <td>9.1974</td>\n",
       "      <td>-4.0117</td>\n",
       "      <td>6.0196</td>\n",
       "      <td>18.6316</td>\n",
       "      <td>-4.4131</td>\n",
       "      <td>...</td>\n",
       "      <td>8.8349</td>\n",
       "      <td>0.9403</td>\n",
       "      <td>10.1282</td>\n",
       "      <td>15.5765</td>\n",
       "      <td>0.4773</td>\n",
       "      <td>-1.4852</td>\n",
       "      <td>9.8714</td>\n",
       "      <td>19.1293</td>\n",
       "      <td>-20.9760</td>\n",
       "      <td>0</td>\n",
       "    </tr>\n",
       "    <tr>\n",
       "      <th>2</th>\n",
       "      <td>test_2</td>\n",
       "      <td>5.4827</td>\n",
       "      <td>-10.3581</td>\n",
       "      <td>10.1407</td>\n",
       "      <td>7.0479</td>\n",
       "      <td>10.2628</td>\n",
       "      <td>9.8052</td>\n",
       "      <td>4.8950</td>\n",
       "      <td>20.2537</td>\n",
       "      <td>1.5233</td>\n",
       "      <td>...</td>\n",
       "      <td>10.9935</td>\n",
       "      <td>1.9803</td>\n",
       "      <td>2.1800</td>\n",
       "      <td>12.9813</td>\n",
       "      <td>2.1281</td>\n",
       "      <td>-7.1086</td>\n",
       "      <td>7.0618</td>\n",
       "      <td>19.8956</td>\n",
       "      <td>-23.1794</td>\n",
       "      <td>1</td>\n",
       "    </tr>\n",
       "    <tr>\n",
       "      <th>3</th>\n",
       "      <td>test_3</td>\n",
       "      <td>8.5374</td>\n",
       "      <td>-1.3222</td>\n",
       "      <td>12.0220</td>\n",
       "      <td>6.5749</td>\n",
       "      <td>8.8458</td>\n",
       "      <td>3.1744</td>\n",
       "      <td>4.9397</td>\n",
       "      <td>20.5660</td>\n",
       "      <td>3.3755</td>\n",
       "      <td>...</td>\n",
       "      <td>9.0766</td>\n",
       "      <td>1.6580</td>\n",
       "      <td>3.5813</td>\n",
       "      <td>15.1874</td>\n",
       "      <td>3.1656</td>\n",
       "      <td>3.9567</td>\n",
       "      <td>9.2295</td>\n",
       "      <td>13.0168</td>\n",
       "      <td>-4.2108</td>\n",
       "      <td>0</td>\n",
       "    </tr>\n",
       "    <tr>\n",
       "      <th>4</th>\n",
       "      <td>test_4</td>\n",
       "      <td>11.7058</td>\n",
       "      <td>-0.1327</td>\n",
       "      <td>14.1295</td>\n",
       "      <td>7.7506</td>\n",
       "      <td>9.1035</td>\n",
       "      <td>-8.5848</td>\n",
       "      <td>6.8595</td>\n",
       "      <td>10.6048</td>\n",
       "      <td>2.9890</td>\n",
       "      <td>...</td>\n",
       "      <td>9.1723</td>\n",
       "      <td>1.2835</td>\n",
       "      <td>3.3778</td>\n",
       "      <td>19.5542</td>\n",
       "      <td>-0.2860</td>\n",
       "      <td>-5.1612</td>\n",
       "      <td>7.2882</td>\n",
       "      <td>13.9260</td>\n",
       "      <td>-9.1846</td>\n",
       "      <td>0</td>\n",
       "    </tr>\n",
       "  </tbody>\n",
       "</table>\n",
       "<p>5 rows × 202 columns</p>\n",
       "</div>"
      ],
      "text/plain": [
       "  ID_code    var_0    var_1    var_2   var_3    var_4   var_5   var_6  \\\n",
       "0  test_0  11.0656   7.7798  12.9536  9.4292  11.4327 -2.3805  5.8493   \n",
       "1  test_1   8.5304   1.2543  11.3047  5.1858   9.1974 -4.0117  6.0196   \n",
       "2  test_2   5.4827 -10.3581  10.1407  7.0479  10.2628  9.8052  4.8950   \n",
       "3  test_3   8.5374  -1.3222  12.0220  6.5749   8.8458  3.1744  4.9397   \n",
       "4  test_4  11.7058  -0.1327  14.1295  7.7506   9.1035 -8.5848  6.8595   \n",
       "\n",
       "     var_7   var_8  ...  var_191  var_192  var_193  var_194  var_195  var_196  \\\n",
       "0  18.2675  2.1337  ...  11.8495  -1.4300   2.4508  13.7112   2.4669   4.3654   \n",
       "1  18.6316 -4.4131  ...   8.8349   0.9403  10.1282  15.5765   0.4773  -1.4852   \n",
       "2  20.2537  1.5233  ...  10.9935   1.9803   2.1800  12.9813   2.1281  -7.1086   \n",
       "3  20.5660  3.3755  ...   9.0766   1.6580   3.5813  15.1874   3.1656   3.9567   \n",
       "4  10.6048  2.9890  ...   9.1723   1.2835   3.3778  19.5542  -0.2860  -5.1612   \n",
       "\n",
       "   var_197  var_198  var_199  target  \n",
       "0  10.7200  15.4722  -8.7197       1  \n",
       "1   9.8714  19.1293 -20.9760       0  \n",
       "2   7.0618  19.8956 -23.1794       1  \n",
       "3   9.2295  13.0168  -4.2108       0  \n",
       "4   7.2882  13.9260  -9.1846       0  \n",
       "\n",
       "[5 rows x 202 columns]"
      ]
     },
     "execution_count": 94,
     "metadata": {},
     "output_type": "execute_result"
    }
   ],
   "source": [
    "test.head()"
   ]
  },
  {
   "cell_type": "markdown",
   "metadata": {},
   "source": [
    "### Saving Results"
   ]
  },
  {
   "cell_type": "code",
   "execution_count": 95,
   "metadata": {},
   "outputs": [],
   "source": [
    "gatito\n",
    "test[['ID_code','target']].set_index('ID_code').to_csv('my_prediction.csv')"
   ]
  }
 ],
 "metadata": {
  "kernelspec": {
   "display_name": "Python 3",
   "language": "python",
   "name": "python3"
  },
  "language_info": {
   "codemirror_mode": {
    "name": "ipython",
    "version": 3
   },
   "file_extension": ".py",
   "mimetype": "text/x-python",
   "name": "python",
   "nbconvert_exporter": "python",
   "pygments_lexer": "ipython3",
   "version": "3.7.6"
  }
 },
 "nbformat": 4,
 "nbformat_minor": 4
}

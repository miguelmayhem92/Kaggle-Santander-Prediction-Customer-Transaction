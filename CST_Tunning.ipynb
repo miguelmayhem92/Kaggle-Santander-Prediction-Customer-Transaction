{
 "cells": [
  {
   "cell_type": "markdown",
   "metadata": {},
   "source": [
    "## Santander Customer Transactions predictions"
   ]
  },
  {
   "cell_type": "markdown",
   "metadata": {},
   "source": [
    "#BigDataSets#HighDimensionality#DataBalancing"
   ]
  },
  {
   "cell_type": "code",
   "execution_count": 1,
   "metadata": {},
   "outputs": [],
   "source": [
    "import pandas as pd\n",
    "import numpy as np\n",
    "from datetime import datetime\n",
    "from datetime import timedelta  \n",
    "import os\n",
    "import random\n",
    "import scipy as sp\n",
    "\n",
    "import matplotlib.pyplot as plt\n",
    "from mpl_toolkits.mplot3d import Axes3D\n",
    "import matplotlib.gridspec as gridspec\n",
    "\n",
    "import seaborn as sns; sns.set()"
   ]
  },
  {
   "cell_type": "code",
   "execution_count": 2,
   "metadata": {},
   "outputs": [],
   "source": [
    "from sklearn.preprocessing import StandardScaler"
   ]
  },
  {
   "cell_type": "code",
   "execution_count": 3,
   "metadata": {},
   "outputs": [],
   "source": [
    "import warnings\n",
    "warnings.filterwarnings('ignore')"
   ]
  },
  {
   "cell_type": "code",
   "execution_count": 4,
   "metadata": {},
   "outputs": [],
   "source": [
    "from functions import scaler, threeD_plot, mahalanobis, mahalanobis_vector_plot, compute_mahalanobis_parts , normal_augmentation, concentrated_augmentation\n",
    "from functions import augmentation_strategy, augmentation_selection_rates, metrics_train_validation, balance_validation, partitions\n",
    "from functions import get_dictionary_count_lables, count_encoding, unscaler, k_folds_indexs"
   ]
  },
  {
   "cell_type": "code",
   "execution_count": 5,
   "metadata": {},
   "outputs": [],
   "source": [
    "from sklearn.neighbors import KNeighborsClassifier\n",
    "\n",
    "from sklearn.ensemble import GradientBoostingClassifier\n",
    "from sklearn.gaussian_process.kernels import RBF\n",
    "\n",
    "from sklearn.ensemble import RandomForestClassifier\n",
    "\n",
    "from sklearn.metrics import precision_score,accuracy_score,roc_auc_score, roc_curve, auc"
   ]
  },
  {
   "cell_type": "markdown",
   "metadata": {},
   "source": [
    "### Loading Data"
   ]
  },
  {
   "cell_type": "code",
   "execution_count": 6,
   "metadata": {},
   "outputs": [],
   "source": [
    "train = pd.read_csv('train.csv')\n",
    "ss = pd.read_csv('sample_submission.csv')\n",
    "test = pd.read_csv('test.csv')"
   ]
  },
  {
   "cell_type": "code",
   "execution_count": 7,
   "metadata": {},
   "outputs": [],
   "source": [
    "#['var_0','var_1', 'var_2','var_6','var_12','var_13','var_21','var_22','var_26','var_34',\n",
    "#                  'var_40','var_53','var_76','var_78','var_80','var_81','var_99','var_109','var_110','var_133',\n",
    "#                  'var_139','var_146','var_148','var_164','var_165','var_166','var_174','var_190','var_198',]"
   ]
  },
  {
   "cell_type": "code",
   "execution_count": 8,
   "metadata": {},
   "outputs": [],
   "source": [
    "numerical_features = ['var_0','var_1', 'var_2','var_6','var_12','var_13','var_21','var_22','var_26','var_34',\n",
    "                  'var_40','var_53','var_76','var_78','var_80','var_81','var_99','var_109','var_110','var_133',\n",
    "                  'var_139','var_146','var_148','var_164','var_165','var_166','var_174','var_190','var_198',] #'mahalanobis'"
   ]
  },
  {
   "cell_type": "markdown",
   "metadata": {},
   "source": [
    "<b> random split"
   ]
  },
  {
   "cell_type": "code",
   "execution_count": 9,
   "metadata": {},
   "outputs": [],
   "source": [
    "seed = 158\n",
    "validation_dataset = train.sample(frac = 0.25, replace = False, random_state = seed).reset_index(drop = True)\n",
    "validation_dataset = validation_dataset.copy()[['target'] + numerical_features]\n",
    "train_dataset = train[~train.index.isin(validation_dataset.index)].reset_index(drop = True)[['target'] + numerical_features]"
   ]
  },
  {
   "cell_type": "code",
   "execution_count": 10,
   "metadata": {},
   "outputs": [],
   "source": [
    "train_dataset = train_dataset[ ['target'] + numerical_features]\n",
    "\n",
    "means_train = np.mean(train_dataset[numerical_features])  ### Save this , over not scalled\n",
    "cov_train = np.cov(train_dataset[numerical_features].T) ### Save thisnot, over not scalled"
   ]
  },
  {
   "cell_type": "code",
   "execution_count": 11,
   "metadata": {},
   "outputs": [],
   "source": [
    "train_dataset_distance = compute_mahalanobis_parts(train_dataset, numerical_features, 10000,[True,True], means_train, cov_train )"
   ]
  },
  {
   "cell_type": "markdown",
   "metadata": {},
   "source": [
    "<b> validation_dataset is ussed as the test set"
   ]
  },
  {
   "cell_type": "code",
   "execution_count": 12,
   "metadata": {},
   "outputs": [
    {
     "data": {
      "text/plain": [
       "target\n",
       "0    134860\n",
       "1     15140\n",
       "Name: mahalanobis, dtype: int64"
      ]
     },
     "execution_count": 12,
     "metadata": {},
     "output_type": "execute_result"
    }
   ],
   "source": [
    "train_dataset_distance.pivot_table(index = 'target', aggfunc = 'count')['mahalanobis']"
   ]
  },
  {
   "cell_type": "markdown",
   "metadata": {},
   "source": [
    "### Cross validation using K-fold and parameter tunning"
   ]
  },
  {
   "cell_type": "code",
   "execution_count": 13,
   "metadata": {},
   "outputs": [],
   "source": [
    "dict_1 = {'n':4000, 'range': [0,100], 'label': 2, 'rate': 0.65}  #random augmentation\n",
    "dict_2 = {'n':10000, 'label': 3, 'category': 1} # augmetation on existing ones\n",
    "dict_3 = {'n':4000, 'range': [0,100], 'label': 4, 'category': 2} # augmetation on the previous random ones\n",
    "\n",
    "train_section_aug = augmentation_strategy(data = train_dataset_distance, dict_1 = dict_1,dict_2 = dict_2, dict_3 = dict_3,\n",
    "                      gen_mean = means_train, gen_cov = cov_train, columns_features = numerical_features ).reset_index(drop = True)"
   ]
  },
  {
   "cell_type": "code",
   "execution_count": 14,
   "metadata": {},
   "outputs": [
    {
     "data": {
      "text/plain": [
       "target\n",
       "0    134860\n",
       "1     15140\n",
       "2      4000\n",
       "3     10000\n",
       "4      4000\n",
       "Name: mahalanobis, dtype: int64"
      ]
     },
     "execution_count": 14,
     "metadata": {},
     "output_type": "execute_result"
    }
   ],
   "source": [
    "train_section_aug.pivot_table(index = 'target', aggfunc = 'count')['mahalanobis']"
   ]
  },
  {
   "cell_type": "markdown",
   "metadata": {},
   "source": [
    "<b> scaling"
   ]
  },
  {
   "cell_type": "code",
   "execution_count": 15,
   "metadata": {},
   "outputs": [],
   "source": [
    "train_dataset_scaled, scalerx = scaler(train_section_aug)"
   ]
  },
  {
   "cell_type": "markdown",
   "metadata": {},
   "source": [
    "<b> counting encoding"
   ]
  },
  {
   "cell_type": "code",
   "execution_count": 16,
   "metadata": {},
   "outputs": [],
   "source": [
    "labels_counting = get_dictionary_count_lables(train_section_aug, numerical_features, 30) ### Based on the scale version"
   ]
  },
  {
   "cell_type": "code",
   "execution_count": 17,
   "metadata": {},
   "outputs": [],
   "source": [
    "train_dataset_encode = count_encoding(train_section_aug, labels_counting, numerical_features)"
   ]
  },
  {
   "cell_type": "code",
   "execution_count": 18,
   "metadata": {},
   "outputs": [
    {
     "data": {
      "text/html": [
       "<div>\n",
       "<style scoped>\n",
       "    .dataframe tbody tr th:only-of-type {\n",
       "        vertical-align: middle;\n",
       "    }\n",
       "\n",
       "    .dataframe tbody tr th {\n",
       "        vertical-align: top;\n",
       "    }\n",
       "\n",
       "    .dataframe thead th {\n",
       "        text-align: right;\n",
       "    }\n",
       "</style>\n",
       "<table border=\"1\" class=\"dataframe\">\n",
       "  <thead>\n",
       "    <tr style=\"text-align: right;\">\n",
       "      <th></th>\n",
       "      <th>target</th>\n",
       "      <th>var_0</th>\n",
       "      <th>var_1</th>\n",
       "      <th>var_2</th>\n",
       "      <th>var_6</th>\n",
       "      <th>var_12</th>\n",
       "      <th>var_13</th>\n",
       "      <th>var_21</th>\n",
       "      <th>var_22</th>\n",
       "      <th>var_26</th>\n",
       "      <th>...</th>\n",
       "      <th>countvar_133</th>\n",
       "      <th>countvar_139</th>\n",
       "      <th>countvar_146</th>\n",
       "      <th>countvar_148</th>\n",
       "      <th>countvar_164</th>\n",
       "      <th>countvar_165</th>\n",
       "      <th>countvar_166</th>\n",
       "      <th>countvar_174</th>\n",
       "      <th>countvar_190</th>\n",
       "      <th>countvar_198</th>\n",
       "    </tr>\n",
       "  </thead>\n",
       "  <tbody>\n",
       "    <tr>\n",
       "      <th>0</th>\n",
       "      <td>0</td>\n",
       "      <td>14.6323</td>\n",
       "      <td>4.4795</td>\n",
       "      <td>9.7187</td>\n",
       "      <td>6.9328</td>\n",
       "      <td>14.0415</td>\n",
       "      <td>10.4034</td>\n",
       "      <td>20.8865</td>\n",
       "      <td>0.6529</td>\n",
       "      <td>7.2176</td>\n",
       "      <td>...</td>\n",
       "      <td>1277</td>\n",
       "      <td>815</td>\n",
       "      <td>397</td>\n",
       "      <td>1760</td>\n",
       "      <td>1798</td>\n",
       "      <td>2000</td>\n",
       "      <td>2021</td>\n",
       "      <td>1972</td>\n",
       "      <td>1519</td>\n",
       "      <td>2161</td>\n",
       "    </tr>\n",
       "    <tr>\n",
       "      <th>1</th>\n",
       "      <td>0</td>\n",
       "      <td>6.1434</td>\n",
       "      <td>0.8194</td>\n",
       "      <td>7.7495</td>\n",
       "      <td>5.5317</td>\n",
       "      <td>14.1274</td>\n",
       "      <td>17.5591</td>\n",
       "      <td>16.7864</td>\n",
       "      <td>0.8318</td>\n",
       "      <td>-3.0612</td>\n",
       "      <td>...</td>\n",
       "      <td>1563</td>\n",
       "      <td>1899</td>\n",
       "      <td>1773</td>\n",
       "      <td>1368</td>\n",
       "      <td>1798</td>\n",
       "      <td>1734</td>\n",
       "      <td>627</td>\n",
       "      <td>2089</td>\n",
       "      <td>1805</td>\n",
       "      <td>1716</td>\n",
       "    </tr>\n",
       "    <tr>\n",
       "      <th>2</th>\n",
       "      <td>0</td>\n",
       "      <td>14.8377</td>\n",
       "      <td>0.9345</td>\n",
       "      <td>11.6566</td>\n",
       "      <td>4.9043</td>\n",
       "      <td>13.6409</td>\n",
       "      <td>3.6449</td>\n",
       "      <td>17.5242</td>\n",
       "      <td>6.9123</td>\n",
       "      <td>-11.3528</td>\n",
       "      <td>...</td>\n",
       "      <td>1563</td>\n",
       "      <td>1899</td>\n",
       "      <td>176</td>\n",
       "      <td>1078</td>\n",
       "      <td>1288</td>\n",
       "      <td>596</td>\n",
       "      <td>2021</td>\n",
       "      <td>880</td>\n",
       "      <td>1519</td>\n",
       "      <td>2161</td>\n",
       "    </tr>\n",
       "    <tr>\n",
       "      <th>3</th>\n",
       "      <td>0</td>\n",
       "      <td>18.5890</td>\n",
       "      <td>-2.3998</td>\n",
       "      <td>13.8151</td>\n",
       "      <td>6.2728</td>\n",
       "      <td>14.3619</td>\n",
       "      <td>11.3760</td>\n",
       "      <td>17.1774</td>\n",
       "      <td>7.1272</td>\n",
       "      <td>-5.3232</td>\n",
       "      <td>...</td>\n",
       "      <td>1284</td>\n",
       "      <td>967</td>\n",
       "      <td>1032</td>\n",
       "      <td>1722</td>\n",
       "      <td>1717</td>\n",
       "      <td>1971</td>\n",
       "      <td>899</td>\n",
       "      <td>433</td>\n",
       "      <td>980</td>\n",
       "      <td>1961</td>\n",
       "    </tr>\n",
       "    <tr>\n",
       "      <th>4</th>\n",
       "      <td>0</td>\n",
       "      <td>9.5171</td>\n",
       "      <td>-4.3724</td>\n",
       "      <td>9.4933</td>\n",
       "      <td>5.5936</td>\n",
       "      <td>14.1033</td>\n",
       "      <td>10.0625</td>\n",
       "      <td>16.4844</td>\n",
       "      <td>0.5054</td>\n",
       "      <td>-7.8316</td>\n",
       "      <td>...</td>\n",
       "      <td>455</td>\n",
       "      <td>1700</td>\n",
       "      <td>660</td>\n",
       "      <td>1760</td>\n",
       "      <td>1562</td>\n",
       "      <td>1262</td>\n",
       "      <td>1455</td>\n",
       "      <td>2089</td>\n",
       "      <td>380</td>\n",
       "      <td>1327</td>\n",
       "    </tr>\n",
       "  </tbody>\n",
       "</table>\n",
       "<p>5 rows × 60 columns</p>\n",
       "</div>"
      ],
      "text/plain": [
       "   target    var_0   var_1    var_2   var_6   var_12   var_13   var_21  \\\n",
       "0       0  14.6323  4.4795   9.7187  6.9328  14.0415  10.4034  20.8865   \n",
       "1       0   6.1434  0.8194   7.7495  5.5317  14.1274  17.5591  16.7864   \n",
       "2       0  14.8377  0.9345  11.6566  4.9043  13.6409   3.6449  17.5242   \n",
       "3       0  18.5890 -2.3998  13.8151  6.2728  14.3619  11.3760  17.1774   \n",
       "4       0   9.5171 -4.3724   9.4933  5.5936  14.1033  10.0625  16.4844   \n",
       "\n",
       "   var_22   var_26  ...  countvar_133  countvar_139  countvar_146  \\\n",
       "0  0.6529   7.2176  ...          1277           815           397   \n",
       "1  0.8318  -3.0612  ...          1563          1899          1773   \n",
       "2  6.9123 -11.3528  ...          1563          1899           176   \n",
       "3  7.1272  -5.3232  ...          1284           967          1032   \n",
       "4  0.5054  -7.8316  ...           455          1700           660   \n",
       "\n",
       "   countvar_148  countvar_164  countvar_165  countvar_166  countvar_174  \\\n",
       "0          1760          1798          2000          2021          1972   \n",
       "1          1368          1798          1734           627          2089   \n",
       "2          1078          1288           596          2021           880   \n",
       "3          1722          1717          1971           899           433   \n",
       "4          1760          1562          1262          1455          2089   \n",
       "\n",
       "   countvar_190  countvar_198  \n",
       "0          1519          2161  \n",
       "1          1805          1716  \n",
       "2          1519          2161  \n",
       "3           980          1961  \n",
       "4           380          1327  \n",
       "\n",
       "[5 rows x 60 columns]"
      ]
     },
     "execution_count": 18,
     "metadata": {},
     "output_type": "execute_result"
    }
   ],
   "source": [
    "train_dataset_encode.head()"
   ]
  },
  {
   "cell_type": "markdown",
   "metadata": {},
   "source": [
    "<b> Folds"
   ]
  },
  {
   "cell_type": "code",
   "execution_count": 19,
   "metadata": {},
   "outputs": [],
   "source": [
    "kfolds_touse = k_folds_indexs(train_dataset_encode, folds = 5, balanced = True, validation_additional_false = 1000, validation_reduce_false = 66000)"
   ]
  },
  {
   "cell_type": "code",
   "execution_count": 20,
   "metadata": {},
   "outputs": [
    {
     "data": {
      "text/plain": [
       "target\n",
       "0    64895\n",
       "1    12175\n",
       "2     4000\n",
       "3    10000\n",
       "4     4000\n",
       "Name: mahalanobis, dtype: int64"
      ]
     },
     "execution_count": 20,
     "metadata": {},
     "output_type": "execute_result"
    }
   ],
   "source": [
    "train_dataset_encode[train_dataset_encode.index.isin(kfolds_touse['fold 3']['train index'])].pivot_table(index = 'target', aggfunc = 'count')['mahalanobis']"
   ]
  },
  {
   "cell_type": "code",
   "execution_count": 21,
   "metadata": {},
   "outputs": [
    {
     "data": {
      "text/plain": [
       "95070"
      ]
     },
     "execution_count": 21,
     "metadata": {},
     "output_type": "execute_result"
    }
   ],
   "source": [
    "len(train_dataset_encode[train_dataset_encode.index.isin(kfolds_touse['fold 3']['train index'])])"
   ]
  },
  {
   "cell_type": "markdown",
   "metadata": {},
   "source": [
    "<b> tunning strategy"
   ]
  },
  {
   "cell_type": "code",
   "execution_count": 22,
   "metadata": {},
   "outputs": [],
   "source": [
    "def model_fitting_kfold(models, indexes_kfolds, features, train_data, rate_aug, sample_aug, save_model = False, save_nro_machine = 1 ):\n",
    "    indexm = 1\n",
    "    model_results = dict()\n",
    "    model_saved = list()\n",
    "    for model,rate_param, sample_param in zip(models,rate_aug, sample_aug) :\n",
    "        fold_result = dict()\n",
    "        fold_i = 1\n",
    "        for fold in indexes_kfolds.keys():\n",
    "            \n",
    "            train_index, val_index = indexes_kfolds[fold]['train index'] , indexes_kfolds[fold]['val index']\n",
    "\n",
    "            validation_data = train_data[train_data.index.isin(val_index)]\n",
    "            train_data_tomodel = train_data[train_data.index.isin(train_index)]\n",
    "        \n",
    "            train_data_tomodel_aug = augmentation_selection_rates(train_data_tomodel, rate = rate_param, sample = sample_param)\n",
    "\n",
    "            X_train = train_data_tomodel_aug[features]\n",
    "            Y_train = train_data_tomodel_aug['target']\n",
    "\n",
    "            X_val = validation_data[features]\n",
    "            Y_val = validation_data['target']\n",
    "            \n",
    "            #### MODEL TRAINING:\n",
    "            my_model = model.fit(X_train, Y_train)\n",
    "            if save_model and indexm == save_nro_machine:\n",
    "                model_saved.append(my_model)\n",
    "                \n",
    "            result_metrics, _, _ = metrics_train_validation(my_model, X_train, Y_train, X_val, Y_val)\n",
    "            \n",
    "            fold_result[f'fold-{fold_i}'] = {'metrics': result_metrics}\n",
    "            #print(f'fold {fold_i} done')\n",
    "            fold_i = fold_i + 1\n",
    "            \n",
    "        model_results[f'model-{indexm}'] = fold_result\n",
    "        print(f'done machine {indexm}')\n",
    "        indexm = indexm + 1\n",
    "    return model_results, model_saved"
   ]
  },
  {
   "cell_type": "code",
   "execution_count": 23,
   "metadata": {},
   "outputs": [],
   "source": [
    "def weighting_models(models, features, data, trained_model = None):\n",
    "    X_train = data[data.target.isin([0,1])][features]\n",
    "    Y_train = data[data.target.isin([0,1])]['target']\n",
    "    probas_result = dict()\n",
    "    i = 1\n",
    "    for model in models:    \n",
    "        probas = model.predict_proba(X_train)[:,1]\n",
    "        probas_result[i] = probas\n",
    "    probas_result['target'] = Y_train\n",
    "    result_df = pd.DataFrame(probas_result)\n",
    "    X_train = result_df.iloc[:,0:-1]\n",
    "    Y_train = result_df['target']\n",
    "    \n",
    "    if trained_model:\n",
    "        probas = trained_model.predict_proba(X_train)[:,1]\n",
    "        return probas\n",
    "    else:\n",
    "        weight_model = LogisticRegression().fit(X_train, Y_train)\n",
    "        return weight_model"
   ]
  },
  {
   "cell_type": "code",
   "execution_count": 24,
   "metadata": {},
   "outputs": [],
   "source": [
    "#def use_weighted_model(models, features, data):"
   ]
  },
  {
   "cell_type": "code",
   "execution_count": 25,
   "metadata": {},
   "outputs": [],
   "source": [
    "def jsontotable(json, typex = 'Validation'):\n",
    "    list_machines, list_folds, list_acc, list_auc = list(), list(), list(),list()\n",
    "    \n",
    "    for machine in json.keys():\n",
    "        machine_json = json[machine]\n",
    "        for fold in machine_json.keys():\n",
    "            mets = machine_json[fold]['metrics'][typex]\n",
    "            Acc, AUC = mets['Accuracy'], mets['AUC']\n",
    "            list_machines.append(machine), list_folds.append(fold), list_acc.append(Acc), list_auc.append(AUC)\n",
    "    data = {'machine': list_machines, 'fold' : list_folds , 'Accuracy' : list_acc, 'AUC': list_auc}\n",
    "    result_data = pd.DataFrame(data)\n",
    "    return result_data"
   ]
  },
  {
   "cell_type": "code",
   "execution_count": 26,
   "metadata": {},
   "outputs": [],
   "source": [
    "def plot_results(data):\n",
    "    fig, axs = plt.subplots(nrows=2, ncols=1,figsize=(15,10))\n",
    "\n",
    "    ax = sns.swarmplot(ax = axs[0] , data = data , x=\"machine\", y=\"AUC\", hue = 'fold')\n",
    "    ax = sns.swarmplot(ax = axs[1] , data = data , x=\"machine\", y=\"Accuracy\", hue = 'fold')\n",
    "\n",
    "    fig.show()"
   ]
  },
  {
   "cell_type": "code",
   "execution_count": 27,
   "metadata": {},
   "outputs": [],
   "source": [
    "features_to_use = list(train_dataset_encode)[1:]"
   ]
  },
  {
   "cell_type": "markdown",
   "metadata": {},
   "source": [
    "#### Section 1: KNN"
   ]
  },
  {
   "cell_type": "code",
   "execution_count": 39,
   "metadata": {},
   "outputs": [],
   "source": [
    "my_knn_models = list()\n",
    "number_of_machines = 6\n",
    "machines_labels = [f'machine-{x}' for x in range(1,number_of_machines +1) ]\n",
    "\n",
    "parameters = { 'Machine':machines_labels,\n",
    " 'neighbors' : [2,4,8,10,15,20],\n",
    " 'rate_aug': [1.0, 1.0, 1.0, 1.0, 1.0, 1.0],\n",
    " 'sample_aug': [0.5, 0.5, 0.5, 0.5, 0.5, 0.5] }\n",
    "\n",
    "for i in range(number_of_machines):\n",
    "    neighbors_param = parameters['neighbors'][i]\n",
    "    my_knn = KNeighborsClassifier(n_neighbors = neighbors_param)\n",
    "    my_knn_models.append(my_knn)\n",
    "\n",
    "parameters_df = pd.DataFrame(parameters)    "
   ]
  },
  {
   "cell_type": "code",
   "execution_count": 47,
   "metadata": {},
   "outputs": [
    {
     "name": "stdout",
     "output_type": "stream",
     "text": [
      "done machine 1\n",
      "done machine 2\n",
      "done machine 3\n",
      "done machine 4\n",
      "done machine 5\n",
      "done machine 6\n"
     ]
    }
   ],
   "source": [
    "result_tunning, modelsTrained = model_fitting_kfold(models = my_knn_models , indexes_kfolds = kfolds_touse, features = features_to_use, train_data = train_dataset_encode,\n",
    "                           rate_aug = parameters['rate_aug'], sample_aug = parameters['sample_aug'], save_model = True, save_nro_machine = 3)"
   ]
  },
  {
   "cell_type": "code",
   "execution_count": 48,
   "metadata": {},
   "outputs": [],
   "source": [
    "toplot_result = jsontotable(result_tunning, typex = 'Validation')"
   ]
  },
  {
   "cell_type": "code",
   "execution_count": 49,
   "metadata": {},
   "outputs": [
    {
     "data": {
      "image/png": "[encoded data removed]",
      "text/plain": [
       "<Figure size 1080x720 with 2 Axes>"
      ]
     },
     "metadata": {},
     "output_type": "display_data"
    }
   ],
   "source": [
    "plot_results(toplot_result)"
   ]
  },
  {
   "cell_type": "code",
   "execution_count": 51,
   "metadata": {},
   "outputs": [
    {
     "data": {
      "text/html": [
       "<div>\n",
       "<style scoped>\n",
       "    .dataframe tbody tr th:only-of-type {\n",
       "        vertical-align: middle;\n",
       "    }\n",
       "\n",
       "    .dataframe tbody tr th {\n",
       "        vertical-align: top;\n",
       "    }\n",
       "\n",
       "    .dataframe thead th {\n",
       "        text-align: right;\n",
       "    }\n",
       "</style>\n",
       "<table border=\"1\" class=\"dataframe\">\n",
       "  <thead>\n",
       "    <tr style=\"text-align: right;\">\n",
       "      <th></th>\n",
       "      <th>Machine</th>\n",
       "      <th>neighbors</th>\n",
       "      <th>rate_aug</th>\n",
       "      <th>sample_aug</th>\n",
       "    </tr>\n",
       "  </thead>\n",
       "  <tbody>\n",
       "    <tr>\n",
       "      <th>0</th>\n",
       "      <td>machine-1</td>\n",
       "      <td>2</td>\n",
       "      <td>1.0</td>\n",
       "      <td>0.5</td>\n",
       "    </tr>\n",
       "  </tbody>\n",
       "</table>\n",
       "</div>"
      ],
      "text/plain": [
       "     Machine  neighbors  rate_aug  sample_aug\n",
       "0  machine-1          2       1.0         0.5"
      ]
     },
     "execution_count": 51,
     "metadata": {},
     "output_type": "execute_result"
    }
   ],
   "source": [
    "parameters_df[parameters_df.Machine == 'machine-1']"
   ]
  },
  {
   "cell_type": "markdown",
   "metadata": {},
   "source": [
    "reference bagging"
   ]
  },
  {
   "cell_type": "code",
   "execution_count": 52,
   "metadata": {},
   "outputs": [],
   "source": [
    "weight_data = train_dataset_encode[train_dataset_encode.target.isin([0,1])]"
   ]
  },
  {
   "cell_type": "code",
   "execution_count": 53,
   "metadata": {},
   "outputs": [],
   "source": [
    "weighted_model = weighting_models(models = modelsTrained , features = features_to_use, data = weight_data)\n",
    "result = weighting_models(models = modelsTrained , features = features_to_use, data = weight_data, trained_model = wweighted_model)"
   ]
  },
  {
   "cell_type": "code",
   "execution_count": 58,
   "metadata": {},
   "outputs": [
    {
     "data": {
      "text/plain": [
       "0.6778136586089278"
      ]
     },
     "execution_count": 58,
     "metadata": {},
     "output_type": "execute_result"
    }
   ],
   "source": [
    "roc_auc_score(weight_data.target.values,result)"
   ]
  },
  {
   "cell_type": "markdown",
   "metadata": {},
   "source": [
    "#### Section 1: Random Forest"
   ]
  },
  {
   "cell_type": "code",
   "execution_count": 59,
   "metadata": {},
   "outputs": [],
   "source": [
    "my_rf_models = list()\n",
    "number_of_machines = 6\n",
    "machines_labels = [f'machine-{x}' for x in range(1,number_of_machines +1) ]\n",
    "\n",
    "parameters = { 'Machine':machines_labels,\n",
    "    'n_estimators' : [100, 500, 250, 1500, 750, 450],\n",
    "    'max_depth' : [15, 20, 35, 20, 10, 45],        \n",
    "    'min_samples_split' : [10, 20, 30, 15, 25, 35 ], \n",
    "    'min_samples_leaf': [4, 6, 10, 2, 20, 35],\n",
    " 'rate_aug': [1.0, 1.0, 1.0, 1.0, 1.0, 1.0],\n",
    " 'sample_aug': [0.5, 0.5, 0.5, 0.5, 0.5, 0.5] }\n",
    "\n",
    "for i in range(number_of_machines):\n",
    "    n_estimators_param = parameters['n_estimators'][i]\n",
    "    max_depth_param = parameters['max_depth'][i]\n",
    "    min_samples_split_param = parameters['min_samples_split'][i]\n",
    "    min_samples_leaf_param = parameters['min_samples_leaf'][i]\n",
    "    \n",
    "    my_rf = RandomForestClassifier(n_estimators = n_estimators_param , max_depth = max_depth_param, \n",
    "                                   min_samples_split = min_samples_split_param, min_samples_leaf = min_samples_leaf_param)\n",
    "    my_rf_models.append(my_rf)\n",
    "\n",
    "parameters_df = pd.DataFrame(parameters)  "
   ]
  },
  {
   "cell_type": "code",
   "execution_count": 61,
   "metadata": {},
   "outputs": [
    {
     "name": "stdout",
     "output_type": "stream",
     "text": [
      "done machine 1\n",
      "done machine 2\n",
      "done machine 3\n",
      "done machine 4\n",
      "done machine 5\n",
      "done machine 6\n"
     ]
    }
   ],
   "source": [
    "result_tunning = model_fitting_kfold(models = my_rf_models , indexes_kfolds = kfolds_touse, features = features_to_use, train_data = train_dataset_encode,\n",
    "                       rate_aug = parameters['rate_aug'], sample_aug = parameters['sample_aug'])"
   ]
  },
  {
   "cell_type": "code",
   "execution_count": 63,
   "metadata": {},
   "outputs": [],
   "source": [
    "toplot_result = jsontotable(result_tunning[0], typex = 'Validation')"
   ]
  },
  {
   "cell_type": "code",
   "execution_count": 64,
   "metadata": {},
   "outputs": [
    {
     "data": {
      "image/png": "[encoded data removed]",
      "text/plain": [
       "<Figure size 1080x720 with 2 Axes>"
      ]
     },
     "metadata": {},
     "output_type": "display_data"
    }
   ],
   "source": [
    "plot_results(toplot_result)"
   ]
  },
  {
   "cell_type": "code",
   "execution_count": 65,
   "metadata": {},
   "outputs": [
    {
     "data": {
      "text/html": [
       "<div>\n",
       "<style scoped>\n",
       "    .dataframe tbody tr th:only-of-type {\n",
       "        vertical-align: middle;\n",
       "    }\n",
       "\n",
       "    .dataframe tbody tr th {\n",
       "        vertical-align: top;\n",
       "    }\n",
       "\n",
       "    .dataframe thead th {\n",
       "        text-align: right;\n",
       "    }\n",
       "</style>\n",
       "<table border=\"1\" class=\"dataframe\">\n",
       "  <thead>\n",
       "    <tr style=\"text-align: right;\">\n",
       "      <th></th>\n",
       "      <th>Machine</th>\n",
       "      <th>n_estimators</th>\n",
       "      <th>max_depth</th>\n",
       "      <th>min_samples_split</th>\n",
       "      <th>min_samples_leaf</th>\n",
       "      <th>rate_aug</th>\n",
       "      <th>sample_aug</th>\n",
       "    </tr>\n",
       "  </thead>\n",
       "  <tbody>\n",
       "    <tr>\n",
       "      <th>2</th>\n",
       "      <td>machine-3</td>\n",
       "      <td>250</td>\n",
       "      <td>35</td>\n",
       "      <td>30</td>\n",
       "      <td>10</td>\n",
       "      <td>1.0</td>\n",
       "      <td>0.5</td>\n",
       "    </tr>\n",
       "  </tbody>\n",
       "</table>\n",
       "</div>"
      ],
      "text/plain": [
       "     Machine  n_estimators  max_depth  min_samples_split  min_samples_leaf  \\\n",
       "2  machine-3           250         35                 30                10   \n",
       "\n",
       "   rate_aug  sample_aug  \n",
       "2       1.0         0.5  "
      ]
     },
     "execution_count": 65,
     "metadata": {},
     "output_type": "execute_result"
    }
   ],
   "source": [
    "parameters_df[parameters_df.Machine == 'machine-3']"
   ]
  },
  {
   "cell_type": "markdown",
   "metadata": {},
   "source": [
    "#### Section 1: Light Gradient Boosting"
   ]
  },
  {
   "cell_type": "code",
   "execution_count": 32,
   "metadata": {},
   "outputs": [],
   "source": [
    "my_gbc_models = list()\n",
    "number_of_machines = 6\n",
    "machines_labels = [f'machine-{x}' for x in range(1,number_of_machines +1) ]\n",
    "\n",
    "parameters = { 'Machine':machines_labels,\n",
    "    'n_estimators' : [100, 150, 200, 50, 150, 250],\n",
    "    'max_depth' : [15, 20, 35, 20, 10, 45],        \n",
    "    'learning_rate' : [0.001, 0.005, 0.002, 0.003, 0.001, 0.0025 ], \n",
    "    'min_samples_leaf': [4, 6, 10, 2, 20, 35],\n",
    " 'rate_aug': [1.0, 1.0, 1.0, 1.0, 1.0, 1.0],\n",
    " 'sample_aug': [0.5, 0.5, 0.5, 0.5, 0.5, 0.5] }\n",
    "\n",
    "for i in range(number_of_machines):\n",
    "    n_estimators_param = parameters['n_estimators'][i]\n",
    "    max_depth_param = parameters['max_depth'][i]\n",
    "    learning_rate_param = parameters['learning_rate'][i]\n",
    "    min_samples_leaf_param = parameters['min_samples_leaf'][i]\n",
    "    \n",
    "    my_gbc = GradientBoostingClassifier(n_estimators = n_estimators_param , max_depth = max_depth_param, \n",
    "                                   learning_rate = learning_rate_param, min_samples_leaf = min_samples_leaf_param)\n",
    "    my_gbc_models.append(my_gbc)\n",
    "\n",
    "parameters_df = pd.DataFrame(parameters)  "
   ]
  },
  {
   "cell_type": "code",
   "execution_count": 33,
   "metadata": {},
   "outputs": [
    {
     "name": "stdout",
     "output_type": "stream",
     "text": [
      "done machine 1\n",
      "done machine 2\n",
      "done machine 3\n",
      "done machine 4\n",
      "done machine 5\n",
      "done machine 6\n"
     ]
    }
   ],
   "source": [
    "result_tunning = model_fitting_kfold(models = my_gbc_models , indexes_kfolds = kfolds_touse, features = features_to_use, train_data = train_dataset_encode,\n",
    "                           rate_aug = parameters['rate_aug'], sample_aug = parameters['sample_aug'])"
   ]
  },
  {
   "cell_type": "code",
   "execution_count": 34,
   "metadata": {},
   "outputs": [],
   "source": [
    "toplot_result = jsontotable(result_tunning[0], typex = 'Validation')"
   ]
  },
  {
   "cell_type": "code",
   "execution_count": 35,
   "metadata": {},
   "outputs": [
    {
     "data": {
      "image/png": "[encoded data removed]",
      "text/plain": [
       "<Figure size 1080x720 with 2 Axes>"
      ]
     },
     "metadata": {},
     "output_type": "display_data"
    }
   ],
   "source": [
    "plot_results(toplot_result)"
   ]
  },
  {
   "cell_type": "code",
   "execution_count": 36,
   "metadata": {},
   "outputs": [
    {
     "data": {
      "text/html": [
       "<div>\n",
       "<style scoped>\n",
       "    .dataframe tbody tr th:only-of-type {\n",
       "        vertical-align: middle;\n",
       "    }\n",
       "\n",
       "    .dataframe tbody tr th {\n",
       "        vertical-align: top;\n",
       "    }\n",
       "\n",
       "    .dataframe thead th {\n",
       "        text-align: right;\n",
       "    }\n",
       "</style>\n",
       "<table border=\"1\" class=\"dataframe\">\n",
       "  <thead>\n",
       "    <tr style=\"text-align: right;\">\n",
       "      <th></th>\n",
       "      <th>Machine</th>\n",
       "      <th>n_estimators</th>\n",
       "      <th>max_depth</th>\n",
       "      <th>learning_rate</th>\n",
       "      <th>min_samples_leaf</th>\n",
       "      <th>rate_aug</th>\n",
       "      <th>sample_aug</th>\n",
       "    </tr>\n",
       "  </thead>\n",
       "  <tbody>\n",
       "    <tr>\n",
       "      <th>2</th>\n",
       "      <td>machine-3</td>\n",
       "      <td>200</td>\n",
       "      <td>35</td>\n",
       "      <td>0.002</td>\n",
       "      <td>10</td>\n",
       "      <td>1.0</td>\n",
       "      <td>0.5</td>\n",
       "    </tr>\n",
       "  </tbody>\n",
       "</table>\n",
       "</div>"
      ],
      "text/plain": [
       "     Machine  n_estimators  max_depth  learning_rate  min_samples_leaf  \\\n",
       "2  machine-3           200         35          0.002                10   \n",
       "\n",
       "   rate_aug  sample_aug  \n",
       "2       1.0         0.5  "
      ]
     },
     "execution_count": 36,
     "metadata": {},
     "output_type": "execute_result"
    }
   ],
   "source": [
    "parameters_df[parameters_df.Machine == 'machine-3']"
   ]
  },
  {
   "cell_type": "markdown",
   "metadata": {},
   "source": [
    "### Conclusions"
   ]
  },
  {
   "cell_type": "markdown",
   "metadata": {},
   "source": [
    "* The winners are Random Forest and Gradient Boosting\n",
    "    + RF is faster than Gradient Boosting Machine\n",
    "    + seems that GBM performs better that the RF\n",
    "    + seems that GBM has more stable result than RF\n",
    "* then go further with hiper parameter tunning\n",
    "* use the top parameters to continue with the tunning"
   ]
  },
  {
   "cell_type": "code",
   "execution_count": null,
   "metadata": {},
   "outputs": [],
   "source": []
  }
 ],
 "metadata": {
  "kernelspec": {
   "display_name": "Python 3",
   "language": "python",
   "name": "python3"
  },
  "language_info": {
   "codemirror_mode": {
    "name": "ipython",
    "version": 3
   },
   "file_extension": ".py",
   "mimetype": "text/x-python",
   "name": "python",
   "nbconvert_exporter": "python",
   "pygments_lexer": "ipython3",
   "version": "3.7.6"
  }
 },
 "nbformat": 4,
 "nbformat_minor": 4
}

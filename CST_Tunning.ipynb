{
 "cells": [
  {
   "cell_type": "markdown",
   "metadata": {},
   "source": [
    "## Santander Customer Transactions predictions"
   ]
  },
  {
   "cell_type": "markdown",
   "metadata": {},
   "source": [
    "#BigDataSets#HighDimensionality#DataBalancing"
   ]
  },
  {
   "cell_type": "code",
   "execution_count": 1,
   "metadata": {},
   "outputs": [],
   "source": [
    "import pandas as pd\n",
    "import numpy as np\n",
    "from datetime import datetime\n",
    "from datetime import timedelta  \n",
    "import os\n",
    "import random\n",
    "import scipy as sp\n",
    "\n",
    "import matplotlib.pyplot as plt\n",
    "from mpl_toolkits.mplot3d import Axes3D\n",
    "import matplotlib.gridspec as gridspec\n",
    "\n",
    "import seaborn as sns; sns.set()"
   ]
  },
  {
   "cell_type": "code",
   "execution_count": 2,
   "metadata": {},
   "outputs": [],
   "source": [
    "from sklearn.preprocessing import StandardScaler"
   ]
  },
  {
   "cell_type": "code",
   "execution_count": 3,
   "metadata": {},
   "outputs": [],
   "source": [
    "import warnings\n",
    "warnings.filterwarnings('ignore')"
   ]
  },
  {
   "cell_type": "code",
   "execution_count": 4,
   "metadata": {},
   "outputs": [],
   "source": [
    "from functions import scaler, threeD_plot, mahalanobis, mahalanobis_vector_plot, compute_mahalanobis_parts , normal_augmentation, concentrated_augmentation\n",
    "from functions import augmentation_strategy, augmentation_selection_rates, metrics_train_validation, balance_validation, partitions"
   ]
  },
  {
   "cell_type": "code",
   "execution_count": 98,
   "metadata": {},
   "outputs": [],
   "source": [
    "from sklearn import svm\n",
    "from sklearn.neighbors import KNeighborsClassifier\n",
    "from sklearn.linear_model import LogisticRegression\n",
    "from sklearn.ensemble import RandomForestClassifier\n",
    "\n",
    "from sklearn.metrics import precision_score,accuracy_score,roc_auc_score, roc_curve, auc"
   ]
  },
  {
   "cell_type": "markdown",
   "metadata": {},
   "source": [
    "### Loading Data"
   ]
  },
  {
   "cell_type": "code",
   "execution_count": 6,
   "metadata": {},
   "outputs": [],
   "source": [
    "train = pd.read_csv('train.csv')\n",
    "ss = pd.read_csv('sample_submission.csv')\n",
    "test = pd.read_csv('test.csv')"
   ]
  },
  {
   "cell_type": "code",
   "execution_count": 7,
   "metadata": {},
   "outputs": [],
   "source": [
    "numerical_features = ['var_4', 'var_12', 'var_46', 'var_78', 'var_81', 'var_110', 'var_152', 'var_175', 'var_183', 'var_199']"
   ]
  },
  {
   "cell_type": "markdown",
   "metadata": {},
   "source": [
    "<b> random split"
   ]
  },
  {
   "cell_type": "code",
   "execution_count": 8,
   "metadata": {},
   "outputs": [],
   "source": [
    "seed = 158\n",
    "validation_dataset = train.sample(frac = 0.25, replace = False, random_state = seed).reset_index(drop = True)\n",
    "validation_dataset = validation_dataset.copy()[['target'] + numerical_features]\n",
    "train_dataset = train[~train.index.isin(validation_dataset.index)].reset_index(drop = True)[['target'] + numerical_features]"
   ]
  },
  {
   "cell_type": "code",
   "execution_count": 9,
   "metadata": {},
   "outputs": [],
   "source": [
    "train_dataset = train_dataset[ ['target'] + numerical_features]\n",
    "\n",
    "means_train = np.mean(train_dataset[numerical_features])  ### Save this , over not scalled\n",
    "cov_train = np.cov(train_dataset[numerical_features].T) ### Save thisnot, over not scalled"
   ]
  },
  {
   "cell_type": "code",
   "execution_count": 10,
   "metadata": {},
   "outputs": [],
   "source": [
    "train_dataset_distance = compute_mahalanobis_parts(train_dataset, numerical_features, 20000,[True,True], means_train, cov_train )\n",
    "train_dataset_scaled, scalerx = scaler(train_dataset_distance)"
   ]
  },
  {
   "cell_type": "markdown",
   "metadata": {},
   "source": [
    "<b> validation_dataset is ussed as the test set"
   ]
  },
  {
   "cell_type": "markdown",
   "metadata": {},
   "source": [
    "<b> sectioning:"
   ]
  },
  {
   "cell_type": "code",
   "execution_count": 11,
   "metadata": {},
   "outputs": [],
   "source": [
    "train_section_1, train_section_2, train_section_3 = partitions(train_dataset_scaled)"
   ]
  },
  {
   "cell_type": "markdown",
   "metadata": {},
   "source": [
    "### Cross validation using K-fold and parameter tunning"
   ]
  },
  {
   "cell_type": "markdown",
   "metadata": {},
   "source": [
    "### Section 1"
   ]
  },
  {
   "cell_type": "code",
   "execution_count": 12,
   "metadata": {},
   "outputs": [
    {
     "data": {
      "text/plain": [
       "target\n",
       "0    13926\n",
       "1     2650\n",
       "Name: mahalanobis, dtype: int64"
      ]
     },
     "execution_count": 12,
     "metadata": {},
     "output_type": "execute_result"
    }
   ],
   "source": [
    "train_section_1.pivot_table(index = 'target', aggfunc = 'count')['mahalanobis']"
   ]
  },
  {
   "cell_type": "code",
   "execution_count": 13,
   "metadata": {},
   "outputs": [],
   "source": [
    "def unscaler(dataset, scalerx):\n",
    "    df = dataset.iloc[:,1:]\n",
    "    df_unscaled = scalerx.inverse_transform(df)\n",
    "    dataset_unscaled = pd.DataFrame(df_unscaled , columns = df.columns,index = df.index)\n",
    "    df_result = pd.concat([dataset.iloc[:,0:1],dataset_unscaled], axis = 1)\n",
    "    return df_result"
   ]
  },
  {
   "cell_type": "code",
   "execution_count": 14,
   "metadata": {},
   "outputs": [],
   "source": [
    "dict_1 = {'n':3600, 'range': [15,40], 'label': 2, 'rate': 0.65}  #random augmentation\n",
    "dict_2 = {'n':2000, 'label': 1} # augmetation on existing ones\n",
    "dict_3 = {'n':3000, 'range': [15,40], 'label': 4, 'category': 2} # augmetation on the previous ones\n",
    "\n",
    "unscld_train_section_1 =unscaler(train_section_1, scalerx)\n",
    "train_section_1_aug = augmentation_strategy(data = unscld_train_section_1, dict_1 = dict_1,dict_2 = dict_2, dict_3 = dict_3,\n",
    "                      gen_mean = means_train, gen_cov = cov_train, columns_features = numerical_features ).reset_index(drop = True)\n",
    "del unscld_train_section_1\n",
    "train_section_1_aug =  scaler(train_section_1_aug,scalerx)"
   ]
  },
  {
   "cell_type": "code",
   "execution_count": 15,
   "metadata": {},
   "outputs": [
    {
     "data": {
      "text/plain": [
       "target\n",
       "0    13926\n",
       "1     2650\n",
       "2     3600\n",
       "3     2000\n",
       "4     3000\n",
       "Name: mahalanobis, dtype: int64"
      ]
     },
     "execution_count": 15,
     "metadata": {},
     "output_type": "execute_result"
    }
   ],
   "source": [
    "train_section_1_aug.pivot_table(index = 'target', aggfunc = 'count')['mahalanobis']"
   ]
  },
  {
   "cell_type": "code",
   "execution_count": 16,
   "metadata": {},
   "outputs": [
    {
     "data": {
      "text/plain": [
       "count    25176.000000\n",
       "mean         2.709012\n",
       "std          1.658208\n",
       "min          1.269335\n",
       "25%          1.567802\n",
       "50%          2.000770\n",
       "75%          3.122886\n",
       "max          7.615267\n",
       "Name: mahalanobis, dtype: float64"
      ]
     },
     "execution_count": 16,
     "metadata": {},
     "output_type": "execute_result"
    }
   ],
   "source": [
    "train_section_1_aug['mahalanobis'].describe()"
   ]
  },
  {
   "cell_type": "markdown",
   "metadata": {},
   "source": [
    "<b> Data splitting strategy"
   ]
  },
  {
   "cell_type": "code",
   "execution_count": 17,
   "metadata": {},
   "outputs": [],
   "source": [
    "def k_folds_indexs(data, folds = 5, balanced = False, validation_additional_false = 500, validation_reduce_false = 700 ):\n",
    "\n",
    "    def split(a, n):\n",
    "        k, m = divmod(len(a), n)\n",
    "        return (a[i*k+min(i, m):(i+1)*k+min(i+1, m)] for i in range(n))\n",
    "    \n",
    "    index = data[data.target.isin([0,1])].index\n",
    "    array_index = np.array(index)\n",
    "    np.random.shuffle(array_index)\n",
    "    list_index = list(array_index)\n",
    "    result_split = list(split(list_index, folds))\n",
    "    \n",
    "    result_validation_indexs = result_split\n",
    "    \n",
    "    if balanced:\n",
    "        result_validation_indexs = list()\n",
    "        for fold in result_split:\n",
    "            temp_val = data[data.index.isin(fold)]\n",
    "            temp_val =  balance_validation(temp_val, validation_additional_false )\n",
    "            array = list(temp_val.index)\n",
    "            result_validation_indexs.append(array)\n",
    "    \n",
    "    result_train_indexs = list()\n",
    "    for fold in result_validation_indexs:\n",
    "        train_data_raw = data[~data.index.isin(fold)]\n",
    "        if validation_reduce_false:\n",
    "            indexs = np.array(train_data_raw[train_data_raw.target.isin([0])].index)\n",
    "            np.random.shuffle(indexs)\n",
    "            indexs_selected = list(indexs)[0:validation_reduce_false]\n",
    "        train_data_indexs = list(train_data_raw[~train_data_raw.index.isin(indexs_selected)].index)\n",
    "        result_train_indexs.append(train_data_indexs)\n",
    "            \n",
    "    data_indexs = dict()\n",
    "    for fold in range(1, folds+1):\n",
    "        data_indexs[f'fold {fold}'] = { 'train index': result_train_indexs[fold-1], 'val index': result_validation_indexs[fold-1], }\n",
    "    \n",
    "    return data_indexs"
   ]
  },
  {
   "cell_type": "code",
   "execution_count": 18,
   "metadata": {},
   "outputs": [],
   "source": [
    "kfolds_touse = k_folds_indexs(train_section_1_aug, folds = 5, balanced = True, validation_additional_false = 1000, validation_reduce_false = 6000)"
   ]
  },
  {
   "cell_type": "code",
   "execution_count": 19,
   "metadata": {},
   "outputs": [
    {
     "data": {
      "text/plain": [
       "target\n",
       "0    6404\n",
       "1    2128\n",
       "2    3600\n",
       "3    2000\n",
       "4    3000\n",
       "Name: mahalanobis, dtype: int64"
      ]
     },
     "execution_count": 19,
     "metadata": {},
     "output_type": "execute_result"
    }
   ],
   "source": [
    "train_section_1_aug[train_section_1_aug.index.isin(kfolds_touse['fold 3']['train index'])].pivot_table(index = 'target', aggfunc = 'count')['mahalanobis']"
   ]
  },
  {
   "cell_type": "code",
   "execution_count": 20,
   "metadata": {},
   "outputs": [
    {
     "data": {
      "text/plain": [
       "17132"
      ]
     },
     "execution_count": 20,
     "metadata": {},
     "output_type": "execute_result"
    }
   ],
   "source": [
    "len(train_section_1_aug[train_section_1_aug.index.isin(kfolds_touse['fold 3']['train index'])])"
   ]
  },
  {
   "cell_type": "markdown",
   "metadata": {},
   "source": [
    "<b> tunning strategy"
   ]
  },
  {
   "cell_type": "code",
   "execution_count": 31,
   "metadata": {},
   "outputs": [],
   "source": [
    "def model_fitting_kfold(models, indexes_kfolds, features, train_data, rate_aug, sample_aug, save_model = False, save_nro_machine = 1 ):\n",
    "    indexm = 1\n",
    "    model_results = dict()\n",
    "    model_saved = list()\n",
    "    for model,rate_param, sample_param in zip(models,rate_aug, sample_aug) :\n",
    "        fold_result = dict()\n",
    "        fold_i = 1\n",
    "        for fold in indexes_kfolds.keys():\n",
    "            \n",
    "            train_index, val_index = indexes_kfolds[fold]['train index'] , indexes_kfolds[fold]['val index']\n",
    "\n",
    "            validation_data = train_data[train_data.index.isin(val_index)]\n",
    "            train_data_tomodel = train_data[train_data.index.isin(train_index)]\n",
    "        \n",
    "            train_data_tomodel_aug = augmentation_selection_rates(train_data_tomodel, rate = rate_param, sample = sample_param)\n",
    "\n",
    "            X_train = train_data_tomodel_aug[features]\n",
    "            Y_train = train_data_tomodel_aug['target']\n",
    "\n",
    "            X_val = validation_data[features]\n",
    "            Y_val = validation_data['target']\n",
    "            \n",
    "            #### MODEL TRAINING:\n",
    "            my_model = model.fit(X_train, Y_train)\n",
    "            if save_model and indexm == save_nro_machine:\n",
    "                model_saved.append(my_model)\n",
    "                \n",
    "            result_metrics, _, _ = metrics_train_validation(my_model, X_train, Y_train, X_val, Y_val)\n",
    "            \n",
    "            fold_result[f'fold-{fold_i}'] = {'metrics': result_metrics}\n",
    "            #print(f'fold {fold_i} done')\n",
    "            fold_i = fold_i + 1\n",
    "            \n",
    "        model_results[f'model-{indexm}'] = fold_result\n",
    "        print(f'done machine {indexm}')\n",
    "        indexm = indexm + 1\n",
    "    return model_results, model_saved"
   ]
  },
  {
   "cell_type": "code",
   "execution_count": 32,
   "metadata": {},
   "outputs": [],
   "source": [
    "def weighting_models(models, features, data, trained_model = None):\n",
    "    X_train = data[data.target.isin([0,1])][features]\n",
    "    Y_train = data[data.target.isin([0,1])]['target']\n",
    "    probas_result = dict()\n",
    "    i = 1\n",
    "    for model in models:    \n",
    "        probas = model.predict_proba(X_train)[:,1]\n",
    "        probas_result[i] = probas\n",
    "    probas_result['target'] = Y_train\n",
    "    result_df = pd.DataFrame(probas_result)\n",
    "    X_train = result_df.iloc[:,0:-1]\n",
    "    Y_train = result_df['target']\n",
    "    \n",
    "    if trained_model:\n",
    "        probas = trained_model.predict_proba(X_train)[:,1]\n",
    "        return probas\n",
    "    else:\n",
    "        weight_model = LogisticRegression().fit(X_train, Y_train)\n",
    "        return weight_model"
   ]
  },
  {
   "cell_type": "code",
   "execution_count": 40,
   "metadata": {},
   "outputs": [],
   "source": [
    "#def use_weighted_model(models, features, data):"
   ]
  },
  {
   "cell_type": "code",
   "execution_count": 24,
   "metadata": {},
   "outputs": [],
   "source": [
    "def jsontotable(json, typex = 'Validation'):\n",
    "    list_machines, list_folds, list_acc, list_auc = list(), list(), list(),list()\n",
    "    \n",
    "    for machine in json.keys():\n",
    "        machine_json = json[machine]\n",
    "        for fold in machine_json.keys():\n",
    "            mets = machine_json[fold]['metrics'][typex]\n",
    "            Acc, AUC = mets['Accuracy'], mets['AUC']\n",
    "            list_machines.append(machine), list_folds.append(fold), list_acc.append(Acc), list_auc.append(AUC)\n",
    "    data = {'machine': list_machines, 'fold' : list_folds , 'Accuracy' : list_acc, 'AUC': list_auc}\n",
    "    result_data = pd.DataFrame(data)\n",
    "    return result_data"
   ]
  },
  {
   "cell_type": "code",
   "execution_count": 25,
   "metadata": {},
   "outputs": [],
   "source": [
    "def plot_results(data):\n",
    "    fig, axs = plt.subplots(nrows=2, ncols=1,figsize=(15,10))\n",
    "\n",
    "    ax = sns.swarmplot(ax = axs[0] , data = data , x=\"machine\", y=\"AUC\", hue = 'fold')\n",
    "    ax = sns.swarmplot(ax = axs[1] , data = data , x=\"machine\", y=\"Accuracy\", hue = 'fold')\n",
    "\n",
    "    fig.show()"
   ]
  },
  {
   "cell_type": "code",
   "execution_count": 26,
   "metadata": {},
   "outputs": [],
   "source": [
    "features_to_use = numerical_features[0:4] + ['mahalanobis']"
   ]
  },
  {
   "cell_type": "markdown",
   "metadata": {},
   "source": [
    "#### Section 1: SVM"
   ]
  },
  {
   "cell_type": "code",
   "execution_count": 49,
   "metadata": {},
   "outputs": [],
   "source": [
    "my_svm_models = list()\n",
    "number_of_machines = 6\n",
    "machines_labels = [f'machine-{x}' for x in range(1,number_of_machines +1) ]\n",
    "\n",
    "parameters = { 'Machine':machines_labels,\n",
    " 'gamma' : [0.25, 0.35, 0.45, 0.15, 0.45, 0.89],\n",
    " 'C' : [0.8, 0.45, 100, 1.0, 10, 1000],\n",
    " 'rate_aug': [0.5, 0.25, 1.0, 0.0, 0.65, 0.48],\n",
    " 'sample_aug': [0.9, 0.9, 0.9, 0.9, 0.9, 0.9] }\n",
    "\n",
    "for i in range(number_of_machines):\n",
    "    gamma_param = parameters['gamma'][i]\n",
    "    c_param = parameters['C'][i]\n",
    "    my_svm = svm.SVC(C = c_param, kernel = 'rbf', gamma = gamma_param, probability = True)\n",
    "    my_svm_models.append(my_svm)\n",
    "\n",
    "parameters_df = pd.DataFrame(parameters)    "
   ]
  },
  {
   "cell_type": "code",
   "execution_count": 50,
   "metadata": {},
   "outputs": [
    {
     "name": "stdout",
     "output_type": "stream",
     "text": [
      "done machine 1\n",
      "done machine 2\n",
      "done machine 3\n",
      "done machine 4\n",
      "done machine 5\n",
      "done machine 6\n"
     ]
    }
   ],
   "source": [
    "result_tunning = model_fitting_kfold(models = my_svm_models , indexes_kfolds = kfolds_touse, features = features_to_use, train_data = train_section_1_aug,\n",
    "                           rate_aug = parameters['rate_aug'], sample_aug = parameters['sample_aug'])"
   ]
  },
  {
   "cell_type": "code",
   "execution_count": 51,
   "metadata": {},
   "outputs": [],
   "source": [
    "toplot_result = jsontotable(result_tunning, typex = 'Validation')"
   ]
  },
  {
   "cell_type": "code",
   "execution_count": 52,
   "metadata": {},
   "outputs": [
    {
     "data": {
      "image/png": "[encoded data removed]",
      "text/plain": [
       "<Figure size 1080x720 with 2 Axes>"
      ]
     },
     "metadata": {},
     "output_type": "display_data"
    }
   ],
   "source": [
    "plot_results(toplot_result)"
   ]
  },
  {
   "cell_type": "code",
   "execution_count": 53,
   "metadata": {},
   "outputs": [
    {
     "data": {
      "text/html": [
       "<div>\n",
       "<style scoped>\n",
       "    .dataframe tbody tr th:only-of-type {\n",
       "        vertical-align: middle;\n",
       "    }\n",
       "\n",
       "    .dataframe tbody tr th {\n",
       "        vertical-align: top;\n",
       "    }\n",
       "\n",
       "    .dataframe thead th {\n",
       "        text-align: right;\n",
       "    }\n",
       "</style>\n",
       "<table border=\"1\" class=\"dataframe\">\n",
       "  <thead>\n",
       "    <tr style=\"text-align: right;\">\n",
       "      <th></th>\n",
       "      <th>Machine</th>\n",
       "      <th>gamma</th>\n",
       "      <th>C</th>\n",
       "      <th>rate_aug</th>\n",
       "      <th>sample_aug</th>\n",
       "    </tr>\n",
       "  </thead>\n",
       "  <tbody>\n",
       "    <tr>\n",
       "      <th>2</th>\n",
       "      <td>machine-3</td>\n",
       "      <td>0.45</td>\n",
       "      <td>100.0</td>\n",
       "      <td>1.0</td>\n",
       "      <td>0.9</td>\n",
       "    </tr>\n",
       "  </tbody>\n",
       "</table>\n",
       "</div>"
      ],
      "text/plain": [
       "     Machine  gamma      C  rate_aug  sample_aug\n",
       "2  machine-3   0.45  100.0       1.0         0.9"
      ]
     },
     "execution_count": 53,
     "metadata": {},
     "output_type": "execute_result"
    }
   ],
   "source": [
    "parameters_df[parameters_df.Machine == 'machine-3']"
   ]
  },
  {
   "cell_type": "markdown",
   "metadata": {},
   "source": [
    "#### Section 1: KNN"
   ]
  },
  {
   "cell_type": "code",
   "execution_count": 27,
   "metadata": {},
   "outputs": [],
   "source": [
    "my_knn_models = list()\n",
    "number_of_machines = 6\n",
    "machines_labels = [f'machine-{x}' for x in range(1,number_of_machines +1) ]\n",
    "\n",
    "parameters = { 'Machine':machines_labels,\n",
    " 'neighbors' : [2,4,8,10,15,20],\n",
    " 'rate_aug': [0.5, 0.25, 1.0, 0.0, 0.65, 0.48],\n",
    " 'sample_aug': [0.9, 0.9, 0.9, 0.9, 0.9, 0.9] }\n",
    "\n",
    "for i in range(number_of_machines):\n",
    "    neighbors_param = parameters['neighbors'][i]\n",
    "    my_knn = KNeighborsClassifier(n_neighbors = neighbors_param)\n",
    "    my_knn_models.append(my_knn)\n",
    "\n",
    "parameters_df = pd.DataFrame(parameters)    "
   ]
  },
  {
   "cell_type": "code",
   "execution_count": 33,
   "metadata": {},
   "outputs": [
    {
     "name": "stdout",
     "output_type": "stream",
     "text": [
      "done machine 1\n",
      "done machine 2\n",
      "done machine 3\n",
      "done machine 4\n",
      "done machine 5\n",
      "done machine 6\n"
     ]
    }
   ],
   "source": [
    "result_tunning, modelsTrained_section_1 = model_fitting_kfold(models = my_knn_models , indexes_kfolds = kfolds_touse, features = features_to_use, train_data = train_section_1_aug,\n",
    "                           rate_aug = parameters['rate_aug'], sample_aug = parameters['sample_aug'], save_model = True, save_nro_machine = 3)"
   ]
  },
  {
   "cell_type": "code",
   "execution_count": 34,
   "metadata": {},
   "outputs": [],
   "source": [
    "toplot_result = jsontotable(result_tunning, typex = 'Validation')"
   ]
  },
  {
   "cell_type": "code",
   "execution_count": 35,
   "metadata": {},
   "outputs": [
    {
     "data": {
      "image/png": "[encoded data removed]",
      "text/plain": [
       "<Figure size 1080x720 with 2 Axes>"
      ]
     },
     "metadata": {},
     "output_type": "display_data"
    }
   ],
   "source": [
    "plot_results(toplot_result)"
   ]
  },
  {
   "cell_type": "code",
   "execution_count": 36,
   "metadata": {},
   "outputs": [
    {
     "data": {
      "text/html": [
       "<div>\n",
       "<style scoped>\n",
       "    .dataframe tbody tr th:only-of-type {\n",
       "        vertical-align: middle;\n",
       "    }\n",
       "\n",
       "    .dataframe tbody tr th {\n",
       "        vertical-align: top;\n",
       "    }\n",
       "\n",
       "    .dataframe thead th {\n",
       "        text-align: right;\n",
       "    }\n",
       "</style>\n",
       "<table border=\"1\" class=\"dataframe\">\n",
       "  <thead>\n",
       "    <tr style=\"text-align: right;\">\n",
       "      <th></th>\n",
       "      <th>Machine</th>\n",
       "      <th>neighbors</th>\n",
       "      <th>rate_aug</th>\n",
       "      <th>sample_aug</th>\n",
       "    </tr>\n",
       "  </thead>\n",
       "  <tbody>\n",
       "    <tr>\n",
       "      <th>2</th>\n",
       "      <td>machine-3</td>\n",
       "      <td>8</td>\n",
       "      <td>1.0</td>\n",
       "      <td>0.9</td>\n",
       "    </tr>\n",
       "  </tbody>\n",
       "</table>\n",
       "</div>"
      ],
      "text/plain": [
       "     Machine  neighbors  rate_aug  sample_aug\n",
       "2  machine-3          8       1.0         0.9"
      ]
     },
     "execution_count": 36,
     "metadata": {},
     "output_type": "execute_result"
    }
   ],
   "source": [
    "parameters_df[parameters_df.Machine == 'machine-3']"
   ]
  },
  {
   "cell_type": "code",
   "execution_count": 37,
   "metadata": {},
   "outputs": [],
   "source": [
    "weight_data = train_section_1_aug[train_section_1_aug.target.isin([0,1])]"
   ]
  },
  {
   "cell_type": "code",
   "execution_count": 38,
   "metadata": {},
   "outputs": [],
   "source": [
    "weighted_section_1_model = weighting_models(models = modelsTrained_section_1 , features = features_to_use, data = weight_data)\n",
    "result = weighting_models(models = modelsTrained_section_1 , features = features_to_use, data = weight_data, trained_model = weighted_section_1_model)"
   ]
  },
  {
   "cell_type": "code",
   "execution_count": 39,
   "metadata": {},
   "outputs": [
    {
     "data": {
      "text/plain": [
       "0.6918736366617079"
      ]
     },
     "execution_count": 39,
     "metadata": {},
     "output_type": "execute_result"
    }
   ],
   "source": [
    "roc_auc_score(weight_data.target.values,result)"
   ]
  },
  {
   "cell_type": "markdown",
   "metadata": {},
   "source": [
    "#### Section 1: Random Forest"
   ]
  },
  {
   "cell_type": "code",
   "execution_count": 59,
   "metadata": {},
   "outputs": [],
   "source": [
    "my_rf_models = list()\n",
    "number_of_machines = 6\n",
    "machines_labels = [f'machine-{x}' for x in range(1,number_of_machines +1) ]\n",
    "\n",
    "parameters = { 'Machine':machines_labels,\n",
    "    'n_estimators' : [100, 500, 250, 1500, 750, 450],\n",
    "    'max_depth' : [15, 20, 35, 20, 10, 45],        \n",
    "    'min_samples_split' : [10, 20, 30, 15, 25, 35 ], \n",
    "    'min_samples_leaf': [4, 6, 10, 2, 20, 35],\n",
    " 'rate_aug': [0.5, 0.25, 1.0, 0.0, 0.65, 0.48],\n",
    " 'sample_aug': [0.9, 0.9, 0.9, 0.9, 0.9, 0.9] }\n",
    "\n",
    "for i in range(number_of_machines):\n",
    "    n_estimators_param = parameters['n_estimators'][i]\n",
    "    max_depth_param = parameters['max_depth'][i]\n",
    "    min_samples_split_param = parameters['min_samples_split'][i]\n",
    "    min_samples_leaf_param = parameters['min_samples_leaf'][i]\n",
    "    \n",
    "    my_rf = RandomForestClassifier(n_estimators = n_estimators_param , max_depth = max_depth_param, \n",
    "                                   min_samples_split = min_samples_split_param, min_samples_leaf = min_samples_leaf_param)\n",
    "    my_rf_models.append(my_rf)\n",
    "\n",
    "parameters_df = pd.DataFrame(parameters)  "
   ]
  },
  {
   "cell_type": "code",
   "execution_count": 60,
   "metadata": {},
   "outputs": [
    {
     "name": "stdout",
     "output_type": "stream",
     "text": [
      "done machine 1\n",
      "done machine 2\n",
      "done machine 3\n",
      "done machine 4\n",
      "done machine 5\n",
      "done machine 6\n"
     ]
    }
   ],
   "source": [
    "result_tunning = model_fitting_kfold(models = my_rf_models , indexes_kfolds = kfolds_touse, features = features_to_use, train_data = train_section_1_aug,\n",
    "                           rate_aug = parameters['rate_aug'], sample_aug = parameters['sample_aug'])"
   ]
  },
  {
   "cell_type": "code",
   "execution_count": 61,
   "metadata": {},
   "outputs": [],
   "source": [
    "toplot_result = jsontotable(result_tunning, typex = 'Validation')"
   ]
  },
  {
   "cell_type": "code",
   "execution_count": 62,
   "metadata": {},
   "outputs": [
    {
     "data": {
      "image/png": "[encoded data removed]",
      "text/plain": [
       "<Figure size 1080x720 with 2 Axes>"
      ]
     },
     "metadata": {},
     "output_type": "display_data"
    }
   ],
   "source": [
    "plot_results(toplot_result)"
   ]
  },
  {
   "cell_type": "code",
   "execution_count": 63,
   "metadata": {},
   "outputs": [
    {
     "data": {
      "text/html": [
       "<div>\n",
       "<style scoped>\n",
       "    .dataframe tbody tr th:only-of-type {\n",
       "        vertical-align: middle;\n",
       "    }\n",
       "\n",
       "    .dataframe tbody tr th {\n",
       "        vertical-align: top;\n",
       "    }\n",
       "\n",
       "    .dataframe thead th {\n",
       "        text-align: right;\n",
       "    }\n",
       "</style>\n",
       "<table border=\"1\" class=\"dataframe\">\n",
       "  <thead>\n",
       "    <tr style=\"text-align: right;\">\n",
       "      <th></th>\n",
       "      <th>Machine</th>\n",
       "      <th>n_estimators</th>\n",
       "      <th>max_depth</th>\n",
       "      <th>min_samples_split</th>\n",
       "      <th>min_samples_leaf</th>\n",
       "      <th>rate_aug</th>\n",
       "      <th>sample_aug</th>\n",
       "    </tr>\n",
       "  </thead>\n",
       "  <tbody>\n",
       "    <tr>\n",
       "      <th>2</th>\n",
       "      <td>machine-3</td>\n",
       "      <td>250</td>\n",
       "      <td>35</td>\n",
       "      <td>30</td>\n",
       "      <td>10</td>\n",
       "      <td>1.0</td>\n",
       "      <td>0.9</td>\n",
       "    </tr>\n",
       "  </tbody>\n",
       "</table>\n",
       "</div>"
      ],
      "text/plain": [
       "     Machine  n_estimators  max_depth  min_samples_split  min_samples_leaf  \\\n",
       "2  machine-3           250         35                 30                10   \n",
       "\n",
       "   rate_aug  sample_aug  \n",
       "2       1.0         0.9  "
      ]
     },
     "execution_count": 63,
     "metadata": {},
     "output_type": "execute_result"
    }
   ],
   "source": [
    "parameters_df[parameters_df.Machine == 'machine-3']"
   ]
  },
  {
   "cell_type": "markdown",
   "metadata": {},
   "source": [
    "### Section 2"
   ]
  },
  {
   "cell_type": "code",
   "execution_count": 41,
   "metadata": {},
   "outputs": [
    {
     "data": {
      "text/plain": [
       "target\n",
       "0    59759\n",
       "1     7223\n",
       "Name: mahalanobis, dtype: int64"
      ]
     },
     "execution_count": 41,
     "metadata": {},
     "output_type": "execute_result"
    }
   ],
   "source": [
    "train_section_2.pivot_table(index = 'target', aggfunc = 'count')['mahalanobis']"
   ]
  },
  {
   "cell_type": "code",
   "execution_count": 42,
   "metadata": {},
   "outputs": [],
   "source": [
    "dict_1 = {'n':6000, 'range': [9,15], 'label': 2, 'rate': 0.65}  #random augmentation\n",
    "dict_2 = {'n':4000, 'label': 1} # augmetation on existing ones\n",
    "dict_3 = {'n':5000, 'range': [9,15], 'label': 4, 'category': 2} # augmetation on the previous ones\n",
    "\n",
    "unscld_train_section_2 =unscaler(train_section_2, scalerx)\n",
    "train_section_2_aug = augmentation_strategy(data = unscld_train_section_2, dict_1 = dict_1,dict_2 = dict_2, dict_3 = dict_3,\n",
    "                      gen_mean = means_train, gen_cov = cov_train, columns_features = numerical_features ).reset_index(drop = True)\n",
    "del unscld_train_section_2\n",
    "train_section_2_aug =  scaler(train_section_2_aug,scalerx)"
   ]
  },
  {
   "cell_type": "code",
   "execution_count": 43,
   "metadata": {},
   "outputs": [
    {
     "data": {
      "text/plain": [
       "target\n",
       "0    59759\n",
       "1     7223\n",
       "2     6000\n",
       "3     4000\n",
       "4     5000\n",
       "Name: mahalanobis, dtype: int64"
      ]
     },
     "execution_count": 43,
     "metadata": {},
     "output_type": "execute_result"
    }
   ],
   "source": [
    "train_section_2_aug.pivot_table(index = 'target', aggfunc = 'count')['mahalanobis']"
   ]
  },
  {
   "cell_type": "code",
   "execution_count": 44,
   "metadata": {},
   "outputs": [
    {
     "data": {
      "text/plain": [
       "count    81982.000000\n",
       "mean         0.425127\n",
       "std          0.428346\n",
       "min         -0.253840\n",
       "25%          0.054794\n",
       "50%          0.384346\n",
       "75%          0.773281\n",
       "max          1.269231\n",
       "Name: mahalanobis, dtype: float64"
      ]
     },
     "execution_count": 44,
     "metadata": {},
     "output_type": "execute_result"
    }
   ],
   "source": [
    "train_section_2_aug['mahalanobis'].describe()"
   ]
  },
  {
   "cell_type": "markdown",
   "metadata": {},
   "source": [
    "<b> Data splitting strategy"
   ]
  },
  {
   "cell_type": "code",
   "execution_count": 45,
   "metadata": {},
   "outputs": [],
   "source": [
    "kfolds_touse = k_folds_indexs(train_section_2_aug, folds = 5, balanced = True, validation_additional_false = 3000, validation_reduce_false = 40000)"
   ]
  },
  {
   "cell_type": "code",
   "execution_count": 46,
   "metadata": {},
   "outputs": [
    {
     "data": {
      "text/plain": [
       "target\n",
       "0    15337\n",
       "1     5801\n",
       "2     6000\n",
       "3     4000\n",
       "4     5000\n",
       "Name: mahalanobis, dtype: int64"
      ]
     },
     "execution_count": 46,
     "metadata": {},
     "output_type": "execute_result"
    }
   ],
   "source": [
    "train_section_2_aug[train_section_2_aug.index.isin(kfolds_touse['fold 3']['train index'])].pivot_table(index = 'target', aggfunc = 'count')['mahalanobis']"
   ]
  },
  {
   "cell_type": "code",
   "execution_count": 47,
   "metadata": {},
   "outputs": [
    {
     "data": {
      "text/plain": [
       "36138"
      ]
     },
     "execution_count": 47,
     "metadata": {},
     "output_type": "execute_result"
    }
   ],
   "source": [
    "len(train_section_2_aug[train_section_2_aug.index.isin(kfolds_touse['fold 3']['train index'])])"
   ]
  },
  {
   "cell_type": "code",
   "execution_count": 48,
   "metadata": {},
   "outputs": [],
   "source": [
    "features_to_use = numerical_features[0:4] + ['mahalanobis']"
   ]
  },
  {
   "cell_type": "markdown",
   "metadata": {},
   "source": [
    "#### Section 2: SVM"
   ]
  },
  {
   "cell_type": "code",
   "execution_count": 77,
   "metadata": {},
   "outputs": [],
   "source": [
    "my_svm_models = list()\n",
    "number_of_machines = 6\n",
    "machines_labels = [f'machine-{x}' for x in range(1,number_of_machines +1) ]\n",
    "\n",
    "parameters = { 'Machine':machines_labels,\n",
    " 'gamma' : [0.25, 0.35, 0.45, 0.15, 0.45, 0.89],\n",
    " 'C' : [0.8, 0.45, 1, 0.02, 0.85, 0.001],\n",
    " 'rate_aug': [0.5, 0.25, 1.0, 0.0, 0.65, 0.48],\n",
    " 'sample_aug': [0.7, 0.7, 0.7, 0.7, 0.7, 0.7] }\n",
    "\n",
    "for i in range(number_of_machines):\n",
    "    gamma_param = parameters['gamma'][i]\n",
    "    c_param = parameters['C'][i]\n",
    "    my_svm = svm.SVC(C = c_param, kernel = 'rbf', gamma = gamma_param, probability = True)\n",
    "    my_svm_models.append(my_svm)\n",
    "\n",
    "parameters_df = pd.DataFrame(parameters)    "
   ]
  },
  {
   "cell_type": "code",
   "execution_count": 78,
   "metadata": {},
   "outputs": [
    {
     "name": "stdout",
     "output_type": "stream",
     "text": [
      "done machine 1\n",
      "done machine 2\n",
      "done machine 3\n",
      "done machine 4\n",
      "done machine 5\n",
      "done machine 6\n"
     ]
    }
   ],
   "source": [
    "result_tunning = model_fitting_kfold(models = my_svm_models , indexes_kfolds = kfolds_touse, features = features_to_use, train_data = train_section_2_aug,\n",
    "                           rate_aug = parameters['rate_aug'], sample_aug = parameters['sample_aug'])"
   ]
  },
  {
   "cell_type": "code",
   "execution_count": 79,
   "metadata": {},
   "outputs": [],
   "source": [
    "toplot_result = jsontotable(result_tunning, typex = 'Validation')"
   ]
  },
  {
   "cell_type": "code",
   "execution_count": 80,
   "metadata": {},
   "outputs": [
    {
     "data": {
      "image/png": "[encoded data removed]",
      "text/plain": [
       "<Figure size 1080x720 with 2 Axes>"
      ]
     },
     "metadata": {},
     "output_type": "display_data"
    }
   ],
   "source": [
    "plot_results(toplot_result)"
   ]
  },
  {
   "cell_type": "code",
   "execution_count": 81,
   "metadata": {},
   "outputs": [
    {
     "data": {
      "text/html": [
       "<div>\n",
       "<style scoped>\n",
       "    .dataframe tbody tr th:only-of-type {\n",
       "        vertical-align: middle;\n",
       "    }\n",
       "\n",
       "    .dataframe tbody tr th {\n",
       "        vertical-align: top;\n",
       "    }\n",
       "\n",
       "    .dataframe thead th {\n",
       "        text-align: right;\n",
       "    }\n",
       "</style>\n",
       "<table border=\"1\" class=\"dataframe\">\n",
       "  <thead>\n",
       "    <tr style=\"text-align: right;\">\n",
       "      <th></th>\n",
       "      <th>Machine</th>\n",
       "      <th>gamma</th>\n",
       "      <th>C</th>\n",
       "      <th>rate_aug</th>\n",
       "      <th>sample_aug</th>\n",
       "    </tr>\n",
       "  </thead>\n",
       "  <tbody>\n",
       "    <tr>\n",
       "      <th>2</th>\n",
       "      <td>machine-3</td>\n",
       "      <td>0.45</td>\n",
       "      <td>1.0</td>\n",
       "      <td>1.0</td>\n",
       "      <td>0.7</td>\n",
       "    </tr>\n",
       "  </tbody>\n",
       "</table>\n",
       "</div>"
      ],
      "text/plain": [
       "     Machine  gamma    C  rate_aug  sample_aug\n",
       "2  machine-3   0.45  1.0       1.0         0.7"
      ]
     },
     "execution_count": 81,
     "metadata": {},
     "output_type": "execute_result"
    }
   ],
   "source": [
    "parameters_df[parameters_df.Machine == 'machine-3']"
   ]
  },
  {
   "cell_type": "markdown",
   "metadata": {},
   "source": [
    "#### Section 2: KNN"
   ]
  },
  {
   "cell_type": "code",
   "execution_count": 51,
   "metadata": {},
   "outputs": [],
   "source": [
    "my_knn_models = list()\n",
    "number_of_machines = 6\n",
    "machines_labels = [f'machine-{x}' for x in range(1,number_of_machines +1) ]\n",
    "\n",
    "parameters = { 'Machine':machines_labels,\n",
    " 'neighbors' : [2,4,8,10,15,20],\n",
    " 'rate_aug': [0.5, 0.25, 1.0, 0.0, 0.65, 0.48],\n",
    " 'sample_aug': [0.7, 0.7, 0.7, 0.7, 0.7, 0.7] }\n",
    "\n",
    "for i in range(number_of_machines):\n",
    "    neighbors_param = parameters['neighbors'][i]\n",
    "    my_knn = KNeighborsClassifier(n_neighbors = neighbors_param)\n",
    "    my_knn_models.append(my_knn)\n",
    "\n",
    "parameters_df = pd.DataFrame(parameters)    "
   ]
  },
  {
   "cell_type": "code",
   "execution_count": 52,
   "metadata": {},
   "outputs": [
    {
     "name": "stdout",
     "output_type": "stream",
     "text": [
      "done machine 1\n",
      "done machine 2\n",
      "done machine 3\n",
      "done machine 4\n",
      "done machine 5\n",
      "done machine 6\n"
     ]
    }
   ],
   "source": [
    "result_tunning, modelsTrained_section_2 = model_fitting_kfold(models = my_knn_models , indexes_kfolds = kfolds_touse, features = features_to_use, train_data = train_section_2_aug,\n",
    "                           rate_aug = parameters['rate_aug'], sample_aug = parameters['sample_aug'], save_model = True, save_nro_machine = 3)"
   ]
  },
  {
   "cell_type": "code",
   "execution_count": 53,
   "metadata": {},
   "outputs": [],
   "source": [
    "toplot_result = jsontotable(result_tunning, typex = 'Validation')"
   ]
  },
  {
   "cell_type": "code",
   "execution_count": 54,
   "metadata": {},
   "outputs": [
    {
     "data": {
      "image/png": "[encoded data removed]",
      "text/plain": [
       "<Figure size 1080x720 with 2 Axes>"
      ]
     },
     "metadata": {},
     "output_type": "display_data"
    }
   ],
   "source": [
    "plot_results(toplot_result)"
   ]
  },
  {
   "cell_type": "code",
   "execution_count": 55,
   "metadata": {},
   "outputs": [
    {
     "data": {
      "text/html": [
       "<div>\n",
       "<style scoped>\n",
       "    .dataframe tbody tr th:only-of-type {\n",
       "        vertical-align: middle;\n",
       "    }\n",
       "\n",
       "    .dataframe tbody tr th {\n",
       "        vertical-align: top;\n",
       "    }\n",
       "\n",
       "    .dataframe thead th {\n",
       "        text-align: right;\n",
       "    }\n",
       "</style>\n",
       "<table border=\"1\" class=\"dataframe\">\n",
       "  <thead>\n",
       "    <tr style=\"text-align: right;\">\n",
       "      <th></th>\n",
       "      <th>Machine</th>\n",
       "      <th>neighbors</th>\n",
       "      <th>rate_aug</th>\n",
       "      <th>sample_aug</th>\n",
       "    </tr>\n",
       "  </thead>\n",
       "  <tbody>\n",
       "    <tr>\n",
       "      <th>2</th>\n",
       "      <td>machine-3</td>\n",
       "      <td>8</td>\n",
       "      <td>1.0</td>\n",
       "      <td>0.7</td>\n",
       "    </tr>\n",
       "  </tbody>\n",
       "</table>\n",
       "</div>"
      ],
      "text/plain": [
       "     Machine  neighbors  rate_aug  sample_aug\n",
       "2  machine-3          8       1.0         0.7"
      ]
     },
     "execution_count": 55,
     "metadata": {},
     "output_type": "execute_result"
    }
   ],
   "source": [
    "parameters_df[parameters_df.Machine == 'machine-3']"
   ]
  },
  {
   "cell_type": "code",
   "execution_count": 56,
   "metadata": {},
   "outputs": [],
   "source": [
    "weight_data = train_section_2_aug[train_section_2_aug.target.isin([0,1])]"
   ]
  },
  {
   "cell_type": "code",
   "execution_count": 57,
   "metadata": {},
   "outputs": [],
   "source": [
    "weighted_section_2_model = weighting_models(models = modelsTrained_section_2 , features = features_to_use, data = weight_data)\n",
    "result = weighting_models(models = modelsTrained_section_2 , features = features_to_use, data = weight_data, trained_model = weighted_section_2_model)"
   ]
  },
  {
   "cell_type": "code",
   "execution_count": 58,
   "metadata": {},
   "outputs": [
    {
     "data": {
      "text/plain": [
       "0.6083402812455494"
      ]
     },
     "execution_count": 58,
     "metadata": {},
     "output_type": "execute_result"
    }
   ],
   "source": [
    "roc_auc_score(weight_data.target.values,result)"
   ]
  },
  {
   "cell_type": "markdown",
   "metadata": {},
   "source": [
    "#### Section 2: Random Forest"
   ]
  },
  {
   "cell_type": "code",
   "execution_count": 87,
   "metadata": {},
   "outputs": [],
   "source": [
    "my_rf_models = list()\n",
    "number_of_machines = 6\n",
    "machines_labels = [f'machine-{x}' for x in range(1,number_of_machines +1) ]\n",
    "\n",
    "parameters = { 'Machine':machines_labels,\n",
    "    'n_estimators' : [100, 500, 250, 1500, 750, 450],\n",
    "    'max_depth' : [15, 20, 35, 20, 10, 45],        \n",
    "    'min_samples_split' : [10, 20, 30, 15, 25, 35 ], \n",
    "    'min_samples_leaf': [4, 6, 10, 2, 20, 35],\n",
    " 'rate_aug': [0.5, 0.25, 1.0, 0.0, 0.65, 0.48],\n",
    " 'sample_aug': [0.7, 0.7, 0.7, 0.7, 0.7, 0.7] }\n",
    "\n",
    "for i in range(number_of_machines):\n",
    "    n_estimators_param = parameters['n_estimators'][i]\n",
    "    max_depth_param = parameters['max_depth'][i]\n",
    "    min_samples_split_param = parameters['min_samples_split'][i]\n",
    "    min_samples_leaf_param = parameters['min_samples_leaf'][i]\n",
    "    \n",
    "    my_rf = RandomForestClassifier(n_estimators = n_estimators_param , max_depth = max_depth_param, \n",
    "                                   min_samples_split = min_samples_split_param, min_samples_leaf = min_samples_leaf_param)\n",
    "    my_rf_models.append(my_rf)\n",
    "\n",
    "parameters_df = pd.DataFrame(parameters)  "
   ]
  },
  {
   "cell_type": "code",
   "execution_count": 88,
   "metadata": {},
   "outputs": [
    {
     "name": "stdout",
     "output_type": "stream",
     "text": [
      "done machine 1\n",
      "done machine 2\n",
      "done machine 3\n",
      "done machine 4\n",
      "done machine 5\n",
      "done machine 6\n"
     ]
    }
   ],
   "source": [
    "result_tunning = model_fitting_kfold(models = my_rf_models , indexes_kfolds = kfolds_touse, features = features_to_use, train_data = train_section_2_aug,\n",
    "                           rate_aug = parameters['rate_aug'], sample_aug = parameters['sample_aug'])"
   ]
  },
  {
   "cell_type": "code",
   "execution_count": 89,
   "metadata": {},
   "outputs": [],
   "source": [
    "toplot_result = jsontotable(result_tunning, typex = 'Validation')"
   ]
  },
  {
   "cell_type": "code",
   "execution_count": 90,
   "metadata": {},
   "outputs": [
    {
     "data": {
      "image/png": "[encoded data removed]",
      "text/plain": [
       "<Figure size 1080x720 with 2 Axes>"
      ]
     },
     "metadata": {},
     "output_type": "display_data"
    }
   ],
   "source": [
    "plot_results(toplot_result)"
   ]
  },
  {
   "cell_type": "code",
   "execution_count": 91,
   "metadata": {},
   "outputs": [
    {
     "data": {
      "text/html": [
       "<div>\n",
       "<style scoped>\n",
       "    .dataframe tbody tr th:only-of-type {\n",
       "        vertical-align: middle;\n",
       "    }\n",
       "\n",
       "    .dataframe tbody tr th {\n",
       "        vertical-align: top;\n",
       "    }\n",
       "\n",
       "    .dataframe thead th {\n",
       "        text-align: right;\n",
       "    }\n",
       "</style>\n",
       "<table border=\"1\" class=\"dataframe\">\n",
       "  <thead>\n",
       "    <tr style=\"text-align: right;\">\n",
       "      <th></th>\n",
       "      <th>Machine</th>\n",
       "      <th>n_estimators</th>\n",
       "      <th>max_depth</th>\n",
       "      <th>min_samples_split</th>\n",
       "      <th>min_samples_leaf</th>\n",
       "      <th>rate_aug</th>\n",
       "      <th>sample_aug</th>\n",
       "    </tr>\n",
       "  </thead>\n",
       "  <tbody>\n",
       "    <tr>\n",
       "      <th>2</th>\n",
       "      <td>machine-3</td>\n",
       "      <td>250</td>\n",
       "      <td>35</td>\n",
       "      <td>30</td>\n",
       "      <td>10</td>\n",
       "      <td>1.0</td>\n",
       "      <td>0.7</td>\n",
       "    </tr>\n",
       "  </tbody>\n",
       "</table>\n",
       "</div>"
      ],
      "text/plain": [
       "     Machine  n_estimators  max_depth  min_samples_split  min_samples_leaf  \\\n",
       "2  machine-3           250         35                 30                10   \n",
       "\n",
       "   rate_aug  sample_aug  \n",
       "2       1.0         0.7  "
      ]
     },
     "execution_count": 91,
     "metadata": {},
     "output_type": "execute_result"
    }
   ],
   "source": [
    "parameters_df[parameters_df.Machine == 'machine-3']"
   ]
  },
  {
   "cell_type": "markdown",
   "metadata": {},
   "source": [
    "### Section 3"
   ]
  },
  {
   "cell_type": "code",
   "execution_count": 59,
   "metadata": {},
   "outputs": [
    {
     "data": {
      "text/plain": [
       "target\n",
       "0    61175\n",
       "1     5267\n",
       "Name: mahalanobis, dtype: int64"
      ]
     },
     "execution_count": 59,
     "metadata": {},
     "output_type": "execute_result"
    }
   ],
   "source": [
    "train_section_3.pivot_table(index = 'target', aggfunc = 'count')['mahalanobis']"
   ]
  },
  {
   "cell_type": "code",
   "execution_count": 60,
   "metadata": {},
   "outputs": [],
   "source": [
    "dict_1 = {'n':6600, 'range': [-50,9], 'label': 2, 'rate': 0.65}  #random augmentation\n",
    "dict_2 = {'n':4800, 'label': 1} # augmetation on existing ones\n",
    "dict_3 = {'n':4800, 'range': [-50,9], 'label': 4, 'category': 2} # augmetation on the previous ones\n",
    "\n",
    "unscld_train_section_3 =unscaler(train_section_3, scalerx)\n",
    "train_section_3_aug = augmentation_strategy(data = unscld_train_section_3, dict_1 = dict_1,dict_2 = dict_2, dict_3 = dict_3,\n",
    "                      gen_mean = means_train, gen_cov = cov_train, columns_features = numerical_features ).reset_index(drop = True)\n",
    "del unscld_train_section_3\n",
    "train_section_3_aug =  scaler(train_section_3_aug,scalerx)"
   ]
  },
  {
   "cell_type": "code",
   "execution_count": 61,
   "metadata": {},
   "outputs": [
    {
     "data": {
      "text/plain": [
       "target\n",
       "0    61175\n",
       "1     5267\n",
       "2     6600\n",
       "3     4800\n",
       "4     4800\n",
       "Name: mahalanobis, dtype: int64"
      ]
     },
     "execution_count": 61,
     "metadata": {},
     "output_type": "execute_result"
    }
   ],
   "source": [
    "train_section_3_aug.pivot_table(index = 'target', aggfunc = 'count')['mahalanobis']"
   ]
  },
  {
   "cell_type": "code",
   "execution_count": 62,
   "metadata": {},
   "outputs": [
    {
     "data": {
      "text/plain": [
       "count    82642.000000\n",
       "mean        -0.854619\n",
       "std          0.413112\n",
       "min         -2.453032\n",
       "25%         -1.137052\n",
       "50%         -0.790699\n",
       "75%         -0.513052\n",
       "max         -0.253848\n",
       "Name: mahalanobis, dtype: float64"
      ]
     },
     "execution_count": 62,
     "metadata": {},
     "output_type": "execute_result"
    }
   ],
   "source": [
    "train_section_3_aug['mahalanobis'].describe()"
   ]
  },
  {
   "cell_type": "markdown",
   "metadata": {},
   "source": [
    "<b> Data splitting strategy"
   ]
  },
  {
   "cell_type": "code",
   "execution_count": 63,
   "metadata": {},
   "outputs": [],
   "source": [
    "kfolds_touse = k_folds_indexs(train_section_3_aug, folds = 5, balanced = True, validation_additional_false = 3000, validation_reduce_false = 40000)"
   ]
  },
  {
   "cell_type": "code",
   "execution_count": 64,
   "metadata": {},
   "outputs": [
    {
     "data": {
      "text/plain": [
       "target\n",
       "0    17075\n",
       "1     4167\n",
       "2     6600\n",
       "3     4800\n",
       "4     4800\n",
       "Name: mahalanobis, dtype: int64"
      ]
     },
     "execution_count": 64,
     "metadata": {},
     "output_type": "execute_result"
    }
   ],
   "source": [
    "train_section_3_aug[train_section_3_aug.index.isin(kfolds_touse['fold 3']['train index'])].pivot_table(index = 'target', aggfunc = 'count')['mahalanobis']"
   ]
  },
  {
   "cell_type": "code",
   "execution_count": 65,
   "metadata": {},
   "outputs": [
    {
     "data": {
      "text/plain": [
       "37442"
      ]
     },
     "execution_count": 65,
     "metadata": {},
     "output_type": "execute_result"
    }
   ],
   "source": [
    "len(train_section_3_aug[train_section_3_aug.index.isin(kfolds_touse['fold 3']['train index'])])"
   ]
  },
  {
   "cell_type": "code",
   "execution_count": 66,
   "metadata": {},
   "outputs": [],
   "source": [
    "features_to_use = numerical_features[0:4] + ['mahalanobis']"
   ]
  },
  {
   "cell_type": "markdown",
   "metadata": {},
   "source": [
    "#### Section 3: SVM"
   ]
  },
  {
   "cell_type": "code",
   "execution_count": 104,
   "metadata": {},
   "outputs": [],
   "source": [
    "my_svm_models = list()\n",
    "number_of_machines = 6\n",
    "machines_labels = [f'machine-{x}' for x in range(1,number_of_machines +1) ]\n",
    "\n",
    "parameters = { 'Machine':machines_labels,\n",
    " 'gamma' : [0.25, 0.35, 0.45, 0.15, 0.45, 0.89],\n",
    " 'C' : [0.8, 0.45, 1, 0.02, 0.85, 0.001],\n",
    " 'rate_aug': [0.5, 0.25, 1.0, 0.0, 0.65, 0.48],\n",
    " 'sample_aug': [0.7, 0.7, 0.7, 0.7, 0.7, 0.7] }\n",
    "\n",
    "for i in range(number_of_machines):\n",
    "    gamma_param = parameters['gamma'][i]\n",
    "    c_param = parameters['C'][i]\n",
    "    my_svm = svm.SVC(C = c_param, kernel = 'rbf', gamma = gamma_param, probability = True)\n",
    "    my_svm_models.append(my_svm)\n",
    "\n",
    "parameters_df = pd.DataFrame(parameters)    "
   ]
  },
  {
   "cell_type": "code",
   "execution_count": 105,
   "metadata": {},
   "outputs": [
    {
     "name": "stdout",
     "output_type": "stream",
     "text": [
      "done machine 1\n",
      "done machine 2\n",
      "done machine 3\n",
      "done machine 4\n",
      "done machine 5\n",
      "done machine 6\n"
     ]
    }
   ],
   "source": [
    "result_tunning = model_fitting_kfold(models = my_svm_models , indexes_kfolds = kfolds_touse, features = features_to_use, train_data = train_section_3_aug,\n",
    "                           rate_aug = parameters['rate_aug'], sample_aug = parameters['sample_aug'])"
   ]
  },
  {
   "cell_type": "code",
   "execution_count": 106,
   "metadata": {},
   "outputs": [],
   "source": [
    "toplot_result = jsontotable(result_tunning, typex = 'Validation')"
   ]
  },
  {
   "cell_type": "code",
   "execution_count": 107,
   "metadata": {},
   "outputs": [
    {
     "data": {
      "image/png": "[encoded data removed]",
      "text/plain": [
       "<Figure size 1080x720 with 2 Axes>"
      ]
     },
     "metadata": {},
     "output_type": "display_data"
    }
   ],
   "source": [
    "plot_results(toplot_result)"
   ]
  },
  {
   "cell_type": "code",
   "execution_count": 108,
   "metadata": {},
   "outputs": [
    {
     "data": {
      "text/html": [
       "<div>\n",
       "<style scoped>\n",
       "    .dataframe tbody tr th:only-of-type {\n",
       "        vertical-align: middle;\n",
       "    }\n",
       "\n",
       "    .dataframe tbody tr th {\n",
       "        vertical-align: top;\n",
       "    }\n",
       "\n",
       "    .dataframe thead th {\n",
       "        text-align: right;\n",
       "    }\n",
       "</style>\n",
       "<table border=\"1\" class=\"dataframe\">\n",
       "  <thead>\n",
       "    <tr style=\"text-align: right;\">\n",
       "      <th></th>\n",
       "      <th>Machine</th>\n",
       "      <th>gamma</th>\n",
       "      <th>C</th>\n",
       "      <th>rate_aug</th>\n",
       "      <th>sample_aug</th>\n",
       "    </tr>\n",
       "  </thead>\n",
       "  <tbody>\n",
       "    <tr>\n",
       "      <th>2</th>\n",
       "      <td>machine-3</td>\n",
       "      <td>0.45</td>\n",
       "      <td>1.0</td>\n",
       "      <td>1.0</td>\n",
       "      <td>0.7</td>\n",
       "    </tr>\n",
       "  </tbody>\n",
       "</table>\n",
       "</div>"
      ],
      "text/plain": [
       "     Machine  gamma    C  rate_aug  sample_aug\n",
       "2  machine-3   0.45  1.0       1.0         0.7"
      ]
     },
     "execution_count": 108,
     "metadata": {},
     "output_type": "execute_result"
    }
   ],
   "source": [
    "parameters_df[parameters_df.Machine == 'machine-3']"
   ]
  },
  {
   "cell_type": "markdown",
   "metadata": {},
   "source": [
    "#### Section 3: KNN"
   ]
  },
  {
   "cell_type": "code",
   "execution_count": 67,
   "metadata": {},
   "outputs": [],
   "source": [
    "my_knn_models = list()\n",
    "number_of_machines = 6\n",
    "machines_labels = [f'machine-{x}' for x in range(1,number_of_machines +1) ]\n",
    "\n",
    "parameters = { 'Machine':machines_labels,\n",
    " 'neighbors' : [2,4,8,10,15,20],\n",
    " 'rate_aug': [0.5, 0.25, 1.0, 0.0, 0.65, 0.48],\n",
    " 'sample_aug': [0.7, 0.7, 0.7, 0.7, 0.7, 0.7] }\n",
    "\n",
    "for i in range(number_of_machines):\n",
    "    neighbors_param = parameters['neighbors'][i]\n",
    "    my_knn = KNeighborsClassifier(n_neighbors = neighbors_param)\n",
    "    my_knn_models.append(my_knn)\n",
    "\n",
    "parameters_df = pd.DataFrame(parameters)    "
   ]
  },
  {
   "cell_type": "code",
   "execution_count": 68,
   "metadata": {},
   "outputs": [
    {
     "name": "stdout",
     "output_type": "stream",
     "text": [
      "done machine 1\n",
      "done machine 2\n",
      "done machine 3\n",
      "done machine 4\n",
      "done machine 5\n",
      "done machine 6\n"
     ]
    }
   ],
   "source": [
    "result_tunning, modelsTrained_section_3 = model_fitting_kfold(models = my_knn_models , indexes_kfolds = kfolds_touse, features = features_to_use, train_data = train_section_3_aug,\n",
    "                           rate_aug = parameters['rate_aug'], sample_aug = parameters['sample_aug'], save_model = True, save_nro_machine = 1)"
   ]
  },
  {
   "cell_type": "code",
   "execution_count": 69,
   "metadata": {},
   "outputs": [],
   "source": [
    "toplot_result = jsontotable(result_tunning, typex = 'Validation')"
   ]
  },
  {
   "cell_type": "code",
   "execution_count": 70,
   "metadata": {},
   "outputs": [
    {
     "data": {
      "image/png": "[encoded data removed]",
      "text/plain": [
       "<Figure size 1080x720 with 2 Axes>"
      ]
     },
     "metadata": {},
     "output_type": "display_data"
    }
   ],
   "source": [
    "plot_results(toplot_result)"
   ]
  },
  {
   "cell_type": "code",
   "execution_count": 71,
   "metadata": {},
   "outputs": [
    {
     "data": {
      "text/html": [
       "<div>\n",
       "<style scoped>\n",
       "    .dataframe tbody tr th:only-of-type {\n",
       "        vertical-align: middle;\n",
       "    }\n",
       "\n",
       "    .dataframe tbody tr th {\n",
       "        vertical-align: top;\n",
       "    }\n",
       "\n",
       "    .dataframe thead th {\n",
       "        text-align: right;\n",
       "    }\n",
       "</style>\n",
       "<table border=\"1\" class=\"dataframe\">\n",
       "  <thead>\n",
       "    <tr style=\"text-align: right;\">\n",
       "      <th></th>\n",
       "      <th>Machine</th>\n",
       "      <th>neighbors</th>\n",
       "      <th>rate_aug</th>\n",
       "      <th>sample_aug</th>\n",
       "    </tr>\n",
       "  </thead>\n",
       "  <tbody>\n",
       "    <tr>\n",
       "      <th>2</th>\n",
       "      <td>machine-3</td>\n",
       "      <td>8</td>\n",
       "      <td>1.0</td>\n",
       "      <td>0.7</td>\n",
       "    </tr>\n",
       "  </tbody>\n",
       "</table>\n",
       "</div>"
      ],
      "text/plain": [
       "     Machine  neighbors  rate_aug  sample_aug\n",
       "2  machine-3          8       1.0         0.7"
      ]
     },
     "execution_count": 71,
     "metadata": {},
     "output_type": "execute_result"
    }
   ],
   "source": [
    "parameters_df[parameters_df.Machine == 'machine-3']"
   ]
  },
  {
   "cell_type": "code",
   "execution_count": 72,
   "metadata": {},
   "outputs": [],
   "source": [
    "weight_data = train_section_3_aug[train_section_3_aug.target.isin([0,1])]"
   ]
  },
  {
   "cell_type": "code",
   "execution_count": 73,
   "metadata": {},
   "outputs": [],
   "source": [
    "weighted_section_3_model = weighting_models(models = modelsTrained_section_3 , features = features_to_use, data = weight_data)\n",
    "result = weighting_models(models = modelsTrained_section_3 , features = features_to_use, data = weight_data, trained_model = weighted_section_3_model)"
   ]
  },
  {
   "cell_type": "code",
   "execution_count": 74,
   "metadata": {},
   "outputs": [
    {
     "data": {
      "text/plain": [
       "0.7160511513150366"
      ]
     },
     "execution_count": 74,
     "metadata": {},
     "output_type": "execute_result"
    }
   ],
   "source": [
    "roc_auc_score(weight_data.target.values,result)"
   ]
  },
  {
   "cell_type": "markdown",
   "metadata": {},
   "source": [
    "#### Section 3: Random Forest"
   ]
  },
  {
   "cell_type": "code",
   "execution_count": 114,
   "metadata": {},
   "outputs": [],
   "source": [
    "my_rf_models = list()\n",
    "number_of_machines = 6\n",
    "machines_labels = [f'machine-{x}' for x in range(1,number_of_machines +1) ]\n",
    "\n",
    "parameters = { 'Machine':machines_labels,\n",
    "    'n_estimators' : [100, 500, 250, 1500, 750, 450],\n",
    "    'max_depth' : [15, 20, 35, 20, 10, 45],        \n",
    "    'min_samples_split' : [10, 20, 30, 15, 25, 35 ], \n",
    "    'min_samples_leaf': [4, 6, 10, 2, 20, 35],\n",
    " 'rate_aug': [0.5, 0.25, 1.0, 0.0, 0.65, 0.48],\n",
    " 'sample_aug': [0.7, 0.7, 0.7, 0.7, 0.7, 0.7] }\n",
    "\n",
    "for i in range(number_of_machines):\n",
    "    n_estimators_param = parameters['n_estimators'][i]\n",
    "    max_depth_param = parameters['max_depth'][i]\n",
    "    min_samples_split_param = parameters['min_samples_split'][i]\n",
    "    min_samples_leaf_param = parameters['min_samples_leaf'][i]\n",
    "    \n",
    "    my_rf = RandomForestClassifier(n_estimators = n_estimators_param , max_depth = max_depth_param, \n",
    "                                   min_samples_split = min_samples_split_param, min_samples_leaf = min_samples_leaf_param)\n",
    "    my_rf_models.append(my_rf)\n",
    "\n",
    "parameters_df = pd.DataFrame(parameters)  "
   ]
  },
  {
   "cell_type": "code",
   "execution_count": 115,
   "metadata": {},
   "outputs": [
    {
     "name": "stdout",
     "output_type": "stream",
     "text": [
      "done machine 1\n",
      "done machine 2\n",
      "done machine 3\n",
      "done machine 4\n",
      "done machine 5\n",
      "done machine 6\n"
     ]
    }
   ],
   "source": [
    "result_tunning = model_fitting_kfold(models = my_rf_models , indexes_kfolds = kfolds_touse, features = features_to_use, train_data = train_section_3_aug,\n",
    "                           rate_aug = parameters['rate_aug'], sample_aug = parameters['sample_aug'])"
   ]
  },
  {
   "cell_type": "code",
   "execution_count": 116,
   "metadata": {},
   "outputs": [],
   "source": [
    "toplot_result = jsontotable(result_tunning, typex = 'Validation')"
   ]
  },
  {
   "cell_type": "code",
   "execution_count": 117,
   "metadata": {},
   "outputs": [
    {
     "data": {
      "image/png": "[encoded data removed]",
      "text/plain": [
       "<Figure size 1080x720 with 2 Axes>"
      ]
     },
     "metadata": {},
     "output_type": "display_data"
    }
   ],
   "source": [
    "plot_results(toplot_result)"
   ]
  },
  {
   "cell_type": "code",
   "execution_count": 118,
   "metadata": {},
   "outputs": [
    {
     "data": {
      "text/html": [
       "<div>\n",
       "<style scoped>\n",
       "    .dataframe tbody tr th:only-of-type {\n",
       "        vertical-align: middle;\n",
       "    }\n",
       "\n",
       "    .dataframe tbody tr th {\n",
       "        vertical-align: top;\n",
       "    }\n",
       "\n",
       "    .dataframe thead th {\n",
       "        text-align: right;\n",
       "    }\n",
       "</style>\n",
       "<table border=\"1\" class=\"dataframe\">\n",
       "  <thead>\n",
       "    <tr style=\"text-align: right;\">\n",
       "      <th></th>\n",
       "      <th>Machine</th>\n",
       "      <th>n_estimators</th>\n",
       "      <th>max_depth</th>\n",
       "      <th>min_samples_split</th>\n",
       "      <th>min_samples_leaf</th>\n",
       "      <th>rate_aug</th>\n",
       "      <th>sample_aug</th>\n",
       "    </tr>\n",
       "  </thead>\n",
       "  <tbody>\n",
       "    <tr>\n",
       "      <th>2</th>\n",
       "      <td>machine-3</td>\n",
       "      <td>250</td>\n",
       "      <td>35</td>\n",
       "      <td>30</td>\n",
       "      <td>10</td>\n",
       "      <td>1.0</td>\n",
       "      <td>0.7</td>\n",
       "    </tr>\n",
       "  </tbody>\n",
       "</table>\n",
       "</div>"
      ],
      "text/plain": [
       "     Machine  n_estimators  max_depth  min_samples_split  min_samples_leaf  \\\n",
       "2  machine-3           250         35                 30                10   \n",
       "\n",
       "   rate_aug  sample_aug  \n",
       "2       1.0         0.7  "
      ]
     },
     "execution_count": 118,
     "metadata": {},
     "output_type": "execute_result"
    }
   ],
   "source": [
    "parameters_df[parameters_df.Machine == 'machine-3']"
   ]
  },
  {
   "cell_type": "markdown",
   "metadata": {},
   "source": [
    "### Testing"
   ]
  },
  {
   "cell_type": "markdown",
   "metadata": {},
   "source": [
    "testing with three section Random forest"
   ]
  },
  {
   "cell_type": "markdown",
   "metadata": {},
   "source": [
    "bagging and consolidation with logistic regression"
   ]
  },
  {
   "cell_type": "code",
   "execution_count": 75,
   "metadata": {},
   "outputs": [],
   "source": [
    "validation_dataset = validation_dataset[ ['target'] + numerical_features]\n",
    "validation_dataset_distance = compute_mahalanobis_parts(validation_dataset, numerical_features, 20000,[True,True], means_train, cov_train )\n",
    "validation_dataset_scaled = scaler(validation_dataset_distance, scalerx)"
   ]
  },
  {
   "cell_type": "code",
   "execution_count": 76,
   "metadata": {},
   "outputs": [],
   "source": [
    "validation_section_1, validation_section_2, validation_section_3 = partitions(validation_dataset_scaled)"
   ]
  },
  {
   "cell_type": "code",
   "execution_count": 91,
   "metadata": {},
   "outputs": [],
   "source": [
    "target_vector = np.concatenate((validation_section_1.target.values, validation_section_2.target.values, validation_section_3.target.values), axis=None)"
   ]
  },
  {
   "cell_type": "markdown",
   "metadata": {},
   "source": [
    "testing with KNN"
   ]
  },
  {
   "cell_type": "code",
   "execution_count": 84,
   "metadata": {},
   "outputs": [],
   "source": [
    "predictions_val_section1 = weighting_models(models = modelsTrained_section_1 , features = features_to_use, data = validation_section_1, trained_model = weighted_section_1_model)\n",
    "predictions_val_section2 = weighting_models(models = modelsTrained_section_2 , features = features_to_use, data = validation_section_2, trained_model = weighted_section_2_model)\n",
    "predictions_val_section3 = weighting_models(models = modelsTrained_section_3 , features = features_to_use, data = validation_section_3, trained_model = weighted_section_3_model)\n",
    "vector_predictions = np.concatenate((predictions_val_section1, predictions_val_section2, predictions_val_section3), axis=None)"
   ]
  },
  {
   "cell_type": "code",
   "execution_count": 92,
   "metadata": {},
   "outputs": [
    {
     "data": {
      "text/plain": [
       "0.6474356824262131"
      ]
     },
     "execution_count": 92,
     "metadata": {},
     "output_type": "execute_result"
    }
   ],
   "source": [
    "roc_auc_score(target_vector, vector_predictions)"
   ]
  },
  {
   "cell_type": "code",
   "execution_count": 100,
   "metadata": {},
   "outputs": [
    {
     "data": {
      "image/png": "[encoded data removed]",
      "text/plain": [
       "<Figure size 432x288 with 1 Axes>"
      ]
     },
     "metadata": {},
     "output_type": "display_data"
    }
   ],
   "source": [
    "fpr, tpr, threshold = roc_curve(target_vector, vector_predictions)\n",
    "roc_auc = auc(fpr, tpr)\n",
    "\n",
    "plt.title('Receiver Operating Characteristic')\n",
    "plt.plot(fpr, tpr, 'b', label = 'AUC = %0.2f' % roc_auc)\n",
    "plt.legend(loc = 'lower right')\n",
    "plt.plot([0, 1], [0, 1],'r--')\n",
    "plt.xlim([0, 1])\n",
    "plt.ylim([0, 1])\n",
    "plt.ylabel('True Positive Rate')\n",
    "plt.xlabel('False Positive Rate')\n",
    "plt.show()"
   ]
  },
  {
   "cell_type": "code",
   "execution_count": 117,
   "metadata": {},
   "outputs": [],
   "source": [
    "def reconstructing_data(list_data, list_predictions, threshold = 0.15 ):\n",
    "    list_data_result = list()\n",
    "    for data,vector in zip(list_data, list_predictions):\n",
    "        data['target'] = np.where(vector > threshold, 1,0)\n",
    "        list_data_result.append(data)\n",
    "    return pd.concat(list_data_result).sort_index()"
   ]
  },
  {
   "cell_type": "code",
   "execution_count": 118,
   "metadata": {},
   "outputs": [],
   "source": [
    "result_validation = reconstructing_data([validation_section_1, validation_section_2, validation_section_3], [predictions_val_section1, predictions_val_section2, predictions_val_section3])"
   ]
  },
  {
   "cell_type": "code",
   "execution_count": 119,
   "metadata": {},
   "outputs": [
    {
     "data": {
      "text/html": [
       "<div>\n",
       "<style scoped>\n",
       "    .dataframe tbody tr th:only-of-type {\n",
       "        vertical-align: middle;\n",
       "    }\n",
       "\n",
       "    .dataframe tbody tr th {\n",
       "        vertical-align: top;\n",
       "    }\n",
       "\n",
       "    .dataframe thead th {\n",
       "        text-align: right;\n",
       "    }\n",
       "</style>\n",
       "<table border=\"1\" class=\"dataframe\">\n",
       "  <thead>\n",
       "    <tr style=\"text-align: right;\">\n",
       "      <th></th>\n",
       "      <th>target</th>\n",
       "      <th>var_4</th>\n",
       "      <th>var_12</th>\n",
       "      <th>var_46</th>\n",
       "      <th>var_78</th>\n",
       "      <th>var_81</th>\n",
       "      <th>var_110</th>\n",
       "      <th>var_152</th>\n",
       "      <th>var_175</th>\n",
       "      <th>var_183</th>\n",
       "      <th>var_199</th>\n",
       "      <th>mahalanobis</th>\n",
       "    </tr>\n",
       "  </thead>\n",
       "  <tbody>\n",
       "    <tr>\n",
       "      <th>0</th>\n",
       "      <td>0</td>\n",
       "      <td>0.316356</td>\n",
       "      <td>-1.508938</td>\n",
       "      <td>-0.052114</td>\n",
       "      <td>0.991112</td>\n",
       "      <td>-0.566750</td>\n",
       "      <td>1.704601</td>\n",
       "      <td>0.529051</td>\n",
       "      <td>-1.552655</td>\n",
       "      <td>0.961559</td>\n",
       "      <td>-0.394131</td>\n",
       "      <td>0.097856</td>\n",
       "    </tr>\n",
       "    <tr>\n",
       "      <th>1</th>\n",
       "      <td>0</td>\n",
       "      <td>0.547758</td>\n",
       "      <td>-0.665887</td>\n",
       "      <td>-0.065743</td>\n",
       "      <td>1.166426</td>\n",
       "      <td>-0.501709</td>\n",
       "      <td>0.793949</td>\n",
       "      <td>1.329829</td>\n",
       "      <td>0.363195</td>\n",
       "      <td>0.104885</td>\n",
       "      <td>0.913032</td>\n",
       "      <td>-1.087022</td>\n",
       "    </tr>\n",
       "    <tr>\n",
       "      <th>2</th>\n",
       "      <td>0</td>\n",
       "      <td>0.784832</td>\n",
       "      <td>-0.189335</td>\n",
       "      <td>-0.089332</td>\n",
       "      <td>-1.417152</td>\n",
       "      <td>-0.261905</td>\n",
       "      <td>0.469365</td>\n",
       "      <td>0.515881</td>\n",
       "      <td>1.674753</td>\n",
       "      <td>0.508151</td>\n",
       "      <td>0.412824</td>\n",
       "      <td>-0.898535</td>\n",
       "    </tr>\n",
       "    <tr>\n",
       "      <th>3</th>\n",
       "      <td>0</td>\n",
       "      <td>-0.309164</td>\n",
       "      <td>1.031272</td>\n",
       "      <td>-0.225729</td>\n",
       "      <td>-0.655046</td>\n",
       "      <td>2.067391</td>\n",
       "      <td>-0.157721</td>\n",
       "      <td>0.434366</td>\n",
       "      <td>-1.216692</td>\n",
       "      <td>0.766577</td>\n",
       "      <td>-0.010791</td>\n",
       "      <td>-0.481836</td>\n",
       "    </tr>\n",
       "    <tr>\n",
       "      <th>4</th>\n",
       "      <td>0</td>\n",
       "      <td>-0.105631</td>\n",
       "      <td>0.688470</td>\n",
       "      <td>0.593702</td>\n",
       "      <td>-0.615033</td>\n",
       "      <td>0.564877</td>\n",
       "      <td>2.033481</td>\n",
       "      <td>0.816830</td>\n",
       "      <td>0.090682</td>\n",
       "      <td>1.100095</td>\n",
       "      <td>-0.537944</td>\n",
       "      <td>-0.541638</td>\n",
       "    </tr>\n",
       "  </tbody>\n",
       "</table>\n",
       "</div>"
      ],
      "text/plain": [
       "   target     var_4    var_12    var_46    var_78    var_81   var_110  \\\n",
       "0       0  0.316356 -1.508938 -0.052114  0.991112 -0.566750  1.704601   \n",
       "1       0  0.547758 -0.665887 -0.065743  1.166426 -0.501709  0.793949   \n",
       "2       0  0.784832 -0.189335 -0.089332 -1.417152 -0.261905  0.469365   \n",
       "3       0 -0.309164  1.031272 -0.225729 -0.655046  2.067391 -0.157721   \n",
       "4       0 -0.105631  0.688470  0.593702 -0.615033  0.564877  2.033481   \n",
       "\n",
       "    var_152   var_175   var_183   var_199  mahalanobis  \n",
       "0  0.529051 -1.552655  0.961559 -0.394131     0.097856  \n",
       "1  1.329829  0.363195  0.104885  0.913032    -1.087022  \n",
       "2  0.515881  1.674753  0.508151  0.412824    -0.898535  \n",
       "3  0.434366 -1.216692  0.766577 -0.010791    -0.481836  \n",
       "4  0.816830  0.090682  1.100095 -0.537944    -0.541638  "
      ]
     },
     "execution_count": 119,
     "metadata": {},
     "output_type": "execute_result"
    }
   ],
   "source": [
    "result_validation.head()"
   ]
  },
  {
   "cell_type": "markdown",
   "metadata": {},
   "source": [
    "### Conclusions"
   ]
  },
  {
   "cell_type": "markdown",
   "metadata": {},
   "source": [
    "* Run only Random Forest , why??\n",
    "   * fast execution time\n",
    "   * not bad AUC\n",
    "* then go further with hiper parameter tunning"
   ]
  }
 ],
 "metadata": {
  "kernelspec": {
   "display_name": "Python 3",
   "language": "python",
   "name": "python3"
  },
  "language_info": {
   "codemirror_mode": {
    "name": "ipython",
    "version": 3
   },
   "file_extension": ".py",
   "mimetype": "text/x-python",
   "name": "python",
   "nbconvert_exporter": "python",
   "pygments_lexer": "ipython3",
   "version": "3.7.6"
  }
 },
 "nbformat": 4,
 "nbformat_minor": 4
}
